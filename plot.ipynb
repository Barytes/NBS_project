{
  "cells": [
    {
      "cell_type": "code",
      "execution_count": 1,
      "id": "b88c3854",
      "metadata": {
        "colab": {
          "base_uri": "https://localhost:8080/"
        },
        "id": "b88c3854",
        "outputId": "9bc5b66a-2e0c-4f39-96a6-81c234b65274"
      },
      "outputs": [
        {
          "name": "stdout",
          "output_type": "stream",
          "text": [
            "项目路径设置为: c:\\Users\\Barytes\\Desktop\\NBS_project\n"
          ]
        }
      ],
      "source": [
        "import os\n",
        "import sys\n",
        "\n",
        "def is_colab():\n",
        "    return 'google.colab' in sys.modules\n",
        "\n",
        "if is_colab():\n",
        "    from google.colab import drive\n",
        "    drive.mount('/content/drive')\n",
        "    PROJECT_PATH = '/content/drive/MyDrive/NBS_project/'\n",
        "else:\n",
        "    # 自动根据当前脚本定位项目根路径\n",
        "    PROJECT_PATH = os.path.abspath(os.path.join(os.path.dirname(__file__), '..')) \\\n",
        "        if '__file__' in globals() else os.getcwd()\n",
        "\n",
        "if PROJECT_PATH not in sys.path:\n",
        "    sys.path.append(PROJECT_PATH)\n",
        "\n",
        "print(f\"项目路径设置为: {PROJECT_PATH}\")\n",
        "\n",
        "from src.config import Config\n",
        "from src.main import create_MDs,create_ESP\n",
        "import src.baseline as baseline\n",
        "import src.NBS as NBS\n",
        "import src.model as model\n",
        "import numpy as np\n",
        "import matplotlib.pyplot as plt\n"
      ]
    },
    {
      "cell_type": "code",
      "execution_count": 2,
      "id": "A-Ux6J6NuV8P",
      "metadata": {
        "id": "A-Ux6J6NuV8P"
      },
      "outputs": [],
      "source": [
        "CONFIG_PATH = os.path.join(PROJECT_PATH, \"configs\", \"test.json\")\n",
        "config = Config(CONFIG_PATH)"
      ]
    },
    {
      "cell_type": "code",
      "execution_count": 5,
      "id": "nlkZcZOnu747",
      "metadata": {
        "colab": {
          "background_save": true,
          "base_uri": "https://localhost:8080/"
        },
        "collapsed": true,
        "id": "nlkZcZOnu747",
        "outputId": "35a60210-b9a9-476b-8fad-2268df40b1f6"
      },
      "outputs": [
        {
          "name": "stdout",
          "output_type": "stream",
          "text": [
            "=====Lambda 0: 10=====\n",
            "Uniform Baseline: SW=-116.8258475078558, Dmax=0.863787235021946\n",
            "Proportional Baseline: SW=-156.26590438792545, Dmax=0.8358805187036946\n",
            "Non-Cooperative Baseline: SW=-3.344380549993698, Dmax=0.5073115198596373\n"
          ]
        },
        {
          "name": "stderr",
          "output_type": "stream",
          "text": [
            "d:\\Program\\Anaconda\\envs\\tensorflow\\lib\\site-packages\\scipy\\optimize\\_hessian_update_strategy.py:182: UserWarning: delta_grad == 0.0. Check if the approximated function is linear. If the function is linear better results can be obtained by defining the Hessian as zero instead of using quasi-Newton approximations.\n",
            "  warn('delta_grad == 0.0. Check if the approximated '\n"
          ]
        },
        {
          "name": "stdout",
          "output_type": "stream",
          "text": [
            "求解失败：2 : `xtol` termination condition is satisfied.\n",
            "Contract Baseline: SW=-58.21032579123114, Dmax=0.21750138746613445\n",
            "SWM Baseline: SW=-1.723491215103783, Dmax=0.37945697605123124\n"
          ]
        },
        {
          "ename": "KeyboardInterrupt",
          "evalue": "",
          "output_type": "error",
          "traceback": [
            "\u001b[1;31m---------------------------------------------------------------------------\u001b[0m",
            "\u001b[1;31mKeyboardInterrupt\u001b[0m                         Traceback (most recent call last)",
            "\u001b[1;32m<ipython-input-5-554fa79ffc46>\u001b[0m in \u001b[0;36m<module>\u001b[1;34m\u001b[0m\n\u001b[0;32m     48\u001b[0m   \u001b[0mprint\u001b[0m\u001b[1;33m(\u001b[0m\u001b[1;34mf\"SWM Baseline: SW={model.social_welfare(esp, MDs, lam_swm, p_swm)}, Dmax={Dmax_swm}\"\u001b[0m\u001b[1;33m)\u001b[0m\u001b[1;33m\u001b[0m\u001b[1;33m\u001b[0m\u001b[0m\n\u001b[0;32m     49\u001b[0m   \u001b[0mlamb_admm\u001b[0m\u001b[1;33m,\u001b[0m \u001b[0mp_admm\u001b[0m\u001b[1;33m,\u001b[0m \u001b[0mDmax_admm\u001b[0m \u001b[1;33m=\u001b[0m \u001b[0mNBS\u001b[0m\u001b[1;33m.\u001b[0m\u001b[0mADMM\u001b[0m\u001b[1;33m(\u001b[0m\u001b[0mesp\u001b[0m\u001b[1;33m,\u001b[0m \u001b[0mMDs\u001b[0m\u001b[1;33m)\u001b[0m\u001b[1;33m\u001b[0m\u001b[1;33m\u001b[0m\u001b[0m\n\u001b[1;32m---> 50\u001b[1;33m   \u001b[0mr_admm\u001b[0m \u001b[1;33m=\u001b[0m \u001b[0mNBS\u001b[0m\u001b[1;33m.\u001b[0m\u001b[0mnegotiation\u001b[0m\u001b[1;33m(\u001b[0m\u001b[0mesp\u001b[0m\u001b[1;33m,\u001b[0m \u001b[0mMDs\u001b[0m\u001b[1;33m,\u001b[0m\u001b[0mlamb_admm\u001b[0m\u001b[1;33m,\u001b[0m \u001b[0mp_admm\u001b[0m\u001b[1;33m,\u001b[0m \u001b[0mDmax_admm\u001b[0m\u001b[1;33m)\u001b[0m\u001b[1;33m\u001b[0m\u001b[1;33m\u001b[0m\u001b[0m\n\u001b[0m\u001b[0;32m     51\u001b[0m   \u001b[0mprint\u001b[0m\u001b[1;33m(\u001b[0m\u001b[1;34mf\"ADMM Baseline: SW={model.social_welfare(esp, MDs, lamb_admm, p_admm)}, Dmax={Dmax_admm}\"\u001b[0m\u001b[1;33m)\u001b[0m\u001b[1;33m\u001b[0m\u001b[1;33m\u001b[0m\u001b[0m\n\u001b[0;32m     52\u001b[0m \u001b[1;33m\u001b[0m\u001b[0m\n",
            "\u001b[1;32mc:\\Users\\Barytes\\Desktop\\NBS_project\\src\\NBS.py\u001b[0m in \u001b[0;36mnegotiation\u001b[1;34m(ESP, MDs, lamb, p, Dmax)\u001b[0m\n\u001b[0;32m    230\u001b[0m         \u001b[0mr0\u001b[0m \u001b[1;33m=\u001b[0m \u001b[0mQ_star\u001b[0m\u001b[1;33m-\u001b[0m\u001b[0mESP\u001b[0m\u001b[1;33m.\u001b[0m\u001b[0momega_0\u001b[0m\u001b[1;33m/\u001b[0m\u001b[0mgamma\u001b[0m\u001b[1;33m\u001b[0m\u001b[1;33m\u001b[0m\u001b[0m\n\u001b[0;32m    231\u001b[0m         \u001b[0mr\u001b[0m \u001b[1;33m=\u001b[0m \u001b[0mnp\u001b[0m\u001b[1;33m.\u001b[0m\u001b[0masarray\u001b[0m\u001b[1;33m(\u001b[0m\u001b[1;33m[\u001b[0m\u001b[0mL_star\u001b[0m\u001b[1;33m[\u001b[0m\u001b[0mi\u001b[0m\u001b[1;33m]\u001b[0m\u001b[1;33m+\u001b[0m\u001b[0mmd\u001b[0m\u001b[1;33m.\u001b[0m\u001b[0momega_n\u001b[0m\u001b[1;33m/\u001b[0m\u001b[0mgamma\u001b[0m \u001b[1;32mfor\u001b[0m \u001b[1;33m(\u001b[0m\u001b[0mi\u001b[0m\u001b[1;33m,\u001b[0m\u001b[0mmd\u001b[0m\u001b[1;33m)\u001b[0m \u001b[1;32min\u001b[0m \u001b[0menumerate\u001b[0m\u001b[1;33m(\u001b[0m\u001b[0mMDs\u001b[0m\u001b[1;33m)\u001b[0m\u001b[1;33m]\u001b[0m\u001b[1;33m)\u001b[0m\u001b[1;33m\u001b[0m\u001b[1;33m\u001b[0m\u001b[0m\n\u001b[1;32m--> 232\u001b[1;33m         \u001b[1;32mif\u001b[0m \u001b[0mr0\u001b[0m \u001b[1;33m>\u001b[0m \u001b[0mnp\u001b[0m\u001b[1;33m.\u001b[0m\u001b[0msum\u001b[0m\u001b[1;33m(\u001b[0m\u001b[0mr\u001b[0m\u001b[1;33m)\u001b[0m\u001b[1;33m+\u001b[0m\u001b[0mepsilon\u001b[0m\u001b[1;33m:\u001b[0m\u001b[1;33m\u001b[0m\u001b[1;33m\u001b[0m\u001b[0m\n\u001b[0m\u001b[0;32m    233\u001b[0m             \u001b[0mgamma_high\u001b[0m \u001b[1;33m=\u001b[0m \u001b[0mgamma\u001b[0m\u001b[1;33m\u001b[0m\u001b[1;33m\u001b[0m\u001b[0m\n\u001b[0;32m    234\u001b[0m         \u001b[1;32melif\u001b[0m \u001b[0mr0\u001b[0m \u001b[1;33m<\u001b[0m \u001b[0mnp\u001b[0m\u001b[1;33m.\u001b[0m\u001b[0msum\u001b[0m\u001b[1;33m(\u001b[0m\u001b[0mr\u001b[0m\u001b[1;33m)\u001b[0m\u001b[1;33m-\u001b[0m\u001b[0mepsilon\u001b[0m\u001b[1;33m:\u001b[0m\u001b[1;33m\u001b[0m\u001b[1;33m\u001b[0m\u001b[0m\n",
            "\u001b[1;31mKeyboardInterrupt\u001b[0m: "
          ]
        }
      ],
      "source": [
        "# Experiment 1: Performance of Proposed Algorithm\n",
        "\n",
        "# num_mds = [10, 20, 30, 40, 50]\n",
        "lambda0 = [10, 20, 30, 40, 50]\n",
        "# lambda0 = [50, 60, 70, 80, 90, 100, 110, 120, 130, 140, 150]\n",
        "sw_uni, sw_pro, sw_non, sw_con, sw_swm, sw_admm = [],[],[],[],[],[]\n",
        "Dm_uni, Dm_pro, Dm_non, Dm_con, Dm_swm, Dm_admm = [],[],[],[],[],[]\n",
        "baselines = ['Uni', 'Pro', 'Non', 'Con', 'Opt', 'ADMM']\n",
        "for l0 in lambda0:\n",
        "  config.params[\"lambda0\"] = l0\n",
        "  print(f\"=====Lambda 0: {l0}=====\")\n",
        "  \n",
        "  seed = 42\n",
        "  MDs = create_MDs(config, seed=seed)\n",
        "  esp = create_ESP(config, seed=seed)\n",
        "  # np.random.shuffle(MDs)  # Shuffle the MDs\n",
        "  # for md in MDs[:n]:\n",
        "  #   print(md.param)\n",
        "  # print(esp.param)\n",
        "\n",
        "  T = 10\n",
        "  N = len(MDs)\n",
        "  lam_uni, p_uni, r_uni, Dmax_uni = np.zeros(N),np.zeros(N),np.zeros(N),0\n",
        "  for _ in range(T):\n",
        "      l,p,r,d = baseline.uniform_baseline(esp, MDs,43)\n",
        "      lam_uni += l\n",
        "      p_uni += p\n",
        "      r_uni += r\n",
        "      Dmax_uni += d\n",
        "  lam_uni, p_uni, r_uni, Dmax_uni = lam_uni/T, p_uni/T, r_uni/T, Dmax_uni/T\n",
        "  print(f\"Uniform Baseline: SW={model.social_welfare(esp, MDs, lam_uni, p_uni)}, Dmax={Dmax_uni}\")\n",
        "\n",
        "  lam_pro, p_pro, r_pro, Dmax_pro = np.zeros(N),np.zeros(N),np.zeros(N),0\n",
        "  for _ in range(T):\n",
        "      l,p,r,d = baseline.proportional_baseline(esp,MDs,43)\n",
        "      lam_pro += l\n",
        "      p_pro += p\n",
        "      r_pro += r\n",
        "      Dmax_pro += d\n",
        "  lam_pro, p_pro, r_pro, Dmax_pro = lam_pro/T, p_pro/T, r_pro/T, Dmax_pro/T\n",
        "  print(f\"Proportional Baseline: SW={model.social_welfare(esp, MDs, lam_pro, p_pro)}, Dmax={Dmax_pro}\")\n",
        "\n",
        "  lam_non, p_non, r_non, Dmax_non = baseline.non_cooperative_baseline(esp,MDs)\n",
        "  print(f\"Non-Cooperative Baseline: SW={model.social_welfare(esp, MDs, lam_non, p_non)}, Dmax={Dmax_non}\")\n",
        "  lam_con, p_con, r_con, Dmax_con = baseline.contract_baseline(esp,MDs)\n",
        "  print(f\"Contract Baseline: SW={model.social_welfare(esp, MDs, lam_con, p_con)}, Dmax={Dmax_con}\")\n",
        "  lam_swm, p_swm, Dmax_swm = baseline.social_welfare_maximization(esp, MDs)\n",
        "  print(f\"SWM Baseline: SW={model.social_welfare(esp, MDs, lam_swm, p_swm)}, Dmax={Dmax_swm}\")\n",
        "  lamb_admm, p_admm, Dmax_admm = NBS.ADMM(esp, MDs)\n",
        "  r_admm = NBS.negotiation(esp, MDs,lamb_admm, p_admm, Dmax_admm)\n",
        "  print(f\"ADMM Baseline: SW={model.social_welfare(esp, MDs, lamb_admm, p_admm)}, Dmax={Dmax_admm}\")\n",
        "\n",
        "  sw_uni.append(model.social_welfare(esp, MDs, lam_uni, p_uni))\n",
        "  sw_pro.append(model.social_welfare(esp, MDs, lam_pro, p_pro))\n",
        "  sw_non.append(model.social_welfare(esp, MDs, lam_non, p_non))\n",
        "  sw_con.append(model.social_welfare(esp, MDs, lam_con, p_con))\n",
        "  sw_swm.append(model.social_welfare(esp, MDs, lam_swm, p_swm))\n",
        "  sw_admm.append(model.social_welfare(esp, MDs, lamb_admm, p_admm))\n",
        "  Dm_uni.append(Dmax_uni)\n",
        "  Dm_pro.append(Dmax_pro)\n",
        "  Dm_non.append(Dmax_non)\n",
        "  Dm_con.append(Dmax_con)\n",
        "  Dm_swm.append(Dmax_swm)\n",
        "  Dm_admm.append(Dmax_admm)\n",
        "  print(\"===================\")\n",
        "sw = [sw_uni, sw_pro, sw_non, sw_con, sw_swm, sw_admm]\n",
        "Dm = [Dm_uni, Dm_pro, Dm_non, Dm_con, Dm_swm, Dm_admm]\n"
      ]
    },
    {
      "cell_type": "code",
      "execution_count": 4,
      "id": "0e374330",
      "metadata": {},
      "outputs": [
        {
          "ename": "NameError",
          "evalue": "name 'sw' is not defined",
          "output_type": "error",
          "traceback": [
            "\u001b[1;31m---------------------------------------------------------------------------\u001b[0m",
            "\u001b[1;31mNameError\u001b[0m                                 Traceback (most recent call last)",
            "\u001b[1;32m<ipython-input-4-0d6352d3e59d>\u001b[0m in \u001b[0;36m<module>\u001b[1;34m\u001b[0m\n\u001b[0;32m      1\u001b[0m \u001b[0mplt\u001b[0m\u001b[1;33m.\u001b[0m\u001b[0mfigure\u001b[0m\u001b[1;33m(\u001b[0m\u001b[0mfigsize\u001b[0m\u001b[1;33m=\u001b[0m\u001b[1;33m(\u001b[0m\u001b[1;36m10\u001b[0m\u001b[1;33m,\u001b[0m \u001b[1;36m6\u001b[0m\u001b[1;33m)\u001b[0m\u001b[1;33m)\u001b[0m \u001b[1;31m# 设置图的大小\u001b[0m\u001b[1;33m\u001b[0m\u001b[1;33m\u001b[0m\u001b[0m\n\u001b[1;32m----> 2\u001b[1;33m \u001b[1;32mfor\u001b[0m \u001b[0mi\u001b[0m\u001b[1;33m,\u001b[0m \u001b[0mdata\u001b[0m \u001b[1;32min\u001b[0m \u001b[0menumerate\u001b[0m\u001b[1;33m(\u001b[0m\u001b[0msw\u001b[0m\u001b[1;33m)\u001b[0m\u001b[1;33m:\u001b[0m\u001b[1;33m\u001b[0m\u001b[1;33m\u001b[0m\u001b[0m\n\u001b[0m\u001b[0;32m      3\u001b[0m     \u001b[0mplt\u001b[0m\u001b[1;33m.\u001b[0m\u001b[0mplot\u001b[0m\u001b[1;33m(\u001b[0m\u001b[0mlambda0\u001b[0m\u001b[1;33m,\u001b[0m \u001b[0mdata\u001b[0m\u001b[1;33m,\u001b[0m \u001b[0mmarker\u001b[0m\u001b[1;33m=\u001b[0m\u001b[1;34m'o'\u001b[0m\u001b[1;33m,\u001b[0m \u001b[0mlabel\u001b[0m\u001b[1;33m=\u001b[0m\u001b[1;34mf'SW_{baselines[i]}'\u001b[0m\u001b[1;33m)\u001b[0m\u001b[1;33m\u001b[0m\u001b[1;33m\u001b[0m\u001b[0m\n\u001b[0;32m      4\u001b[0m \u001b[1;33m\u001b[0m\u001b[0m\n\u001b[0;32m      5\u001b[0m \u001b[0mplt\u001b[0m\u001b[1;33m.\u001b[0m\u001b[0mtitle\u001b[0m\u001b[1;33m(\u001b[0m\u001b[1;34m'Social Welfare vs. $lambda_0$'\u001b[0m\u001b[1;33m)\u001b[0m\u001b[1;33m\u001b[0m\u001b[1;33m\u001b[0m\u001b[0m\n",
            "\u001b[1;31mNameError\u001b[0m: name 'sw' is not defined"
          ]
        },
        {
          "data": {
            "text/plain": [
              "<Figure size 720x432 with 0 Axes>"
            ]
          },
          "metadata": {},
          "output_type": "display_data"
        }
      ],
      "source": [
        "plt.figure(figsize=(10, 6)) # 设置图的大小\n",
        "for i, data in enumerate(sw):\n",
        "    plt.plot(lambda0, data, marker='o', label=f'SW_{baselines[i]}')\n",
        "\n",
        "plt.title('Social Welfare vs. $lambda_0$')\n",
        "plt.xlabel('$lambda_0$')\n",
        "plt.ylabel('Social Welfare')\n",
        "plt.xticks(lambda0) # 确保 N 值在横轴上清晰显示\n",
        "plt.grid(True)\n",
        "plt.legend()\n",
        "plt.show()\n",
        "\n",
        "plt.figure(figsize=(10, 6)) # 设置图的大小\n",
        "for i, data in enumerate(Dm):\n",
        "    plt.plot(lambda0, data, marker='o', label=f'Delay_{baselines[i]}')\n",
        "\n",
        "plt.title('Delay vs. $lambda_0$')\n",
        "plt.xlabel('$lambda_0$')\n",
        "plt.ylabel('Delay')\n",
        "plt.xticks(lambda0) # 确保 N 值在横轴上清晰显示\n",
        "plt.grid(True)\n",
        "plt.legend()\n",
        "plt.show()"
      ]
    },
    {
      "cell_type": "code",
      "execution_count": 5,
      "id": "909afd49",
      "metadata": {},
      "outputs": [
        {
          "name": "stdout",
          "output_type": "stream",
          "text": [
            "{'lambda0': 70, 'D0': 1, 'theta': 2, 'o': 3, 'omega_0': 2, 's': 0.1, 'l': 0.8}\n"
          ]
        }
      ],
      "source": [
        "  # for md in MDs[:n]:\n",
        "  #   print(md.param)\n",
        "print(esp.param)"
      ]
    },
    {
      "cell_type": "code",
      "execution_count": null,
      "id": "SIK3sOSl40h-",
      "metadata": {
        "id": "SIK3sOSl40h-"
      },
      "outputs": [],
      "source": [
        "# Experiment 2: Comparison of NBS and Non-Cooperative"
      ]
    },
    {
      "cell_type": "code",
      "execution_count": null,
      "id": "uZ0_yszH6xFC",
      "metadata": {
        "id": "uZ0_yszH6xFC"
      },
      "outputs": [],
      "source": [
        "# Experiment 3: Impact of Bargaining Power"
      ]
    },
    {
      "cell_type": "code",
      "execution_count": null,
      "id": "ZeT5n04h7YFK",
      "metadata": {
        "id": "ZeT5n04h7YFK"
      },
      "outputs": [],
      "source": [
        "# Experiment 4: Impact of Task Workload"
      ]
    },
    {
      "cell_type": "code",
      "execution_count": null,
      "id": "Z8wa3TT2Kl_n",
      "metadata": {
        "id": "Z8wa3TT2Kl_n"
      },
      "outputs": [],
      "source": [
        "# Experiment 5: Impact of QoS Requirement"
      ]
    }
  ],
  "metadata": {
    "colab": {
      "include_colab_link": true,
      "provenance": []
    },
    "kernelspec": {
      "display_name": "tensorflow",
      "language": "python",
      "name": "python3"
    },
    "language_info": {
      "codemirror_mode": {
        "name": "ipython",
        "version": 3
      },
      "file_extension": ".py",
      "mimetype": "text/x-python",
      "name": "python",
      "nbconvert_exporter": "python",
      "pygments_lexer": "ipython3",
      "version": "3.8.5"
    }
  },
  "nbformat": 4,
  "nbformat_minor": 5
}
