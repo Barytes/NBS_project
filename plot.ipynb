{
  "cells": [
    {
      "cell_type": "markdown",
      "metadata": {
        "id": "view-in-github",
        "colab_type": "text"
      },
      "source": [
        "<a href=\"https://colab.research.google.com/github/Barytes/NBS_project/blob/Plot/plot.ipynb\" target=\"_parent\"><img src=\"https://colab.research.google.com/assets/colab-badge.svg\" alt=\"Open In Colab\"/></a>"
      ]
    },
    {
      "cell_type": "code",
      "execution_count": null,
      "id": "b88c3854",
      "metadata": {
        "colab": {
          "base_uri": "https://localhost:8080/"
        },
        "id": "b88c3854",
        "outputId": "4cb51450-b7f2-433d-a5f1-dc34c801942d"
      },
      "outputs": [
        {
          "output_type": "stream",
          "name": "stdout",
          "text": [
            "Drive already mounted at /content/drive; to attempt to forcibly remount, call drive.mount(\"/content/drive\", force_remount=True).\n",
            "项目路径设置为: /content/drive/MyDrive/NBS_project/\n"
          ]
        }
      ],
      "source": [
        "import os\n",
        "import sys\n",
        "\n",
        "def is_colab():\n",
        "    return 'google.colab' in sys.modules\n",
        "\n",
        "if is_colab():\n",
        "    from google.colab import drive\n",
        "    drive.mount('/content/drive')\n",
        "    PROJECT_PATH = '/content/drive/MyDrive/NBS_project/'\n",
        "else:\n",
        "    # 自动根据当前脚本定位项目根路径\n",
        "    PROJECT_PATH = os.path.abspath(os.path.join(os.path.dirname(__file__), '..')) \\\n",
        "        if '__file__' in globals() else os.getcwd()\n",
        "\n",
        "if PROJECT_PATH not in sys.path:\n",
        "    sys.path.append(PROJECT_PATH)\n",
        "\n",
        "print(f\"项目路径设置为: {PROJECT_PATH}\")\n",
        "\n",
        "from src.config import Config\n",
        "from src.main import create_MDs,create_ESP\n",
        "import src.baseline as baseline\n",
        "import src.NBS as NBS\n",
        "import src.model as model\n",
        "import numpy as np\n"
      ]
    },
    {
      "cell_type": "code",
      "source": [
        "CONFIG_PATH = os.path.join(PROJECT_PATH, \"configs\", \"test.json\")\n",
        "config = Config(CONFIG_PATH)"
      ],
      "metadata": {
        "colab": {
          "base_uri": "https://localhost:8080/"
        },
        "id": "A-Ux6J6NuV8P",
        "outputId": "791ed7fd-1529-411c-8954-a012ff55d4f7"
      },
      "id": "A-Ux6J6NuV8P",
      "execution_count": null,
      "outputs": [
        {
          "output_type": "stream",
          "name": "stdout",
          "text": [
            "{'s': 0.1, 'l': 0.8, 'cn': 0.900369449497976, 'Fn': 1.184383282690447, 'kn': 0.6414529928884467, 'omega_n': 1, 'Rn': np.float64(4.13472934445215)}\n",
            "{'s': 0.1, 'l': 0.8, 'cn': 1.0415462755795253, 'Fn': 1.7637226511189565, 'kn': 0.6348125738082766, 'omega_n': 1, 'Rn': np.float64(10.248845012378245)}\n",
            "{'s': 0.1, 'l': 0.8, 'cn': 0.932903940019097, 'Fn': 2.1321345406869066, 'kn': 0.24902581391857953, 'omega_n': 1, 'Rn': np.float64(6.716553285779903)}\n",
            "{'s': 0.1, 'l': 0.8, 'cn': 0.8278081871246422, 'Fn': 3.8199302863134226, 'kn': 0.35174154718363215, 'omega_n': 1, 'Rn': np.float64(9.231363952354403)}\n",
            "{'s': 0.1, 'l': 0.8, 'cn': 1.0432905838092195, 'Fn': 3.913825949541608, 'kn': 0.43740643005316393, 'omega_n': 1, 'Rn': np.float64(7.948101841125762)}\n",
            "{'s': 0.1, 'l': 0.8, 'cn': 0.9766658416311175, 'Fn': 2.4920855793255217, 'kn': 0.5668848317824697, 'omega_n': 1, 'Rn': np.float64(3.859406010253179)}\n",
            "{'s': 0.1, 'l': 0.8, 'cn': 0.833279172556006, 'Fn': 1.5048957788256199, 'kn': 0.3583132239990442, 'omega_n': 1, 'Rn': np.float64(7.130152926250668)}\n",
            "{'s': 0.1, 'l': 0.8, 'cn': 0.9124006604968397, 'Fn': 3.328898592922507, 'kn': 0.7980808482912902, 'omega_n': 1, 'Rn': np.float64(10.025209575464762)}\n",
            "{'s': 0.1, 'l': 0.8, 'cn': 0.9386488524373078, 'Fn': 3.8860025666261127, 'kn': 0.3831346994622822, 'omega_n': 1, 'Rn': np.float64(8.282993965974107)}\n",
            "{'s': 0.1, 'l': 0.8, 'cn': 0.9130652826147337, 'Fn': 4.305125863998515, 'kn': 0.7994973886137485, 'omega_n': 1, 'Rn': np.float64(5.7242544373473425)}\n",
            "{'lambda0': 50, 'D0': 1, 'theta': 2, 'o': 3, 'omega_0': 2, 's': 0.1, 'l': 0.8}\n"
          ]
        }
      ]
    },
    {
      "cell_type": "code",
      "source": [
        "# Experiment 1: Performance of Proposed Algorithm\n",
        "\n",
        "# Create MDs with a specific seed for reproducibility\n",
        "seed = 41\n",
        "MDs = create_MDs(config, seed=seed)\n",
        "# np.random.shuffle(MDs)  # Shuffle the MDs\n",
        "    print(md.param)\n",
        "\n",
        "esp = create_ESP(config, seed=seed)\n",
        "print(esp.param)"
      ],
      "metadata": {
        "id": "nlkZcZOnu747"
      },
      "id": "nlkZcZOnu747",
      "execution_count": null,
      "outputs": []
    },
    {
      "cell_type": "code",
      "source": [
        "# Experiment 2: Comparison of NBS and Non-Cooperative"
      ],
      "metadata": {
        "id": "SIK3sOSl40h-"
      },
      "id": "SIK3sOSl40h-",
      "execution_count": null,
      "outputs": []
    },
    {
      "cell_type": "code",
      "source": [
        "# Experiment 3: Impact of Bargaining Power"
      ],
      "metadata": {
        "id": "uZ0_yszH6xFC"
      },
      "id": "uZ0_yszH6xFC",
      "execution_count": null,
      "outputs": []
    },
    {
      "cell_type": "code",
      "source": [
        "# Experiment 4: Impact of other parameters"
      ],
      "metadata": {
        "id": "ZeT5n04h7YFK"
      },
      "id": "ZeT5n04h7YFK",
      "execution_count": null,
      "outputs": []
    },
    {
      "cell_type": "code",
      "source": [
        "!pwd"
      ],
      "metadata": {
        "colab": {
          "base_uri": "https://localhost:8080/"
        },
        "id": "hnc07BR6JueC",
        "outputId": "2deac2f0-8401-4a55-c8f1-1ec9ddbeca8c"
      },
      "id": "hnc07BR6JueC",
      "execution_count": 5,
      "outputs": [
        {
          "output_type": "stream",
          "name": "stdout",
          "text": [
            "/content\n"
          ]
        }
      ]
    },
    {
      "cell_type": "code",
      "source": [
        "%cd '/content/drive/MyDrive/NBS_project'"
      ],
      "metadata": {
        "colab": {
          "base_uri": "https://localhost:8080/"
        },
        "id": "oCpBlxRBJ1KX",
        "outputId": "3d8d150c-21ad-499e-9f24-2b8193ed92b0"
      },
      "id": "oCpBlxRBJ1KX",
      "execution_count": 6,
      "outputs": [
        {
          "output_type": "stream",
          "name": "stdout",
          "text": [
            "/content/drive/MyDrive/NBS_project\n"
          ]
        }
      ]
    },
    {
      "cell_type": "code",
      "source": [
        "!git push origin plot"
      ],
      "metadata": {
        "colab": {
          "base_uri": "https://localhost:8080/"
        },
        "id": "w1LsQTT5J67r",
        "outputId": "ca0fefcc-9c7e-4720-d8cb-64864c08e42b"
      },
      "id": "w1LsQTT5J67r",
      "execution_count": 8,
      "outputs": [
        {
          "output_type": "stream",
          "name": "stdout",
          "text": [
            "error: src refspec plot does not match any\n",
            "\u001b[31merror: failed to push some refs to 'https://github.com/Barytes/NBS_project.git'\n",
            "\u001b[m"
          ]
        }
      ]
    }
  ],
  "metadata": {
    "language_info": {
      "name": "python"
    },
    "colab": {
      "provenance": [],
      "include_colab_link": true
    },
    "kernelspec": {
      "name": "python3",
      "display_name": "Python 3"
    }
  },
  "nbformat": 4,
  "nbformat_minor": 5
}