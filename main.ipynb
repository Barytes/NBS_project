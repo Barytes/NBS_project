{
 "cells": [
  {
   "cell_type": "code",
   "execution_count": 1,
   "metadata": {
    "colab": {
     "base_uri": "https://localhost:8080/"
    },
    "executionInfo": {
     "elapsed": 20091,
     "status": "ok",
     "timestamp": 1750816088466,
     "user": {
      "displayName": "Beiyan Liu",
      "userId": "04431032521835523381"
     },
     "user_tz": -480
    },
    "id": "GH444lHrKjIn",
    "outputId": "00152aeb-e0d4-49c7-eab5-7fce807f247e"
   },
   "outputs": [
    {
     "name": "stdout",
     "output_type": "stream",
     "text": [
      "项目路径设置为: c:\\Users\\Barytes\\Desktop\\NBS_project\n"
     ]
    }
   ],
   "source": [
    "import os\n",
    "import sys\n",
    "\n",
    "def is_colab():\n",
    "    return 'google.colab' in sys.modules\n",
    "\n",
    "if is_colab():\n",
    "    from google.colab import drive\n",
    "    drive.mount('/content/drive')\n",
    "    PROJECT_PATH = '/content/drive/MyDrive/NBS_Project'\n",
    "else:\n",
    "    # 自动根据当前脚本定位项目根路径\n",
    "    PROJECT_PATH = os.path.abspath(os.path.join(os.path.dirname(__file__), '..')) \\\n",
    "        if '__file__' in globals() else os.getcwd()\n",
    "\n",
    "if PROJECT_PATH not in sys.path:\n",
    "    sys.path.append(PROJECT_PATH)\n",
    "\n",
    "print(f\"项目路径设置为: {PROJECT_PATH}\")"
   ]
  },
  {
   "cell_type": "code",
   "execution_count": 2,
   "metadata": {},
   "outputs": [
    {
     "name": "stdout",
     "output_type": "stream",
     "text": [
      "{'s': 1, 'l': 0.8, 'cn': 0.039963209507789, 'Fn': 4.901428612819832, 'kn': 0.6659969709057025, 'omega_n': 1, 'Rn': 9.270270025833746}\n",
      "{'s': 1, 'l': 0.8, 'cn': 0.02247956162689621, 'Fn': 3.116167224336399, 'kn': 0.7330880728874676, 'omega_n': 1, 'Rn': 7.653352487012544}\n",
      "{'s': 1, 'l': 0.8, 'cn': 0.011646759543664197, 'Fn': 4.939819704323988, 'kn': 0.7162213204002108, 'omega_n': 1, 'Rn': 6.796707114575109}\n",
      "{'s': 1, 'l': 0.8, 'cn': 0.024672360788274707, 'Fn': 3.6084844859190754, 'kn': 0.5623782158161189, 'omega_n': 1, 'Rn': 7.979027325089509}\n",
      "{'s': 1, 'l': 0.8, 'cn': 0.05894823157779036, 'Fn': 3.278987721304084, 'kn': 0.44607232426760907, 'omega_n': 1, 'Rn': 7.104438488824009}\n",
      "{'lambda0': 20, 'D0': 4, 'theta': 5, 'o': 10, 'omega_0': 2}\n"
     ]
    }
   ],
   "source": [
    "from src.config import Config\n",
    "from src.main import create_MDs,create_ESP\n",
    "import src.baseline as baseline\n",
    "import src.NBS as NBS\n",
    "\n",
    "CONFIG_PATH = os.path.join(PROJECT_PATH, \"configs\", \"test.json\")\n",
    "config = Config(CONFIG_PATH)\n",
    "\n",
    "# Create MDs with a specific seed for reproducibility\n",
    "seed = 42\n",
    "MDs = create_MDs(config, seed=seed)\n",
    "# np.random.shuffle(MDs)  # Shuffle the MDs\n",
    "\n",
    "for md in MDs:\n",
    "    print(md.param)\n",
    "\n",
    "esp = create_ESP(config, seed=seed)\n",
    "print(esp.param)"
   ]
  },
  {
   "cell_type": "code",
   "execution_count": 3,
   "metadata": {},
   "outputs": [
    {
     "ename": "ValueError",
     "evalue": "Whenever the gradient is estimated via finite-differences, we require the Hessian to be estimated using one of the quasi-Newton strategies.",
     "output_type": "error",
     "traceback": [
      "\u001b[1;31m---------------------------------------------------------------------------\u001b[0m",
      "\u001b[1;31mValueError\u001b[0m                                Traceback (most recent call last)",
      "\u001b[1;32m<ipython-input-3-b3eb3c5f9318>\u001b[0m in \u001b[0;36m<module>\u001b[1;34m()\u001b[0m\n\u001b[1;32m----> 1\u001b[1;33m \u001b[0mlam_swm\u001b[0m\u001b[1;33m,\u001b[0m \u001b[0mp_swm\u001b[0m\u001b[1;33m,\u001b[0m \u001b[0mDmax_swm\u001b[0m \u001b[1;33m=\u001b[0m \u001b[0mbaseline\u001b[0m\u001b[1;33m.\u001b[0m\u001b[0msocial_welfare_maximization\u001b[0m\u001b[1;33m(\u001b[0m\u001b[0mesp\u001b[0m\u001b[1;33m,\u001b[0m \u001b[0mMDs\u001b[0m\u001b[1;33m)\u001b[0m\u001b[1;33m\u001b[0m\u001b[0m\n\u001b[0m\u001b[0;32m      2\u001b[0m \u001b[0mprint\u001b[0m\u001b[1;33m(\u001b[0m\u001b[1;34mf\"SWM λ: {lam_swm}\"\u001b[0m\u001b[1;33m)\u001b[0m\u001b[1;33m\u001b[0m\u001b[0m\n\u001b[0;32m      3\u001b[0m \u001b[0mprint\u001b[0m\u001b[1;33m(\u001b[0m\u001b[1;34mf\"SWM p: {p_swm}\"\u001b[0m\u001b[1;33m)\u001b[0m\u001b[1;33m\u001b[0m\u001b[0m\n\u001b[0;32m      4\u001b[0m \u001b[0mprint\u001b[0m\u001b[1;33m(\u001b[0m\u001b[1;34mf\"SWM Dmax: {Dmax_swm}\"\u001b[0m\u001b[1;33m)\u001b[0m\u001b[1;33m\u001b[0m\u001b[0m\n\u001b[0;32m      5\u001b[0m \u001b[1;31m# r_swm = NBS.negotiation(esp, MDs,lam_swm, p_swm, Dmax_swm)\u001b[0m\u001b[1;33m\u001b[0m\u001b[1;33m\u001b[0m\u001b[0m\n",
      "\u001b[1;32mc:\\Users\\Barytes\\Desktop\\NBS_project\\src\\baseline.py\u001b[0m in \u001b[0;36msocial_welfare_maximization\u001b[1;34m(ESP, MDs)\u001b[0m\n\u001b[0;32m    140\u001b[0m             \u001b[1;34m'gtol'\u001b[0m\u001b[1;33m:\u001b[0m       \u001b[1;36m1e-9\u001b[0m\u001b[1;33m,\u001b[0m    \u001b[1;31m# 梯度收敛\u001b[0m\u001b[1;33m\u001b[0m\u001b[0m\n\u001b[0;32m    141\u001b[0m             \u001b[1;34m'barrier_tol'\u001b[0m\u001b[1;33m:\u001b[0m\u001b[1;36m1e-9\u001b[0m\u001b[1;33m,\u001b[0m    \u001b[1;31m# 障碍收敛\u001b[0m\u001b[1;33m\u001b[0m\u001b[0m\n\u001b[1;32m--> 142\u001b[1;33m             \u001b[1;34m'maxiter'\u001b[0m\u001b[1;33m:\u001b[0m    \u001b[1;36m2000\u001b[0m\u001b[1;33m\u001b[0m\u001b[0m\n\u001b[0m\u001b[0;32m    143\u001b[0m         }\n\u001b[0;32m    144\u001b[0m     )\n",
      "\u001b[1;32md:\\Program\\Anaconda\\lib\\site-packages\\scipy\\optimize\\_minimize.py\u001b[0m in \u001b[0;36mminimize\u001b[1;34m(fun, x0, args, method, jac, hess, hessp, bounds, constraints, tol, callback, options)\u001b[0m\n\u001b[0;32m    613\u001b[0m         return _minimize_trustregion_constr(fun, x0, args, jac, hess, hessp,\n\u001b[0;32m    614\u001b[0m                                             \u001b[0mbounds\u001b[0m\u001b[1;33m,\u001b[0m \u001b[0mconstraints\u001b[0m\u001b[1;33m,\u001b[0m\u001b[1;33m\u001b[0m\u001b[0m\n\u001b[1;32m--> 615\u001b[1;33m                                             callback=callback, **options)\n\u001b[0m\u001b[0;32m    616\u001b[0m     \u001b[1;32melif\u001b[0m \u001b[0mmeth\u001b[0m \u001b[1;33m==\u001b[0m \u001b[1;34m'dogleg'\u001b[0m\u001b[1;33m:\u001b[0m\u001b[1;33m\u001b[0m\u001b[0m\n\u001b[0;32m    617\u001b[0m         return _minimize_dogleg(fun, x0, args, jac, hess,\n",
      "\u001b[1;32md:\\Program\\Anaconda\\lib\\site-packages\\scipy\\optimize\\_trustregion_constr\\minimize_trustregion_constr.py\u001b[0m in \u001b[0;36m_minimize_trustregion_constr\u001b[1;34m(fun, x0, args, grad, hess, hessp, bounds, constraints, xtol, gtol, barrier_tol, sparse_jacobian, callback, maxiter, verbose, finite_diff_rel_step, initial_constr_penalty, initial_tr_radius, initial_barrier_parameter, initial_barrier_tolerance, factorization_method, disp)\u001b[0m\n\u001b[0;32m    321\u001b[0m     \u001b[1;31m# Define Objective Funciton\u001b[0m\u001b[1;33m\u001b[0m\u001b[1;33m\u001b[0m\u001b[0m\n\u001b[0;32m    322\u001b[0m     objective = ScalarFunction(fun, x0, args, grad, hess,\n\u001b[1;32m--> 323\u001b[1;33m                                finite_diff_rel_step, finite_diff_bounds)\n\u001b[0m\u001b[0;32m    324\u001b[0m \u001b[1;33m\u001b[0m\u001b[0m\n\u001b[0;32m    325\u001b[0m     \u001b[1;31m# Put constraints in list format when needed\u001b[0m\u001b[1;33m\u001b[0m\u001b[1;33m\u001b[0m\u001b[0m\n",
      "\u001b[1;32md:\\Program\\Anaconda\\lib\\site-packages\\scipy\\optimize\\_differentiable_functions.py\u001b[0m in \u001b[0;36m__init__\u001b[1;34m(self, fun, x0, args, grad, hess, finite_diff_rel_step, finite_diff_bounds)\u001b[0m\n\u001b[0;32m     41\u001b[0m \u001b[1;33m\u001b[0m\u001b[0m\n\u001b[0;32m     42\u001b[0m         \u001b[1;32mif\u001b[0m \u001b[0mgrad\u001b[0m \u001b[1;32min\u001b[0m \u001b[0mFD_METHODS\u001b[0m \u001b[1;32mand\u001b[0m \u001b[0mhess\u001b[0m \u001b[1;32min\u001b[0m \u001b[0mFD_METHODS\u001b[0m\u001b[1;33m:\u001b[0m\u001b[1;33m\u001b[0m\u001b[0m\n\u001b[1;32m---> 43\u001b[1;33m             raise ValueError(\"Whenever the gradient is estimated via \"\n\u001b[0m\u001b[0;32m     44\u001b[0m                              \u001b[1;34m\"finite-differences, we require the Hessian \"\u001b[0m\u001b[1;33m\u001b[0m\u001b[0m\n\u001b[0;32m     45\u001b[0m                              \u001b[1;34m\"to be estimated using one of the \"\u001b[0m\u001b[1;33m\u001b[0m\u001b[0m\n",
      "\u001b[1;31mValueError\u001b[0m: Whenever the gradient is estimated via finite-differences, we require the Hessian to be estimated using one of the quasi-Newton strategies."
     ]
    }
   ],
   "source": [
    "lam_swm, p_swm, Dmax_swm = baseline.social_welfare_maximization(esp, MDs)\n",
    "print(f\"SWM λ: {lam_swm}\")\n",
    "print(f\"SWM p: {p_swm}\")  \n",
    "print(f\"SWM Dmax: {Dmax_swm}\")\n",
    "# r_swm = NBS.negotiation(esp, MDs,lam_swm, p_swm, Dmax_swm)\n",
    "# print(f\"SWM r: {r_swm}\")"
   ]
  },
  {
   "cell_type": "code",
   "execution_count": 5,
   "metadata": {},
   "outputs": [
    {
     "name": "stdout",
     "output_type": "stream",
     "text": [
      "Optimization terminated successfully.    (Exit mode 0)\n",
      "            Current function value: -18.75182315629822\n",
      "            Iterations: 47\n",
      "            Function evaluations: 848\n",
      "            Gradient evaluations: 47\n",
      "Optimal λ: [4.97907581 3.00883218 5.29678281 3.60424262 3.11106658]\n",
      "Optimal p: [4.4761472  2.90697151 4.74252994 3.38163942 2.99193267]\n",
      "Optimal r: [15.06906356 14.12522029 15.04154758 13.85307223 13.60241808]\n",
      "Optimal Dmax: 1.7309632931323466\n"
     ]
    }
   ],
   "source": [
    "lam_opt, p_opt, r_opt, Dmax_opt = baseline.optimal_NBP(esp, MDs)\n",
    "print(f\"Optimal λ: {lam_opt}\")\n",
    "print(f\"Optimal p: {p_opt}\")  \n",
    "print(f\"Optimal r: {r_opt}\")\n",
    "print(f\"Optimal Dmax: {Dmax_opt}\")"
   ]
  },
  {
   "cell_type": "code",
   "execution_count": 5,
   "metadata": {},
   "outputs": [
    {
     "name": "stdout",
     "output_type": "stream",
     "text": [
      "Baseline Opt: [-5.42415078 -7.15379174 -5.38695561 -6.6768145  -6.99607301]\n",
      "Baseline SWM: [-5.42415545 -7.15379918 -5.38696038 -6.67681946 -6.99605116]\n"
     ]
    }
   ],
   "source": [
    "s, l = MDs[0].s,  MDs[0].l\n",
    "print(\"Baseline Opt:\", p_opt/(s*l)-lam_opt-1e-6)\n",
    "print(\"Baseline SWM:\", p_swm/(s*l)-lam_swm-1e-6)"
   ]
  },
  {
   "cell_type": "code",
   "execution_count": 6,
   "metadata": {},
   "outputs": [
    {
     "name": "stdout",
     "output_type": "stream",
     "text": [
      " iter 0 ||lam-lam_hat||= 0.4017458325424779   alpha= [2.75906800e-08 2.76053349e-08 2.76058056e-08 2.75907510e-08\n",
      " 8.12935653e-01]   beta= [3.98968427e-08 3.98968427e-08 3.98968427e-08 3.98968427e-08\n",
      " 3.98968427e-08]\n",
      " iter 1 ||lam-lam_hat||= 0.012762244725815958   alpha= [2.18933351e-08 3.12659356e-08 9.08693032e-09 2.20961507e-08\n",
      " 7.81030041e-01]   beta= [1.06242856e-08 1.06243377e-08 1.06243178e-08 1.06242964e-08\n",
      " 1.06243083e-08]\n",
      "SLSQP failed: Iteration limit exceeded\n",
      " iter 2 ||lam-lam_hat||= 0.02889519048050085   alpha= [ 7.34017869e-09 -3.44488513e-08 -9.09614695e-09 -3.39547799e-08\n",
      "  7.44911053e-01]   beta= [-1.84646387e-09 -1.84638477e-09 -1.84640128e-09 -1.84644403e-09\n",
      " -1.84643875e-09]\n",
      " iter 3 ||lam-lam_hat||= 0.10378760168118771   alpha= [ 6.94406554e-09 -3.21968208e-09  8.61470695e-09  7.27074179e-10\n",
      "  6.80043802e-01]   beta= [3.93314284e-10 3.93406710e-10 3.93392034e-10 3.93338605e-10\n",
      " 3.93340478e-10]\n",
      " iter 4 ||lam-lam_hat||= 0.09694300202399082   alpha= [1.49422288e-08 2.43701304e-09 7.53086704e-10 9.83628756e-09\n",
      " 6.19454426e-01]   beta= [-8.29377993e-10 -8.29272245e-10 -8.29285030e-10 -8.29349197e-10\n",
      " -8.29350689e-10]\n",
      " iter 5 ||lam-lam_hat||= 0.08831734908342455   alpha= [1.69994843e-08 1.12363820e-08 9.64593094e-09 1.57689442e-08\n",
      " 5.64256083e-01]   beta= [1.66127041e-08 1.66128232e-08 1.66128123e-08 1.66127375e-08\n",
      " 1.66127326e-08]\n",
      "SLSQP failed: Iteration limit exceeded\n",
      " iter 6 ||lam-lam_hat||= 0.08047510424218028   alpha= [-9.62984690e-08 -1.19808394e-08 -4.66286210e-09  1.73722994e-08\n",
      "  5.13959142e-01]   beta= [-2.67107993e-09 -2.66978160e-09 -2.67161462e-09 -2.67121873e-09\n",
      " -2.67213191e-09]\n",
      " iter 7 ||lam-lam_hat||= 0.07339657261892432   alpha= [1.11427436e-08 4.80619122e-09 1.06013089e-08 3.06411696e-09\n",
      " 4.68086285e-01]   beta= [-2.68209434e-09 -2.68077753e-09 -2.68263890e-09 -2.68223568e-09\n",
      " -2.68316301e-09]\n",
      " iter 8 ||lam-lam_hat||= 0.06668152814953969   alpha= [ 6.65286937e-10  2.68889044e-09  4.47308546e-09 -4.74187134e-10\n",
      "  4.26410329e-01]   beta= [-2.69310876e-09 -2.69177345e-09 -2.69366317e-09 -2.69325263e-09\n",
      " -2.69419411e-09]\n",
      " iter 9 ||lam-lam_hat||= 0.06073084664984923   alpha= [5.31701483e-09 3.17268789e-09 1.13348788e-08 3.04761461e-09\n",
      " 3.88453550e-01]   beta= [-2.69310869e-09 -2.69177339e-09 -2.69366310e-09 -2.69325256e-09\n",
      " -2.69419404e-09]\n",
      " iter 10 ||lam-lam_hat||= 0.055316673371282814   alpha= [3.35717032e-09 7.24955673e-09 9.40677003e-09 4.44266646e-09\n",
      " 3.53880629e-01]   beta= [-2.69310863e-09 -2.69177332e-09 -2.69366304e-09 -2.69325250e-09\n",
      " -2.69419397e-09]\n",
      " iter 11 ||lam-lam_hat||= 0.05038731486179856   alpha= [4.18845869e-09 4.04299616e-09 4.73175965e-09 3.66268482e-09\n",
      " 3.22388558e-01]   beta= [-2.69310857e-09 -2.69177325e-09 -2.69366297e-09 -2.69325243e-09\n",
      " -2.69419391e-09]\n",
      " iter 12 ||lam-lam_hat||= 0.045898030952968745   alpha= [5.62570457e-09 1.48707069e-09 5.58151991e-09 5.35476352e-09\n",
      " 2.93702288e-01]   beta= [-2.69310850e-09 -2.69177319e-09 -2.69366290e-09 -2.69325236e-09\n",
      " -2.69419384e-09]\n",
      " iter 13 ||lam-lam_hat||= 0.04180954113378609   alpha= [4.60664418e-09 5.50814416e-09 5.64859737e-09 4.59053595e-09\n",
      " 2.67571325e-01]   beta= [-2.69310843e-09 -2.69177312e-09 -2.69366283e-09 -2.69325231e-09\n",
      " -2.69419377e-09]\n",
      " iter 14 ||lam-lam_hat||= 0.038086263777252695   alpha= [5.26412269e-09 3.12631721e-09 3.47978113e-09 4.67217731e-09\n",
      " 2.43767410e-01]   beta= [-2.69310837e-09 -2.69177305e-09 -2.69366277e-09 -2.69325225e-09\n",
      " -2.69419371e-09]\n",
      " iter 15 ||lam-lam_hat||= 0.034695092921132854   alpha= [1.91301996e-09 3.90932531e-09 1.84463023e-09 3.46743101e-09\n",
      " 2.22082977e-01]   beta= [-2.69310830e-09 -2.69177299e-09 -2.69366270e-09 -2.69325218e-09\n",
      " -2.69419365e-09]\n",
      " iter 16 ||lam-lam_hat||= 0.031606444908543495   alpha= [2.45389065e-09 2.47260901e-09 4.86438911e-09 5.11559817e-09\n",
      " 2.02328949e-01]   beta= [-2.69310823e-09 -2.69177292e-09 -2.69366263e-09 -2.69325211e-09\n",
      " -2.69419358e-09]\n",
      " iter 17 ||lam-lam_hat||= 0.028793635594605828   alpha= [3.96419253e-09 4.45548842e-09 3.91445010e-09 4.02379596e-09\n",
      " 1.84332927e-01]   beta= [-2.69310816e-09 -2.69177285e-09 -2.69366257e-09 -2.69325205e-09\n",
      " -2.69419351e-09]\n",
      " iter 18 ||lam-lam_hat||= 0.026230626215811775   alpha= [4.04267309e-09 4.44329928e-09 2.58472932e-09 2.89221003e-09\n",
      " 1.67938785e-01]   beta= [-2.69310810e-09 -2.69177278e-09 -2.69366250e-09 -2.69325198e-09\n",
      " -2.69419345e-09]\n",
      " iter 19 ||lam-lam_hat||= 0.02389655779785577   alpha= [3.84024723e-09 5.31819944e-09 5.16158138e-09 4.90401186e-09\n",
      " 1.53003437e-01]   beta= [-2.69310803e-09 -2.69177272e-09 -2.69366243e-09 -2.69325191e-09\n",
      " -2.69419338e-09]\n",
      "SLSQP failed: Iteration limit exceeded\n",
      " iter 20 ||lam-lam_hat||= 0.021770792790551417   alpha= [ 4.26592317e-10  5.37792610e-09  3.60521835e-10 -7.47477413e-10\n",
      "  1.39396691e-01]   beta= [-2.69310796e-09 -2.69177265e-09 -2.69366237e-09 -2.69325185e-09\n",
      " -2.69419331e-09]\n",
      " iter 21 ||lam-lam_hat||= 0.019833643198486087   alpha= [3.94133637e-09 4.46813719e-09 3.73184506e-09 4.55657756e-09\n",
      " 1.27000664e-01]   beta= [-2.69310790e-09 -2.69177258e-09 -2.69366230e-09 -2.69325178e-09\n",
      " -2.69419325e-09]\n",
      " iter 22 ||lam-lam_hat||= 0.018068871117981337   alpha= [4.47556348e-09 4.61280369e-09 5.15543075e-09 4.86666396e-09\n",
      " 1.15707620e-01]   beta= [-2.69310783e-09 -2.69177252e-09 -2.69366223e-09 -2.69325172e-09\n",
      " -2.69419318e-09]\n",
      " iter 23 ||lam-lam_hat||= 0.01646203494791881   alpha= [4.81347651e-09 4.48013093e-09 4.52522486e-09 4.51326221e-09\n",
      " 1.05418848e-01]   beta= [-2.69310776e-09 -2.69177245e-09 -2.69366216e-09 -2.69325165e-09\n",
      " -2.69419311e-09]\n",
      "SLSQP failed: Iteration limit exceeded\n",
      " iter 24 ||lam-lam_hat||= 0.014997527944943951   alpha= [ 5.04799336e-09 -1.34198217e-08 -5.14426188e-08 -4.38488632e-08\n",
      "  9.60453931e-02]   beta= [-2.69310770e-09 -2.69177238e-09 -2.69366210e-09 -2.69325159e-09\n",
      " -2.69419305e-09]\n",
      " iter 25 ||lam-lam_hat||= 0.013663519230369521   alpha= [3.39923889e-09 4.32501723e-09 4.30742686e-09 4.49421078e-09\n",
      " 8.75056936e-02]   beta= [-2.69310763e-09 -2.69177232e-09 -2.69366203e-09 -2.69325152e-09\n",
      " -2.69419298e-09]\n",
      "SLSQP failed: Iteration limit exceeded\n",
      " iter 26 ||lam-lam_hat||= 0.012448243806584965   alpha= [4.25498214e-09 4.27759073e-09 4.76645079e-09 3.84644006e-09\n",
      " 7.97255412e-02]   beta= [-2.69310756e-09 -2.69177225e-09 -2.69366196e-09 -2.69325146e-09\n",
      " -2.69419291e-09]\n",
      "SLSQP failed: Iteration limit exceeded\n",
      " iter 27 ||lam-lam_hat||= 0.011341288004997875   alpha= [4.94437957e-09 3.25777760e-09 4.82558904e-09 4.36488090e-09\n",
      " 7.26372362e-02]   beta= [-2.69310749e-09 -2.69177218e-09 -2.69366190e-09 -2.69325139e-09\n",
      " -2.69419285e-09]\n",
      "SLSQP failed: Iteration limit exceeded\n",
      " iter 28 ||lam-lam_hat||= 0.010332471266590475   alpha= [-6.49228316e-09 -2.70486376e-08 -2.02648651e-08 -4.16490931e-09\n",
      "  6.61794417e-02]   beta= [-2.69310743e-09 -2.69177212e-09 -2.69366183e-09 -2.69325133e-09\n",
      " -2.69419278e-09]\n",
      "SLSQP failed: Iteration limit exceeded\n",
      " iter 29 ||lam-lam_hat||= 0.00941432629902366   alpha= [5.21447463e-09 6.64320954e-09 6.39267883e-09 7.22727789e-09\n",
      " 6.02954877e-02]   beta= [-2.69310736e-09 -2.69177205e-09 -2.69366176e-09 -2.69325126e-09\n",
      " -2.69419271e-09]\n",
      "SLSQP failed: Iteration limit exceeded\n",
      " iter 30 ||lam-lam_hat||= 0.008576845631692826   alpha= [ 2.14945306e-09 -1.03007913e-09  2.31177957e-08  2.46168710e-08\n",
      "  5.49349592e-02]   beta= [-2.69310729e-09 -2.69177198e-09 -2.69366170e-09 -2.69325119e-09\n",
      " -2.69419264e-09]\n",
      "SLSQP failed: Iteration limit exceeded\n",
      " iter 31 ||lam-lam_hat||= 0.007813715959298423   alpha= [-2.50075847e-08 -5.49195889e-09 -2.40119722e-08  2.52667243e-09\n",
      "  5.00513867e-02]   beta= [-2.69310723e-09 -2.69177192e-09 -2.69366163e-09 -2.69325113e-09\n",
      " -2.69419258e-09]\n",
      "SLSQP failed: Iteration limit exceeded\n",
      " iter 32 ||lam-lam_hat||= 0.0024891624735851746   alpha= [ 3.11906745e-09  3.27476957e-09 -6.66533806e-09 -3.58267638e-10\n",
      "  4.84956602e-02]   beta= [-2.69310716e-09 -2.69177185e-09 -2.69366156e-09 -2.69325106e-09\n",
      " -2.69419251e-09]\n",
      "SLSQP failed: Iteration limit exceeded\n",
      "ADMM λ: [12.49999847 12.49999847 12.50000153 12.50000153  0.        ]\n",
      "ADMM p: [3.87678577e+01 1.64520903e+01 3.92477463e+01 2.26060561e+01\n",
      " 2.17868248e-04]\n",
      "ADMM Dmax: 1.0731547144698111e-16\n",
      "ADMM r: [84.88173318 29.35933689 44.96139197 33.47715059 18.11558414]\n"
     ]
    }
   ],
   "source": [
    "lamb_admm, p_admm, Dmax_admm = NBS.ADMM(esp, MDs)\n",
    "print(f\"ADMM λ: {lamb_admm}\")\n",
    "print(f\"ADMM p: {p_admm}\")  \n",
    "print(f\"ADMM Dmax: {Dmax_admm}\")\n",
    "r_admm = NBS.negotiation(esp, MDs,lamb_admm, p_admm, Dmax_admm)\n",
    "print(f\"ADMM r: {r_admm}\")"
   ]
  }
 ],
 "metadata": {
  "colab": {
   "authorship_tag": "ABX9TyPdgnMAVga6FnqKiT4PPNVw",
   "mount_file_id": "1gBbxAffnNWxKVgA38_bI-qo56li6ucKz",
   "provenance": []
  },
  "kernelspec": {
   "display_name": "base",
   "language": "python",
   "name": "python3"
  },
  "language_info": {
   "codemirror_mode": {
    "name": "ipython",
    "version": 3
   },
   "file_extension": ".py",
   "mimetype": "text/x-python",
   "name": "python",
   "nbconvert_exporter": "python",
   "pygments_lexer": "ipython3",
   "version": "3.7.0"
  }
 },
 "nbformat": 4,
 "nbformat_minor": 0
}
