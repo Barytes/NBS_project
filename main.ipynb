{
 "cells": [
  {
   "cell_type": "code",
   "execution_count": 1,
   "metadata": {
    "colab": {
     "base_uri": "https://localhost:8080/"
    },
    "executionInfo": {
     "elapsed": 20091,
     "status": "ok",
     "timestamp": 1750816088466,
     "user": {
      "displayName": "Beiyan Liu",
      "userId": "04431032521835523381"
     },
     "user_tz": -480
    },
    "id": "GH444lHrKjIn",
    "outputId": "00152aeb-e0d4-49c7-eab5-7fce807f247e"
   },
   "outputs": [
    {
     "name": "stdout",
     "output_type": "stream",
     "text": [
      "项目路径设置为: c:\\Users\\Barytes\\Desktop\\NBS_project\n"
     ]
    }
   ],
   "source": [
    "import os\n",
    "import sys\n",
    "\n",
    "def is_colab():\n",
    "    return 'google.colab' in sys.modules\n",
    "\n",
    "if is_colab():\n",
    "    from google.colab import drive\n",
    "    drive.mount('/content/drive')\n",
    "    PROJECT_PATH = '/content/drive/MyDrive/NBS_Project'\n",
    "else:\n",
    "    # 自动根据当前脚本定位项目根路径\n",
    "    PROJECT_PATH = os.path.abspath(os.path.join(os.path.dirname(__file__), '..')) \\\n",
    "        if '__file__' in globals() else os.getcwd()\n",
    "\n",
    "if PROJECT_PATH not in sys.path:\n",
    "    sys.path.append(PROJECT_PATH)\n",
    "\n",
    "print(f\"项目路径设置为: {PROJECT_PATH}\")"
   ]
  },
  {
   "cell_type": "code",
   "execution_count": 2,
   "metadata": {},
   "outputs": [
    {
     "name": "stdout",
     "output_type": "stream",
     "text": [
      "{'s': 0.1, 'l': 0.8, 'cn': 0.32332202513299674, 'Fn': 1.184383282690447, 'kn': 0.6732799162883472, 'omega_n': 1, 'Rn': 4.13472934445215}\n",
      "{'s': 0.1, 'l': 0.8, 'cn': 0.6374404631644437, 'Fn': 1.7637226511189565, 'kn': 0.6651454029151388, 'omega_n': 1, 'Rn': 10.248845012378245}\n",
      "{'s': 0.1, 'l': 0.8, 'cn': 0.395711266542491, 'Fn': 2.1321345406869066, 'kn': 0.19255662205025992, 'omega_n': 1, 'Rn': 6.716553285779903}\n",
      "{'s': 0.1, 'l': 0.8, 'cn': 0.16187321635232887, 'Fn': 3.8199302863134226, 'kn': 0.3183833952999494, 'omega_n': 1, 'Rn': 9.231363952354403}\n",
      "{'s': 0.1, 'l': 0.8, 'cn': 0.6413215489755134, 'Fn': 3.913825949541608, 'kn': 0.4233228768151258, 'omega_n': 1, 'Rn': 7.948101841125762}\n",
      "{'s': 0.1, 'l': 0.8, 'cn': 0.49308149762923636, 'Fn': 2.4920855793255217, 'kn': 0.5819339189335254, 'omega_n': 1, 'Rn': 3.859406010253179}\n",
      "{'s': 0.1, 'l': 0.8, 'cn': 0.17404615893711323, 'Fn': 1.5048957788256199, 'kn': 0.3264336993988291, 'omega_n': 1, 'Rn': 7.130152926250668}\n",
      "{'s': 0.1, 'l': 0.8, 'cn': 0.3500914696054681, 'Fn': 3.328898592922507, 'kn': 0.8651490391568305, 'omega_n': 1, 'Rn': 10.025209575464762}\n",
      "{'s': 0.1, 'l': 0.8, 'cn': 0.40849369667300983, 'Fn': 3.8860025666261127, 'kn': 0.35684000684129563, 'omega_n': 1, 'Rn': 8.282993965974107}\n",
      "{'s': 0.1, 'l': 0.8, 'cn': 0.3515702538177826, 'Fn': 4.305125863998515, 'kn': 0.8668843010518419, 'omega_n': 1, 'Rn': 5.7242544373473425}\n",
      "{'lambda0': 50, 'D0': 3, 'theta': 5, 'o': 5, 'omega_0': 2, 's': 0.1, 'l': 0.8}\n"
     ]
    }
   ],
   "source": [
    "from src.config import Config\n",
    "from src.main import create_MDs,create_ESP\n",
    "import src.baseline as baseline\n",
    "import src.NBS as NBS\n",
    "import src.model as model\n",
    "import numpy as np\n",
    "\n",
    "CONFIG_PATH = os.path.join(PROJECT_PATH, \"configs\", \"test.json\")\n",
    "config = Config(CONFIG_PATH)\n",
    "\n",
    "# Create MDs with a specific seed for reproducibility\n",
    "seed = 41\n",
    "MDs = create_MDs(config, seed=seed)\n",
    "# np.random.shuffle(MDs)  # Shuffle the MDs\n",
    "\n",
    "for md in MDs:\n",
    "    print(md.param)\n",
    "\n",
    "esp = create_ESP(config, seed=seed)\n",
    "print(esp.param)"
   ]
  },
  {
   "cell_type": "code",
   "execution_count": 3,
   "metadata": {},
   "outputs": [
    {
     "ename": "AttributeError",
     "evalue": "module 'numpy.random' has no attribute 'default_rng'",
     "output_type": "error",
     "traceback": [
      "\u001b[1;31m---------------------------------------------------------------------------\u001b[0m",
      "\u001b[1;31mAttributeError\u001b[0m                            Traceback (most recent call last)",
      "\u001b[1;32m<ipython-input-3-6bf60ab25a40>\u001b[0m in \u001b[0;36m<module>\u001b[1;34m()\u001b[0m\n\u001b[0;32m      3\u001b[0m \u001b[0mlam_uni\u001b[0m\u001b[1;33m,\u001b[0m \u001b[0mp_uni\u001b[0m\u001b[1;33m,\u001b[0m \u001b[0mr_uni\u001b[0m\u001b[1;33m,\u001b[0m \u001b[0mDmax_uni\u001b[0m \u001b[1;33m=\u001b[0m \u001b[0mnp\u001b[0m\u001b[1;33m.\u001b[0m\u001b[0mzeros\u001b[0m\u001b[1;33m(\u001b[0m\u001b[0mN\u001b[0m\u001b[1;33m)\u001b[0m\u001b[1;33m,\u001b[0m\u001b[0mnp\u001b[0m\u001b[1;33m.\u001b[0m\u001b[0mzeros\u001b[0m\u001b[1;33m(\u001b[0m\u001b[0mN\u001b[0m\u001b[1;33m)\u001b[0m\u001b[1;33m,\u001b[0m\u001b[0mnp\u001b[0m\u001b[1;33m.\u001b[0m\u001b[0mzeros\u001b[0m\u001b[1;33m(\u001b[0m\u001b[0mN\u001b[0m\u001b[1;33m)\u001b[0m\u001b[1;33m,\u001b[0m\u001b[1;36m0\u001b[0m\u001b[1;33m\u001b[0m\u001b[0m\n\u001b[0;32m      4\u001b[0m \u001b[1;32mfor\u001b[0m \u001b[0m_\u001b[0m \u001b[1;32min\u001b[0m \u001b[0mrange\u001b[0m\u001b[1;33m(\u001b[0m\u001b[0mT\u001b[0m\u001b[1;33m)\u001b[0m\u001b[1;33m:\u001b[0m\u001b[1;33m\u001b[0m\u001b[0m\n\u001b[1;32m----> 5\u001b[1;33m     \u001b[0ml\u001b[0m\u001b[1;33m,\u001b[0m\u001b[0mp\u001b[0m\u001b[1;33m,\u001b[0m\u001b[0mr\u001b[0m\u001b[1;33m,\u001b[0m\u001b[0md\u001b[0m \u001b[1;33m=\u001b[0m \u001b[0mbaseline\u001b[0m\u001b[1;33m.\u001b[0m\u001b[0muniform_baseline\u001b[0m\u001b[1;33m(\u001b[0m\u001b[0mesp\u001b[0m\u001b[1;33m,\u001b[0m \u001b[0mMDs\u001b[0m\u001b[1;33m)\u001b[0m\u001b[1;33m\u001b[0m\u001b[0m\n\u001b[0m\u001b[0;32m      6\u001b[0m     \u001b[0mlam_uni\u001b[0m \u001b[1;33m+=\u001b[0m \u001b[0ml\u001b[0m\u001b[1;33m\u001b[0m\u001b[0m\n\u001b[0;32m      7\u001b[0m     \u001b[0mp_uni\u001b[0m \u001b[1;33m+=\u001b[0m \u001b[0mp\u001b[0m\u001b[1;33m\u001b[0m\u001b[0m\n",
      "\u001b[1;32mc:\\Users\\Barytes\\Desktop\\NBS_project\\src\\baseline.py\u001b[0m in \u001b[0;36muniform_baseline\u001b[1;34m(ESP, MDs, seed)\u001b[0m\n\u001b[0;32m     12\u001b[0m     \u001b[0ms\u001b[0m\u001b[1;33m,\u001b[0m \u001b[0ml\u001b[0m \u001b[1;33m=\u001b[0m \u001b[0mMDs\u001b[0m\u001b[1;33m[\u001b[0m\u001b[1;36m0\u001b[0m\u001b[1;33m]\u001b[0m\u001b[1;33m.\u001b[0m\u001b[0ms\u001b[0m\u001b[1;33m,\u001b[0m \u001b[0mMDs\u001b[0m\u001b[1;33m[\u001b[0m\u001b[1;36m0\u001b[0m\u001b[1;33m]\u001b[0m\u001b[1;33m.\u001b[0m\u001b[0ml\u001b[0m  \u001b[1;31m# 所有MD的s和l相同\u001b[0m\u001b[1;33m\u001b[0m\u001b[0m\n\u001b[0;32m     13\u001b[0m     \u001b[0mR\u001b[0m \u001b[1;33m=\u001b[0m \u001b[0mnp\u001b[0m\u001b[1;33m.\u001b[0m\u001b[0marray\u001b[0m\u001b[1;33m(\u001b[0m\u001b[1;33m[\u001b[0m\u001b[0mmd\u001b[0m\u001b[1;33m.\u001b[0m\u001b[0mRn\u001b[0m \u001b[1;32mfor\u001b[0m \u001b[0mmd\u001b[0m \u001b[1;32min\u001b[0m \u001b[0mMDs\u001b[0m\u001b[1;33m]\u001b[0m\u001b[1;33m)\u001b[0m  \u001b[1;31m# (N,)\u001b[0m\u001b[1;33m\u001b[0m\u001b[0m\n\u001b[1;32m---> 14\u001b[1;33m     \u001b[0mrng\u001b[0m \u001b[1;33m=\u001b[0m \u001b[0mnp\u001b[0m\u001b[1;33m.\u001b[0m\u001b[0mrandom\u001b[0m\u001b[1;33m.\u001b[0m\u001b[0mdefault_rng\u001b[0m\u001b[1;33m(\u001b[0m\u001b[0mseed\u001b[0m\u001b[1;33m)\u001b[0m\u001b[1;33m\u001b[0m\u001b[0m\n\u001b[0m\u001b[0;32m     15\u001b[0m \u001b[1;33m\u001b[0m\u001b[0m\n\u001b[0;32m     16\u001b[0m     \u001b[0mlam_uni\u001b[0m \u001b[1;33m=\u001b[0m \u001b[0mnp\u001b[0m\u001b[1;33m.\u001b[0m\u001b[0mfull\u001b[0m\u001b[1;33m(\u001b[0m\u001b[0mN\u001b[0m\u001b[1;33m,\u001b[0m \u001b[0mlambda0\u001b[0m \u001b[1;33m/\u001b[0m \u001b[0mN\u001b[0m\u001b[1;33m)\u001b[0m  \u001b[1;31m# 均匀分配 λ\u001b[0m\u001b[1;33m\u001b[0m\u001b[0m\n",
      "\u001b[1;31mAttributeError\u001b[0m: module 'numpy.random' has no attribute 'default_rng'"
     ]
    }
   ],
   "source": [
    "T = 100\n",
    "N = len(MDs)\n",
    "lam_uni, p_uni, r_uni, Dmax_uni = np.zeros(N),np.zeros(N),np.zeros(N),0\n",
    "for _ in range(T):\n",
    "    l,p,r,d = baseline.uniform_baseline(esp, MDs)\n",
    "    lam_uni += l\n",
    "    p_uni += p \n",
    "    r_uni += r\n",
    "    Dmax_uni += d\n",
    "lam_uni, p_uni, r_uni, Dmax_uni = lam_uni/T, p_uni/T, r_uni/T, Dmax_uni/T\n",
    "\n",
    "print(f\"Uniform λ: {lam_uni}\")\n",
    "print(f\"Uniform p: {p_uni}\")  \n",
    "print(f\"Uniform Dmax: {Dmax_uni}\")\n",
    "print(f\"Uniform r: {r_uni}\")\n",
    "print(\"==============================\")\n",
    "print(\"social welfare:\",model.social_welfare(esp, MDs, lam_uni, p_uni))\n",
    "print(\"sum lambda:\", np.sum(lam_uni), \" lambda0:\", esp.lambda0)\n",
    "print([f\"MD {i+1} Dn: {md.delay(p_uni[i],lam_uni[i])}\" for i, md in enumerate(MDs)])\n",
    "print(\"Dmax:\", Dmax_uni, \" D0:\", esp.D0)\n",
    "max_Dn = max(md.delay(p_uni[i], lam_uni[i]) for i, md in enumerate(MDs))\n",
    "print(\"max Dn:\", max_Dn)\n",
    "print(\"Dmax == max Dn:\", Dmax_uni == max_Dn)\n",
    "print(\"Dn<=Dmax:\", all(md.delay(p_uni[i], lam_uni[i]) <= Dmax_uni for i, md in enumerate(MDs)))\n",
    "print(\"Dmax<=D0:\", Dmax_uni <= esp.D0)\n",
    "print(\"pn<=Fn:\", all(p_uni[i] <= md.Fn for i, md in enumerate(MDs)))\n",
    "print(\"lambda_n<=pn/sl:\", all(lam_uni[i] <= p_uni[i] / (md.s*md.l) for i, md in enumerate(MDs)))\n",
    "print(\"sum r:\", np.sum(r_uni), \"Q_star:\", esp.Q(max_Dn))\n",
    "print(\"rn>=Ln:\", all(r_uni[i] >= md.Ln(p_uni[i]) for i, md in enumerate(MDs)))"
   ]
  },
  {
   "cell_type": "code",
   "execution_count": 3,
   "metadata": {},
   "outputs": [
    {
     "name": "stdout",
     "output_type": "stream",
     "text": [
      "Uniform λ: [2.09025991 3.11270752 3.76289958 6.74160743 6.90731927 4.39815949\n",
      " 2.65591668 5.8750097  6.85821515 7.59790528]\n",
      "Uniform p: [1.18438328 1.76372265 2.13213454 3.81993029 3.91382595 2.49208558\n",
      " 1.50489578 3.32889859 3.88600257 4.30512586]\n",
      "Uniform Dmax: 0.1028355471996345\n",
      "Uniform r: [ 8.10768535 12.07354791 14.59550826 26.14929921 26.79206114 17.05954993\n",
      " 10.30175083 22.78794606 26.60159642 29.47070127]\n",
      "==============================\n",
      "social welfare: 193.93964638257935\n",
      "sum lambda: 50.0  lambda0: 50\n",
      "['MD 1 Dn: 0.1028355471996345', 'MD 2 Dn: 0.0625727251662071', 'MD 3 Dn: 0.05857811286095347', 'MD 4 Dn: 0.03521840591599758', 'MD 5 Dn: 0.03638235768232111', 'MD 6 Dn: 0.06328983391342033', 'MD 7 Dn: 0.07592421010504175', 'MD 8 Dn: 0.03795766576644862', 'MD 9 Dn: 0.03604407740719918', 'MD 10 Dn: 0.03910697341732085']\n",
      "Dmax: 0.1028355471996345  D0: 3\n",
      "max Dn: 0.1028355471996345\n",
      "Dmax == max Dn: True\n",
      "Dn<=Dmax: True\n",
      "Dmax<=D0: True\n",
      "pn<=Fn: True\n",
      "lambda_n<=pn/sl: True\n",
      "sum r: 193.93964638257935 Q_star: 248.274174600214\n",
      "rn>=Ln: True\n"
     ]
    }
   ],
   "source": [
    "lam_pro, p_pro, r_pro, Dmax_pro = baseline.proportional_baseline(esp,MDs)\n",
    "print(f\"Uniform λ: {lam_pro}\")\n",
    "print(f\"Uniform p: {p_pro}\")  \n",
    "print(f\"Uniform Dmax: {Dmax_pro}\")\n",
    "print(f\"Uniform r: {r_pro}\")\n",
    "print(\"==============================\")\n",
    "print(\"social welfare:\",model.social_welfare(esp, MDs, lam_pro, p_pro))\n",
    "print(\"sum lambda:\", np.sum(lam_pro), \" lambda0:\", esp.lambda0)\n",
    "print([f\"MD {i+1} Dn: {md.delay(p_pro[i],lam_pro[i])}\" for i, md in enumerate(MDs)])\n",
    "print(\"Dmax:\", Dmax_pro, \" D0:\", esp.D0)\n",
    "max_Dn = max(md.delay(p_pro[i], lam_pro[i]) for i, md in enumerate(MDs))\n",
    "print(\"max Dn:\", max_Dn)\n",
    "print(\"Dmax == max Dn:\", Dmax_pro == max_Dn)\n",
    "print(\"Dn<=Dmax:\", all(md.delay(p_pro[i], lam_pro[i]) <= Dmax_pro for i, md in enumerate(MDs)))\n",
    "print(\"Dmax<=D0:\", Dmax_pro <= esp.D0)\n",
    "print(\"pn<=Fn:\", all(p_pro[i] <= md.Fn for i, md in enumerate(MDs)))\n",
    "print(\"lambda_n<=pn/sl:\", all(lam_pro[i] <= p_pro[i] / (md.s*md.l) for i, md in enumerate(MDs)))\n",
    "print(\"sum r:\", np.sum(r_pro), \"Q_star:\", esp.Q(max_Dn))\n",
    "print(\"rn>=Ln:\", all(r_pro[i] >= md.Ln(p_pro[i]) for i, md in enumerate(MDs)))"
   ]
  },
  {
   "cell_type": "code",
   "execution_count": 4,
   "metadata": {},
   "outputs": [
    {
     "name": "stderr",
     "output_type": "stream",
     "text": [
      "d:\\Program\\Anaconda\\lib\\site-packages\\scipy\\optimize\\_hessian_update_strategy.py:187: UserWarning: delta_grad == 0.0. Check if the approximated function is linear. If the function is linear better results can be obtained by defining the Hessian as zero instead of using quasi-Newton approximations.\n",
      "  'approximations.', UserWarning)\n",
      "c:\\Users\\Barytes\\Desktop\\NBS_project\\src\\model.py:6: RuntimeWarning: divide by zero encountered in double_scalars\n",
      "  Dmax = max([md.s/md.Rn + 1/(pn/(md.s*md.l)-lamn) for (md,pn,lamn) in zip(MDs,p,lam)])\n"
     ]
    },
    {
     "name": "stdout",
     "output_type": "stream",
     "text": [
      "✅ 这个点严格满足所有约束（在容差范围内）。\n",
      "Optimization terminated successfully.    (Exit mode 0)\n",
      "            Current function value: -245.40286262770385\n",
      "            Iterations: 61\n",
      "            Function evaluations: 1404\n",
      "            Gradient evaluations: 61\n",
      "Non-cooperative λ: [0.00000000e+00 2.56406507e-01 7.79001398e+00 1.93402040e+01\n",
      " 3.73601309e+00 2.50934455e+00 9.19819000e+00 2.63651560e-15\n",
      " 7.16982791e+00 5.94640676e-15]\n",
      "Non-cooperative p: [0, 0.12454902780519324, 0.7279365410320255, 1.6513985287071118, 0.4033010934453515, 0.30701645716982323, 0.8404723347792799, 0, 0.6779369936081128, 0]\n",
      "Non-cooperative Dmax: 0.7787180367491368\n",
      "Non-cooperative r: [0.07220914 0.07923238 0.29908612 0.69418338 0.1844806  0.17178413\n",
      " 0.39061184 0.08050852 0.295071   0.07901784]\n",
      "==============================\n"
     ]
    },
    {
     "ename": "TypeError",
     "evalue": "unsupported operand type(s) for -: 'NoneType' and 'float'",
     "output_type": "error",
     "traceback": [
      "\u001b[1;31m---------------------------------------------------------------------------\u001b[0m",
      "\u001b[1;31mTypeError\u001b[0m                                 Traceback (most recent call last)",
      "\u001b[1;32m<ipython-input-4-9be9abadf116>\u001b[0m in \u001b[0;36m<module>\u001b[1;34m()\u001b[0m\n\u001b[0;32m      5\u001b[0m \u001b[0mprint\u001b[0m\u001b[1;33m(\u001b[0m\u001b[1;34mf\"Non-cooperative r: {r_non}\"\u001b[0m\u001b[1;33m)\u001b[0m\u001b[1;33m\u001b[0m\u001b[0m\n\u001b[0;32m      6\u001b[0m \u001b[0mprint\u001b[0m\u001b[1;33m(\u001b[0m\u001b[1;34m\"==============================\"\u001b[0m\u001b[1;33m)\u001b[0m\u001b[1;33m\u001b[0m\u001b[0m\n\u001b[1;32m----> 7\u001b[1;33m \u001b[0mprint\u001b[0m\u001b[1;33m(\u001b[0m\u001b[1;34m\"social welfare:\"\u001b[0m\u001b[1;33m,\u001b[0m\u001b[0mmodel\u001b[0m\u001b[1;33m.\u001b[0m\u001b[0msocial_welfare\u001b[0m\u001b[1;33m(\u001b[0m\u001b[0mesp\u001b[0m\u001b[1;33m,\u001b[0m \u001b[0mMDs\u001b[0m\u001b[1;33m,\u001b[0m \u001b[0mlam_non\u001b[0m\u001b[1;33m,\u001b[0m \u001b[0mp_non\u001b[0m\u001b[1;33m)\u001b[0m\u001b[1;33m)\u001b[0m\u001b[1;33m\u001b[0m\u001b[0m\n\u001b[0m\u001b[0;32m      8\u001b[0m \u001b[0mprint\u001b[0m\u001b[1;33m(\u001b[0m\u001b[1;34m\"sum lambda:\"\u001b[0m\u001b[1;33m,\u001b[0m \u001b[0mnp\u001b[0m\u001b[1;33m.\u001b[0m\u001b[0msum\u001b[0m\u001b[1;33m(\u001b[0m\u001b[0mlam_non\u001b[0m\u001b[1;33m)\u001b[0m\u001b[1;33m,\u001b[0m \u001b[1;34m\" lambda0:\"\u001b[0m\u001b[1;33m,\u001b[0m \u001b[0mesp\u001b[0m\u001b[1;33m.\u001b[0m\u001b[0mlambda0\u001b[0m\u001b[1;33m)\u001b[0m\u001b[1;33m\u001b[0m\u001b[0m\n\u001b[0;32m      9\u001b[0m \u001b[0mprint\u001b[0m\u001b[1;33m(\u001b[0m\u001b[1;33m[\u001b[0m\u001b[1;34mf\"MD {i+1} Dn: {md.delay(p_non[i],lam_non[i])}\"\u001b[0m \u001b[1;32mfor\u001b[0m \u001b[0mi\u001b[0m\u001b[1;33m,\u001b[0m \u001b[0mmd\u001b[0m \u001b[1;32min\u001b[0m \u001b[0menumerate\u001b[0m\u001b[1;33m(\u001b[0m\u001b[0mMDs\u001b[0m\u001b[1;33m)\u001b[0m\u001b[1;33m]\u001b[0m\u001b[1;33m)\u001b[0m\u001b[1;33m\u001b[0m\u001b[0m\n",
      "\u001b[1;32mc:\\Users\\Barytes\\Desktop\\NBS_project\\src\\model.py\u001b[0m in \u001b[0;36msocial_welfare\u001b[1;34m(ESP, MDs, lam, p)\u001b[0m\n\u001b[0;32m      5\u001b[0m     \u001b[0mL\u001b[0m \u001b[1;33m=\u001b[0m \u001b[1;33m[\u001b[0m\u001b[0mmd\u001b[0m\u001b[1;33m.\u001b[0m\u001b[0mLn\u001b[0m\u001b[1;33m(\u001b[0m\u001b[0mpn\u001b[0m\u001b[1;33m)\u001b[0m \u001b[1;32mfor\u001b[0m \u001b[1;33m(\u001b[0m\u001b[0mpn\u001b[0m\u001b[1;33m,\u001b[0m\u001b[0mmd\u001b[0m\u001b[1;33m)\u001b[0m \u001b[1;32min\u001b[0m \u001b[0mzip\u001b[0m\u001b[1;33m(\u001b[0m\u001b[0mp\u001b[0m\u001b[1;33m,\u001b[0m\u001b[0mMDs\u001b[0m\u001b[1;33m)\u001b[0m\u001b[1;33m]\u001b[0m\u001b[1;33m\u001b[0m\u001b[0m\n\u001b[0;32m      6\u001b[0m     \u001b[0mDmax\u001b[0m \u001b[1;33m=\u001b[0m \u001b[0mmax\u001b[0m\u001b[1;33m(\u001b[0m\u001b[1;33m[\u001b[0m\u001b[0mmd\u001b[0m\u001b[1;33m.\u001b[0m\u001b[0ms\u001b[0m\u001b[1;33m/\u001b[0m\u001b[0mmd\u001b[0m\u001b[1;33m.\u001b[0m\u001b[0mRn\u001b[0m \u001b[1;33m+\u001b[0m \u001b[1;36m1\u001b[0m\u001b[1;33m/\u001b[0m\u001b[1;33m(\u001b[0m\u001b[0mpn\u001b[0m\u001b[1;33m/\u001b[0m\u001b[1;33m(\u001b[0m\u001b[0mmd\u001b[0m\u001b[1;33m.\u001b[0m\u001b[0ms\u001b[0m\u001b[1;33m*\u001b[0m\u001b[0mmd\u001b[0m\u001b[1;33m.\u001b[0m\u001b[0ml\u001b[0m\u001b[1;33m)\u001b[0m\u001b[1;33m-\u001b[0m\u001b[0mlamn\u001b[0m\u001b[1;33m)\u001b[0m \u001b[1;32mfor\u001b[0m \u001b[1;33m(\u001b[0m\u001b[0mmd\u001b[0m\u001b[1;33m,\u001b[0m\u001b[0mpn\u001b[0m\u001b[1;33m,\u001b[0m\u001b[0mlamn\u001b[0m\u001b[1;33m)\u001b[0m \u001b[1;32min\u001b[0m \u001b[0mzip\u001b[0m\u001b[1;33m(\u001b[0m\u001b[0mMDs\u001b[0m\u001b[1;33m,\u001b[0m\u001b[0mp\u001b[0m\u001b[1;33m,\u001b[0m\u001b[0mlam\u001b[0m\u001b[1;33m)\u001b[0m\u001b[1;33m]\u001b[0m\u001b[1;33m)\u001b[0m\u001b[1;33m\u001b[0m\u001b[0m\n\u001b[1;32m----> 7\u001b[1;33m     \u001b[1;32mreturn\u001b[0m \u001b[0mESP\u001b[0m\u001b[1;33m.\u001b[0m\u001b[0mQ\u001b[0m\u001b[1;33m(\u001b[0m\u001b[0mDmax\u001b[0m\u001b[1;33m)\u001b[0m\u001b[1;33m-\u001b[0m\u001b[0msum\u001b[0m\u001b[1;33m(\u001b[0m\u001b[0mL\u001b[0m\u001b[1;33m)\u001b[0m\u001b[1;33m\u001b[0m\u001b[0m\n\u001b[0m\u001b[0;32m      8\u001b[0m \u001b[1;33m\u001b[0m\u001b[0m\n\u001b[0;32m      9\u001b[0m \u001b[1;32mdef\u001b[0m \u001b[0mnash_product_log\u001b[0m\u001b[1;33m(\u001b[0m\u001b[0mESP\u001b[0m\u001b[1;33m,\u001b[0m\u001b[0mMDs\u001b[0m\u001b[1;33m,\u001b[0m\u001b[0mlam\u001b[0m\u001b[1;33m,\u001b[0m\u001b[0mp\u001b[0m\u001b[1;33m,\u001b[0m\u001b[0mr\u001b[0m\u001b[1;33m)\u001b[0m\u001b[1;33m:\u001b[0m\u001b[1;33m\u001b[0m\u001b[0m\n",
      "\u001b[1;31mTypeError\u001b[0m: unsupported operand type(s) for -: 'NoneType' and 'float'"
     ]
    }
   ],
   "source": [
    "lam_non, p_non, r_non, Dmax_non = baseline.non_cooperative_baseline(esp,MDs)\n",
    "print(f\"Non-cooperative λ: {lam_non}\")\n",
    "print(f\"Non-cooperative p: {p_non}\")  \n",
    "print(f\"Non-cooperative Dmax: {Dmax_non}\")\n",
    "print(f\"Non-cooperative r: {r_non}\")\n",
    "print(\"==============================\")\n",
    "print(\"social welfare:\",model.social_welfare(esp, MDs, lam_non, p_non))\n",
    "print(\"sum lambda:\", np.sum(lam_non), \" lambda0:\", esp.lambda0)\n",
    "print([f\"MD {i+1} Dn: {md.delay(p_non[i],lam_non[i])}\" for i, md in enumerate(MDs)])\n",
    "print(\"Dmax:\", Dmax_non, \" D0:\", esp.D0)\n",
    "max_Dn = max(md.delay(p_non[i], lam_non[i]) for i, md in enumerate(MDs))\n",
    "print(\"max Dn:\", max_Dn)\n",
    "print(\"Dmax == max Dn:\", Dmax_non == max_Dn)\n",
    "print(\"Dn<=Dmax:\", all(md.delay(p_non[i], lam_non[i]) <= Dmax_non for i, md in enumerate(MDs)))\n",
    "print(\"Dmax<=D0:\", Dmax_non <= esp.D0)\n",
    "print(\"pn<=Fn:\", all(p_non[i] <= md.Fn for i, md in enumerate(MDs)))\n",
    "print(\"lambda_n<=pn/sl:\", all(lam_non[i] <= p_non[i] / (md.s*md.l) for i, md in enumerate(MDs)))\n",
    "print(\"sum r:\", np.sum(r_non), \"Q_star:\", esp.Q(max_Dn))\n",
    "print(\"rn>=Ln:\", all(r_non[i] >= md.Ln(p_non[i]) for i, md in enumerate(MDs)))"
   ]
  },
  {
   "cell_type": "code",
   "execution_count": 7,
   "metadata": {},
   "outputs": [
    {
     "name": "stdout",
     "output_type": "stream",
     "text": [
      "[False, True, True, True, True, True, True, False, True, False]\n"
     ]
    }
   ],
   "source": [
    "print([lam_non[i] <= p_non[i] / (md.s*md.l) for i, md in enumerate(MDs)])"
   ]
  },
  {
   "cell_type": "code",
   "execution_count": 5,
   "metadata": {},
   "outputs": [
    {
     "name": "stdout",
     "output_type": "stream",
     "text": [
      "inf 3\n",
      "True\n"
     ]
    },
    {
     "name": "stderr",
     "output_type": "stream",
     "text": [
      "d:\\Program\\Anaconda\\lib\\site-packages\\ipykernel_launcher.py:1: RuntimeWarning: divide by zero encountered in double_scalars\n",
      "  \"\"\"Entry point for launching an IPython kernel.\n"
     ]
    }
   ],
   "source": [
    "Dmax = max([md.s/md.Rn + 1/(pn/(md.s*md.l)-lamn) for (md,pn,lamn) in zip(MDs,p_non,lam_non)])\n",
    "print(Dmax,esp.D0)\n",
    "print(esp.D0 < Dmax-1e-3)"
   ]
  },
  {
   "cell_type": "code",
   "execution_count": 5,
   "metadata": {},
   "outputs": [
    {
     "name": "stderr",
     "output_type": "stream",
     "text": [
      "d:\\Program\\Anaconda\\lib\\site-packages\\scipy\\optimize\\_hessian_update_strategy.py:187: UserWarning: delta_grad == 0.0. Check if the approximated function is linear. If the function is linear better results can be obtained by defining the Hessian as zero instead of using quasi-Newton approximations.\n",
      "  'approximations.', UserWarning)\n"
     ]
    },
    {
     "name": "stdout",
     "output_type": "stream",
     "text": [
      "✅ 这个点严格满足所有约束（在容差范围内）。\n",
      "Optimization terminated successfully.    (Exit mode 0)\n",
      "            Current function value: -243.40324662776618\n",
      "            Iterations: 127\n",
      "            Function evaluations: 2980\n",
      "            Gradient evaluations: 127\n",
      "SWM λ: [2.7936761  2.31368116 6.66632346 9.5806704  4.92043884 4.2690617\n",
      " 7.17361526 2.37876972 6.75656014 3.14720321]\n",
      "SWM p: [0.32709068 0.286791   0.63567011 0.86828936 0.49569806 0.44535351\n",
      " 0.67614046 0.29202623 0.64252157 0.35447966]\n",
      "SWM Dmax: 0.7964125679109589\n",
      "Optimization terminated successfully.    (Exit mode 0)\n",
      "            Current function value: -37.58977177842789\n",
      "            Iterations: 12\n",
      "            Function evaluations: 145\n",
      "            Gradient evaluations: 12\n",
      "SWM r: [20.68276245 20.64382986 20.66515329 20.67182551 20.68587363 20.7109738\n",
      " 20.71078741 20.67500694 20.69903351 20.72764555]\n",
      "==============================\n",
      "social welfare: 245.14823407853794\n",
      "sum lambda: 50.0  lambda0: 50\n",
      "['MD 1 Dn: 0.7964115679548526', 'MD 2 Dn: 0.7964115679483934', 'MD 3 Dn: 0.7964115679393275', 'MD 4 Dn: 0.7964115679412533', 'MD 5 Dn: 0.7964115679650721', 'MD 6 Dn: 0.7964115679572981', 'MD 7 Dn: 0.7964115679616978', 'MD 8 Dn: 0.7964115679645147', 'MD 9 Dn: 0.7964115679449383', 'MD 10 Dn: 0.7964115679386645']\n",
      "Dmax: 0.7964125679109589  D0: 3\n",
      "max Dn: 0.7964115679650721\n",
      "Dmax == max Dn: False\n",
      "Dn<=Dmax: True\n",
      "Dmax<=D0: True\n",
      "pn<=Fn: True\n",
      "lambda_n<=pn/sl: True\n",
      "sum r: 206.87289195212662 Q_star: 247.73097374840424\n",
      "rn>=Ln: True\n"
     ]
    }
   ],
   "source": [
    "lam_swm, p_swm, Dmax_swm = baseline.social_welfare_maximization(esp, MDs)\n",
    "print(f\"SWM λ: {lam_swm}\")\n",
    "print(f\"SWM p: {p_swm}\")  \n",
    "print(f\"SWM Dmax: {Dmax_swm}\")\n",
    "r_swm = baseline.solve_r_NBP(esp, MDs, Dmax_swm, lam_swm, p_swm)\n",
    "print(f\"SWM r: {r_swm}\")\n",
    "print(\"==============================\")\n",
    "print(\"social welfare:\",model.social_welfare(esp, MDs, lam_swm, p_swm))\n",
    "print(\"sum lambda:\", np.sum(lam_swm), \" lambda0:\", esp.lambda0)\n",
    "print([f\"MD {i+1} Dn: {md.delay(p_swm[i],lam_swm[i])}\" for i, md in enumerate(MDs)])\n",
    "print(\"Dmax:\", Dmax_swm, \" D0:\", esp.D0)\n",
    "max_Dn = max(md.delay(p_swm[i], lam_swm[i]) for i, md in enumerate(MDs))\n",
    "print(\"max Dn:\", max_Dn)\n",
    "print(\"Dmax == max Dn:\", Dmax_swm == max_Dn)\n",
    "print(\"Dn<=Dmax:\", all(md.delay(p_swm[i], lam_swm[i]) <= Dmax_swm for i, md in enumerate(MDs)))\n",
    "print(\"Dmax<=D0:\", Dmax_swm <= esp.D0)\n",
    "print(\"pn<=Fn:\", all(p_swm[i] <= md.Fn for i, md in enumerate(MDs)))\n",
    "print(\"lambda_n<=pn/sl:\", all(lam_swm[i] <= p_swm[i] / (md.s*md.l) for i, md in enumerate(MDs)))\n",
    "print(\"sum r:\", np.sum(r_swm), \"Q_star:\", esp.Q(max_Dn))\n",
    "print(\"rn>=Ln:\", all(r_swm[i] >= md.Ln(p_swm[i]) for i, md in enumerate(MDs)))"
   ]
  },
  {
   "cell_type": "code",
   "execution_count": 6,
   "metadata": {},
   "outputs": [
    {
     "name": "stderr",
     "output_type": "stream",
     "text": [
      "d:\\Program\\Anaconda\\lib\\site-packages\\scipy\\optimize\\_hessian_update_strategy.py:187: UserWarning: delta_grad == 0.0. Check if the approximated function is linear. If the function is linear better results can be obtained by defining the Hessian as zero instead of using quasi-Newton approximations.\n",
      "  'approximations.', UserWarning)\n"
     ]
    },
    {
     "name": "stdout",
     "output_type": "stream",
     "text": [
      "✅ 这个点严格满足所有约束（在容差范围内）。\n",
      "Optimization terminated successfully.    (Exit mode 0)\n",
      "            Current function value: -35.98812131832307\n",
      "            Iterations: 59\n",
      "            Function evaluations: 1948\n",
      "            Gradient evaluations: 59\n",
      "Optimal λ: [4.84048218 4.74769353 5.1733058  5.31423328 4.98065634 4.93264803\n",
      " 5.19159526 4.82942949 5.14613748 4.84381861]\n",
      "Optimal p: [0.48926739 0.48000077 0.51469772 0.52545906 0.49899342 0.49686566\n",
      " 0.51605123 0.48656696 0.51216767 0.48866783]\n",
      "Optimal r: [20.8111587  20.82055493 20.56067607 20.51122049 20.65549879 20.72429146\n",
      " 20.58863828 20.84045136 20.58289172 20.83150454]\n",
      "Optimal Dmax: 0.808277617873896\n",
      "==============================\n",
      "social welfare: 244.7511247091813\n",
      "sum lambda: 50.0  lambda0: 50\n",
      "['MD 1 Dn: 0.8082776179066538', 'MD 2 Dn: 0.8082776178374794', 'MD 3 Dn: 0.8082776178869839', 'MD 4 Dn: 0.8082776178591748', 'MD 5 Dn: 0.8082776178740338', 'MD 6 Dn: 0.8082776178759148', 'MD 7 Dn: 0.8082776178769785', 'MD 8 Dn: 0.808277617882433', 'MD 9 Dn: 0.8082776178881402', 'MD 10 Dn: 0.8082776178763337']\n",
      "Dmax: 0.808277617873896  D0: 3\n",
      "max Dn: 0.8082776179066538\n",
      "Dmax == max Dn: False\n",
      "Dn<=Dmax: False\n",
      "Dmax<=D0: True\n",
      "pn<=Fn: True\n",
      "lambda_n<=pn/sl: True\n",
      "sum r: 206.92688634106858 Q_star: 247.7186891730559\n",
      "rn>=Ln: True\n"
     ]
    }
   ],
   "source": [
    "lam_opt, p_opt, r_opt, Dmax_opt = baseline.optimal_NBP(esp, MDs)\n",
    "print(f\"Optimal λ: {lam_opt}\")\n",
    "print(f\"Optimal p: {p_opt}\")  \n",
    "print(f\"Optimal r: {r_opt}\")\n",
    "print(f\"Optimal Dmax: {Dmax_opt}\")\n",
    "print(\"==============================\")\n",
    "print(\"social welfare:\",model.social_welfare(esp, MDs, lam_opt, p_opt))\n",
    "print(\"sum lambda:\", np.sum(lam_opt), \" lambda0:\", esp.lambda0)\n",
    "print([f\"MD {i+1} Dn: {md.delay(p_opt[i],lam_opt[i])}\" for i, md in enumerate(MDs)])\n",
    "print(\"Dmax:\", Dmax_opt, \" D0:\", esp.D0)\n",
    "print(\"max Dn:\", max(md.delay(p_opt[i], lam_opt[i]) for i, md in enumerate(MDs)))\n",
    "print(\"Dmax == max Dn:\", Dmax_opt == max(md.delay(p_opt[i], lam_opt[i]) for i, md in enumerate(MDs)))\n",
    "print(\"Dn<=Dmax:\", all(md.delay(p_opt[i], lam_opt[i]) <= Dmax_opt for i, md in enumerate(MDs)))\n",
    "print(\"Dmax<=D0:\", Dmax_opt <= esp.D0)\n",
    "print(\"pn<=Fn:\", all(p_opt[i] <= md.Fn for i, md in enumerate(MDs)))\n",
    "print(\"lambda_n<=pn/sl:\", all(lam_opt[i] <= p_opt[i] / (md.s*md.l) for i, md in enumerate(MDs)))\n",
    "print(\"sum r:\", np.sum(r_opt), \"Q_star:\", esp.Q(Dmax_opt))\n",
    "print(\"rn>=Ln:\", all(r_opt[i] >= md.Ln(p_opt[i]) for i, md in enumerate(MDs)))"
   ]
  },
  {
   "cell_type": "code",
   "execution_count": 7,
   "metadata": {},
   "outputs": [
    {
     "name": "stdout",
     "output_type": "stream",
     "text": [
      "MD SLSQP failed: Iteration limit exceeded\n",
      "ADMM λ: [3.7425965  3.28905239 6.23274678 7.75015316 4.79432653 4.43719053\n",
      " 6.49842393 3.55726373 6.02970723 3.6685392 ]\n",
      "ADMM p: [0.40231988 0.36416106 0.60031556 0.72118595 0.48494466 0.45811631\n",
      " 0.62145815 0.38564586 0.5837097  0.39551399]\n",
      "ADMM Dmax: 0.8015498395542375\n",
      "ADMM r: [20.74322653 20.71016821 20.63165597 20.60061758 20.66553611 20.71083742\n",
      " 20.6672791  20.75575847 20.64844938 20.7567785 ]\n",
      "==============================\n",
      "social welfare: 245.01216618098908\n",
      "sum lambda: 50.000000000000014  lambda0: 50\n",
      "['MD 1 Dn: 0.8015473607214391', 'MD 2 Dn: 0.801547381740688', 'MD 3 Dn: 0.8015482922281147', 'MD 4 Dn: 0.8015520074256207', 'MD 5 Dn: 0.8015476651131107', 'MD 6 Dn: 0.8015474627751893', 'MD 7 Dn: 0.8015486954411308', 'MD 8 Dn: 0.8015464668038227', 'MD 9 Dn: 0.8015482695804274', 'MD 10 Dn: 0.8015461019662413']\n",
      "Dmax: 0.8015498395542375  D0: 3\n",
      "max Dn: 0.8015520074256207\n",
      "Dmax == max Dn: False\n",
      "Dn<=Dmax: False\n",
      "Dmax<=D0: True\n",
      "pn<=Fn: True\n",
      "lambda_n<=pn/sl: True\n",
      "sum r: 206.89030725651273 Q_star: 247.72567052464532\n",
      "rn>=Ln: True\n"
     ]
    }
   ],
   "source": [
    "lamb_admm, p_admm, Dmax_admm = NBS.ADMM(esp, MDs)\n",
    "print(f\"ADMM λ: {lamb_admm}\")\n",
    "print(f\"ADMM p: {p_admm}\")  \n",
    "print(f\"ADMM Dmax: {Dmax_admm}\")\n",
    "r_admm = NBS.negotiation(esp, MDs,lamb_admm, p_admm, Dmax_admm)\n",
    "print(f\"ADMM r: {r_admm}\")\n",
    "print(\"==============================\")\n",
    "print(\"social welfare:\",model.social_welfare(esp, MDs, lamb_admm, p_admm))\n",
    "print(\"sum lambda:\", np.sum(lamb_admm), \" lambda0:\", esp.lambda0)\n",
    "print([f\"MD {i+1} Dn: {md.delay(p_admm[i],lamb_admm[i])}\" for i, md in enumerate(MDs)])\n",
    "print(\"Dmax:\", Dmax_admm, \" D0:\", esp.D0)\n",
    "print(\"max Dn:\", max(md.delay(p_admm[i], lamb_admm[i]) for i, md in enumerate(MDs)))\n",
    "print(\"Dmax == max Dn:\", Dmax_admm == max(md.delay(p_admm[i], lamb_admm[i]) for i, md in enumerate(MDs)))\n",
    "print(\"Dn<=Dmax:\", all(md.delay(p_admm[i], lamb_admm[i]) <= Dmax_admm for i, md in enumerate(MDs)))\n",
    "print(\"Dmax<=D0:\", Dmax_admm <= esp.D0)\n",
    "print(\"pn<=Fn:\", all(p_admm[i] <= md.Fn for i, md in enumerate(MDs)))\n",
    "print(\"lambda_n<=pn/sl:\", all(lamb_admm[i] <= p_admm[i] / (md.s*md.l) for i, md in enumerate(MDs)))\n",
    "print(\"sum r:\", np.sum(r_admm), \"Q_star:\", esp.Q(Dmax_admm))\n",
    "print(\"rn>=Ln:\", all(r_admm[i] >= md.Ln(p_admm[i]) for i, md in enumerate(MDs)))"
   ]
  },
  {
   "cell_type": "code",
   "execution_count": 8,
   "metadata": {},
   "outputs": [
    {
     "name": "stdout",
     "output_type": "stream",
     "text": [
      "Nash Product Opt: 37.5703170844825\n",
      "Nash Product SWM: 37.58977133932888\n",
      "Nash Product ADMM: 37.58310896998472\n",
      "Nash Product Proportional: 33.65776480543405\n",
      "Nash Product Uniform: 36.19223869212411\n",
      "=============================\n",
      "SW Opt: 244.7511247091813\n",
      "SW SWM: 245.14823407853794\n",
      "SW ADMM: 245.01216618098908\n",
      "SW Proportional: 193.93964638257935\n",
      "SW Uniform: 242.08589301080127\n",
      "=============================\n",
      "Dmax Opt: 0.808277617873896\n",
      "Dmax SWM: 0.7964125679109589\n",
      "Dmax ADMM: 0.8015498395542375\n",
      "Dmax Proportional: 0.1028355471996345\n",
      "Dmax Uniform: 1.4162059331166177\n"
     ]
    }
   ],
   "source": [
    "print(\"Nash Product Opt:\",model.nash_product_log(esp, MDs, lam_opt, p_opt, r_opt))\n",
    "print(\"Nash Product SWM:\",model.nash_product_log(esp, MDs, lam_swm, p_swm, r_swm))\n",
    "print(\"Nash Product ADMM:\",model.nash_product_log(esp, MDs, lamb_admm, p_admm, r_admm))\n",
    "print(\"Nash Product Proportional:\",model.nash_product_log(esp, MDs, lam_pro, p_pro, r_pro))\n",
    "print(\"Nash Product Uniform:\",model.nash_product_log(esp, MDs, lam_uni, p_uni, r_uni))\n",
    "print(\"=============================\")\n",
    "print(\"SW Opt:\",model.social_welfare(esp, MDs, lam_opt, p_opt))\n",
    "print(\"SW SWM:\",model.social_welfare(esp, MDs, lam_swm, p_swm))\n",
    "print(\"SW ADMM:\",model.social_welfare(esp, MDs, lamb_admm, p_admm))\n",
    "print(\"SW Proportional:\",model.social_welfare(esp, MDs, lam_pro, p_pro))\n",
    "print(\"SW Uniform:\",model.social_welfare(esp, MDs, lam_uni, p_uni))\n",
    "print(\"=============================\")\n",
    "print(\"Dmax Opt:\", Dmax_opt)\n",
    "print(\"Dmax SWM:\", Dmax_swm)\n",
    "print(\"Dmax ADMM:\", Dmax_admm)\n",
    "print(\"Dmax Proportional:\", Dmax_pro)\n",
    "print(\"Dmax Uniform:\", Dmax_uni)"
   ]
  }
 ],
 "metadata": {
  "colab": {
   "authorship_tag": "ABX9TyPdgnMAVga6FnqKiT4PPNVw",
   "mount_file_id": "1gBbxAffnNWxKVgA38_bI-qo56li6ucKz",
   "provenance": []
  },
  "kernelspec": {
   "display_name": "base",
   "language": "python",
   "name": "python3"
  },
  "language_info": {
   "codemirror_mode": {
    "name": "ipython",
    "version": 3
   },
   "file_extension": ".py",
   "mimetype": "text/x-python",
   "name": "python",
   "nbconvert_exporter": "python",
   "pygments_lexer": "ipython3",
   "version": "3.7.0"
  }
 },
 "nbformat": 4,
 "nbformat_minor": 0
}
