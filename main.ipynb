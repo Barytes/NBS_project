{
 "cells": [
  {
   "cell_type": "code",
   "execution_count": 1,
   "metadata": {
    "colab": {
     "base_uri": "https://localhost:8080/"
    },
    "executionInfo": {
     "elapsed": 20091,
     "status": "ok",
     "timestamp": 1750816088466,
     "user": {
      "displayName": "Beiyan Liu",
      "userId": "04431032521835523381"
     },
     "user_tz": -480
    },
    "id": "GH444lHrKjIn",
    "outputId": "00152aeb-e0d4-49c7-eab5-7fce807f247e"
   },
   "outputs": [
    {
     "name": "stdout",
     "output_type": "stream",
     "text": [
      "项目路径设置为: c:\\Users\\Barytes\\Desktop\\NBS_project\n"
     ]
    }
   ],
   "source": [
    "import os\n",
    "import sys\n",
    "\n",
    "def is_colab():\n",
    "    return 'google.colab' in sys.modules\n",
    "\n",
    "if is_colab():\n",
    "    from google.colab import drive\n",
    "    drive.mount('/content/drive')\n",
    "    PROJECT_PATH = '/content/drive/MyDrive/NBS_Project'\n",
    "else:\n",
    "    # 自动根据当前脚本定位项目根路径\n",
    "    PROJECT_PATH = os.path.abspath(os.path.join(os.path.dirname(__file__), '..')) \\\n",
    "        if '__file__' in globals() else os.getcwd()\n",
    "\n",
    "if PROJECT_PATH not in sys.path:\n",
    "    sys.path.append(PROJECT_PATH)\n",
    "\n",
    "print(f\"项目路径设置为: {PROJECT_PATH}\")"
   ]
  },
  {
   "cell_type": "code",
   "execution_count": 2,
   "metadata": {},
   "outputs": [
    {
     "name": "stdout",
     "output_type": "stream",
     "text": [
      "{'s': 10, 'l': 400, 'cn': 2.0036944949797606e-12, 'Fn': 11184.383282690447, 'kn': 0.6030448723331675, 'omega_n': 1, 'Rn': 4.13472934445215}\n",
      "{'s': 10, 'l': 400, 'cn': 3.4154627557952525e-12, 'Fn': 11763.722651118956, 'kn': 0.6005547151781037, 'omega_n': 1, 'Rn': 10.248845012378245}\n",
      "{'s': 10, 'l': 400, 'cn': 2.329039400190971e-12, 'Fn': 12132.134540686906, 'kn': 0.4558846802194673, 'omega_n': 1, 'Rn': 6.716553285779903}\n",
      "{'s': 10, 'l': 400, 'cn': 1.278081871246422e-12, 'Fn': 13819.930286313422, 'kn': 0.49440308019386203, 'omega_n': 1, 'Rn': 9.231363952354403}\n",
      "{'s': 10, 'l': 400, 'cn': 3.432905838092195e-12, 'Fn': 13913.825949541608, 'kn': 0.5265274112699365, 'omega_n': 1, 'Rn': 7.948101841125762}\n",
      "{'lambda0': 20, 'D0': 10, 'theta': 10, 'o': 10, 'omega_0': 2}\n"
     ]
    }
   ],
   "source": [
    "from src.config import Config\n",
    "from src.main import create_MDs,create_ESP\n",
    "import src.baseline as baseline\n",
    "import src.NBS as NBS\n",
    "import src.model as model\n",
    "import numpy as np\n",
    "\n",
    "CONFIG_PATH = os.path.join(PROJECT_PATH, \"configs\", \"test1.json\")\n",
    "config = Config(CONFIG_PATH)\n",
    "\n",
    "# Create MDs with a specific seed for reproducibility\n",
    "seed = 41\n",
    "MDs = create_MDs(config, seed=seed)\n",
    "# np.random.shuffle(MDs)  # Shuffle the MDs\n",
    "\n",
    "for md in MDs:\n",
    "    print(md.param)\n",
    "\n",
    "esp = create_ESP(config, seed=seed)\n",
    "print(esp.param)"
   ]
  },
  {
   "cell_type": "code",
   "execution_count": 3,
   "metadata": {},
   "outputs": [
    {
     "name": "stdout",
     "output_type": "stream",
     "text": [
      "Optimization terminated successfully.    (Exit mode 0)\n",
      "            Current function value: -0.04017705789245194\n",
      "            Iterations: 97\n",
      "            Function evaluations: 1458\n",
      "            Gradient evaluations: 93\n",
      "SWM λ: [1.87418807 1.9274377  4.73977224 4.94837847 4.58241755]\n",
      "SWM p: [1.00000000e-06 1.00000008e-06 1.12495805e+04 1.20828069e+04\n",
      " 1.06223758e+04]\n",
      "SWM Dmax: 1.8849736036717633\n",
      "Optimization terminated successfully.    (Exit mode 0)\n",
      "            Current function value: -0.004944714982477892\n",
      "            Iterations: 37\n",
      "            Function evaluations: 259\n",
      "            Gradient evaluations: 37\n",
      "SWM r: [4953644.80647307 4953644.806575   4953695.52693493 4953716.28199323\n",
      " 4953725.61350551]\n"
     ]
    }
   ],
   "source": [
    "lam_swm, p_swm, Dmax_swm = baseline.social_welfare_maximization(esp, MDs)\n",
    "print(f\"SWM λ: {lam_swm}\")\n",
    "print(f\"SWM p: {p_swm}\")  \n",
    "print(f\"SWM Dmax: {Dmax_swm}\")\n",
    "r_swm = baseline.solve_r_NBP(esp, MDs, Dmax_swm, lam_swm, p_swm)\n",
    "print(f\"SWM r: {r_swm}\")"
   ]
  },
  {
   "cell_type": "code",
   "execution_count": 4,
   "metadata": {},
   "outputs": [
    {
     "name": "stdout",
     "output_type": "stream",
     "text": [
      "Optimization terminated successfully.    (Exit mode 0)\n",
      "            Current function value: -0.014353182246047152\n",
      "            Iterations: 5\n",
      "            Function evaluations: 18\n",
      "            Gradient evaluations: 1\n",
      "Optimal λ: [20.  0. 20.  0.  0.]\n",
      "Optimal p: [1.11843833e+04 1.00000000e-06 1.00000000e-06 1.00000000e-06\n",
      " 1.39138259e+04]\n",
      "Optimal r: [7.14496116e+13 3.49341043e+14 2.76492679e+15 1.82825513e+15\n",
      " 1.71438576e+15]\n",
      "Optimal Dmax: 1e-06\n"
     ]
    }
   ],
   "source": [
    "lam_opt, p_opt, r_opt, Dmax_opt = baseline.optimal_NBP(esp, MDs)\n",
    "print(f\"Optimal λ: {lam_opt}\")\n",
    "print(f\"Optimal p: {p_opt}\")  \n",
    "print(f\"Optimal r: {r_opt}\")\n",
    "print(f\"Optimal Dmax: {Dmax_opt}\")"
   ]
  },
  {
   "cell_type": "code",
   "execution_count": 5,
   "metadata": {},
   "outputs": [
    {
     "ename": "AssertionError",
     "evalue": "",
     "output_type": "error",
     "traceback": [
      "\u001b[1;31m---------------------------------------------------------------------------\u001b[0m",
      "\u001b[1;31mAssertionError\u001b[0m                            Traceback (most recent call last)",
      "\u001b[1;32m<ipython-input-5-d42e728970cc>\u001b[0m in \u001b[0;36m<module>\u001b[1;34m()\u001b[0m\n\u001b[0;32m      1\u001b[0m \u001b[1;31m# 核对 Proposition 1\u001b[0m\u001b[1;33m\u001b[0m\u001b[1;33m\u001b[0m\u001b[0m\n\u001b[1;32m----> 2\u001b[1;33m \u001b[1;32massert\u001b[0m \u001b[0mnp\u001b[0m\u001b[1;33m.\u001b[0m\u001b[0mallclose\u001b[0m\u001b[1;33m(\u001b[0m\u001b[0mlam_swm\u001b[0m\u001b[1;33m,\u001b[0m \u001b[0mlam_opt\u001b[0m\u001b[1;33m,\u001b[0m \u001b[0matol\u001b[0m\u001b[1;33m=\u001b[0m\u001b[1;36m1e-4\u001b[0m\u001b[1;33m)\u001b[0m\u001b[1;33m\u001b[0m\u001b[0m\n\u001b[0m\u001b[0;32m      3\u001b[0m \u001b[1;32massert\u001b[0m \u001b[0mnp\u001b[0m\u001b[1;33m.\u001b[0m\u001b[0mallclose\u001b[0m\u001b[1;33m(\u001b[0m\u001b[0mp_swm\u001b[0m\u001b[1;33m,\u001b[0m   \u001b[0mp_opt\u001b[0m\u001b[1;33m,\u001b[0m   \u001b[0matol\u001b[0m\u001b[1;33m=\u001b[0m\u001b[1;36m1e-4\u001b[0m\u001b[1;33m)\u001b[0m\u001b[1;33m\u001b[0m\u001b[0m\n\u001b[0;32m      4\u001b[0m \u001b[1;32massert\u001b[0m \u001b[0mabs\u001b[0m\u001b[1;33m(\u001b[0m\u001b[0mDmax_swm\u001b[0m \u001b[1;33m-\u001b[0m \u001b[0mDmax_opt\u001b[0m\u001b[1;33m)\u001b[0m \u001b[1;33m<\u001b[0m \u001b[1;36m1e-4\u001b[0m\u001b[1;33m\u001b[0m\u001b[0m\n\u001b[0;32m      5\u001b[0m \u001b[0mprint\u001b[0m\u001b[1;33m(\u001b[0m\u001b[1;34m\"OK – SWM and NBP coincide; difference only in r.\"\u001b[0m\u001b[1;33m)\u001b[0m\u001b[1;33m\u001b[0m\u001b[0m\n",
      "\u001b[1;31mAssertionError\u001b[0m: "
     ]
    }
   ],
   "source": [
    "# 核对 Proposition 1\n",
    "assert np.allclose(lam_swm, lam_opt, atol=1e-4)\n",
    "assert np.allclose(p_swm,   p_opt,   atol=1e-4)\n",
    "assert abs(Dmax_swm - Dmax_opt) < 1e-4\n",
    "print(\"OK – SWM and NBP coincide; difference only in r.\")"
   ]
  },
  {
   "cell_type": "code",
   "execution_count": 8,
   "metadata": {},
   "outputs": [
    {
     "name": "stdout",
     "output_type": "stream",
     "text": [
      "SLSQP failed: Positive directional derivative for linesearch\n",
      "SLSQP failed: Positive directional derivative for linesearch\n",
      "SLSQP failed: Positive directional derivative for linesearch\n",
      "SLSQP failed: Positive directional derivative for linesearch\n",
      "SLSQP failed: Positive directional derivative for linesearch\n",
      "SLSQP failed: Positive directional derivative for linesearch\n",
      "SLSQP failed: Positive directional derivative for linesearch\n",
      "SLSQP failed: Positive directional derivative for linesearch\n",
      "SLSQP failed: Positive directional derivative for linesearch\n",
      "SLSQP failed: Positive directional derivative for linesearch\n",
      "SLSQP failed: Positive directional derivative for linesearch\n",
      "SLSQP failed: Positive directional derivative for linesearch\n",
      "SLSQP failed: Positive directional derivative for linesearch\n",
      "SLSQP failed: Positive directional derivative for linesearch\n",
      "SLSQP failed: Positive directional derivative for linesearch\n",
      "SLSQP failed: Positive directional derivative for linesearch\n",
      "SLSQP failed: Positive directional derivative for linesearch\n",
      "SLSQP failed: Positive directional derivative for linesearch\n",
      "SLSQP failed: Positive directional derivative for linesearch\n",
      "SLSQP failed: Positive directional derivative for linesearch\n",
      "SLSQP failed: Inequality constraints incompatible\n",
      "SLSQP failed: Positive directional derivative for linesearch\n",
      "SLSQP failed: Positive directional derivative for linesearch\n",
      "SLSQP failed: Positive directional derivative for linesearch\n",
      "SLSQP failed: Positive directional derivative for linesearch\n",
      "SLSQP failed: Positive directional derivative for linesearch\n",
      "SLSQP failed: Inequality constraints incompatible\n",
      "SLSQP failed: Inequality constraints incompatible\n",
      "SLSQP failed: Positive directional derivative for linesearch\n",
      "SLSQP failed: Inequality constraints incompatible\n",
      "SLSQP failed: Inequality constraints incompatible\n",
      "SLSQP failed: Inequality constraints incompatible\n",
      "SLSQP failed: Inequality constraints incompatible\n",
      "SLSQP failed: Inequality constraints incompatible\n",
      "SLSQP failed: Inequality constraints incompatible\n",
      "SLSQP failed: Inequality constraints incompatible\n",
      "SLSQP failed: Inequality constraints incompatible\n",
      "SLSQP failed: Inequality constraints incompatible\n",
      "SLSQP failed: Inequality constraints incompatible\n",
      "SLSQP failed: Inequality constraints incompatible\n",
      "SLSQP failed: Inequality constraints incompatible\n",
      "SLSQP failed: Inequality constraints incompatible\n",
      "SLSQP failed: Inequality constraints incompatible\n",
      "SLSQP failed: Inequality constraints incompatible\n",
      "SLSQP failed: Inequality constraints incompatible\n",
      "SLSQP failed: Inequality constraints incompatible\n",
      "SLSQP failed: Inequality constraints incompatible\n",
      "SLSQP failed: Inequality constraints incompatible\n",
      "SLSQP failed: Inequality constraints incompatible\n",
      "SLSQP failed: Inequality constraints incompatible\n",
      "SLSQP failed: Inequality constraints incompatible\n",
      "SLSQP failed: Inequality constraints incompatible\n",
      "SLSQP failed: Inequality constraints incompatible\n",
      "SLSQP failed: Inequality constraints incompatible\n",
      "SLSQP failed: Inequality constraints incompatible\n",
      "SLSQP failed: Inequality constraints incompatible\n",
      "SLSQP failed: Inequality constraints incompatible\n",
      "SLSQP failed: Inequality constraints incompatible\n",
      "SLSQP failed: Inequality constraints incompatible\n",
      "SLSQP failed: Inequality constraints incompatible\n",
      "SLSQP failed: Inequality constraints incompatible\n",
      "SLSQP failed: Inequality constraints incompatible\n",
      "SLSQP failed: Inequality constraints incompatible\n",
      "SLSQP failed: Inequality constraints incompatible\n",
      "SLSQP failed: Inequality constraints incompatible\n",
      "SLSQP failed: Inequality constraints incompatible\n",
      "SLSQP failed: Inequality constraints incompatible\n",
      "SLSQP failed: Inequality constraints incompatible\n",
      "SLSQP failed: Inequality constraints incompatible\n",
      "SLSQP failed: Inequality constraints incompatible\n",
      "SLSQP failed: Positive directional derivative for linesearch\n",
      "SLSQP failed: Inequality constraints incompatible\n",
      "SLSQP failed: Inequality constraints incompatible\n",
      "SLSQP failed: Inequality constraints incompatible\n",
      "SLSQP failed: Inequality constraints incompatible\n",
      "SLSQP failed: Inequality constraints incompatible\n",
      "SLSQP failed: Inequality constraints incompatible\n",
      "SLSQP failed: Inequality constraints incompatible\n",
      "SLSQP failed: Inequality constraints incompatible\n",
      "SLSQP failed: Inequality constraints incompatible\n",
      "SLSQP failed: Inequality constraints incompatible\n",
      "SLSQP failed: Inequality constraints incompatible\n",
      "SLSQP failed: Inequality constraints incompatible\n",
      "SLSQP failed: Inequality constraints incompatible\n",
      "SLSQP failed: Inequality constraints incompatible\n",
      "SLSQP failed: Inequality constraints incompatible\n",
      "SLSQP failed: Inequality constraints incompatible\n",
      "SLSQP failed: Inequality constraints incompatible\n",
      "SLSQP failed: Inequality constraints incompatible\n",
      "SLSQP failed: Inequality constraints incompatible\n",
      "SLSQP failed: Inequality constraints incompatible\n",
      "SLSQP failed: Inequality constraints incompatible\n",
      "SLSQP failed: Inequality constraints incompatible\n",
      "SLSQP failed: Inequality constraints incompatible\n",
      "ADMM λ: [0. 0. 0. 0. 0. 0. 0. 0. 0. 0. 0. 0. 0. 0. 0. 0. 0. 0. 0. 0. 0. 0. 0. 0.\n",
      " 0. 0. 0. 0. 0. 0. 0. 0. 0. 0. 0. 0. 0. 0. 0. 0. 0. 0. 0. 0. 0. 0. 0. 0.\n",
      " 0. 0.]\n",
      "ADMM p: [5.59219164e+09 5.88186133e+09 6.06606727e+09 6.90996514e+09\n",
      " 6.95691297e+09 6.24604279e+09 5.75244789e+09 6.66444930e+09\n",
      " 6.94300128e+09 7.15256293e+09 7.30171593e+09 5.81257417e+09\n",
      " 7.32301318e+09 6.03265362e+09 6.61653835e+09 6.22844234e+09\n",
      " 5.87689227e+09 7.15913972e+09 6.48485518e+09 7.27023787e+09\n",
      " 6.20574497e+09 6.62602826e+09 6.16208568e+09 6.67274656e+09\n",
      " 5.68911942e+09 7.21377227e+09 6.75920409e+09 5.52919700e+09\n",
      " 5.61705997e+09 6.98059207e+09 7.18240025e+09 5.64493524e+09\n",
      " 6.95434170e+09 5.50663746e+09 6.29947275e+09 5.68372926e+09\n",
      " 6.90328776e+09 5.90429252e+09 7.38330560e+09 6.07525873e+09\n",
      " 5.97874802e+09 5.54645307e+09 7.42318041e+09 6.54902241e+09\n",
      " 6.24426034e+09 5.55085003e+09 7.20094823e+09 6.85659366e+09\n",
      " 6.45125842e+09 7.29821987e+09]\n",
      "ADMM Dmax: 9.999999999\n"
     ]
    },
    {
     "ename": "TypeError",
     "evalue": "unsupported operand type(s) for -: 'NoneType' and 'float'",
     "output_type": "error",
     "traceback": [
      "\u001b[1;31m---------------------------------------------------------------------------\u001b[0m",
      "\u001b[1;31mTypeError\u001b[0m                                 Traceback (most recent call last)",
      "\u001b[1;32m<ipython-input-8-e44b03991a17>\u001b[0m in \u001b[0;36m<module>\u001b[1;34m()\u001b[0m\n\u001b[0;32m      3\u001b[0m \u001b[0mprint\u001b[0m\u001b[1;33m(\u001b[0m\u001b[1;34mf\"ADMM p: {p_admm}\"\u001b[0m\u001b[1;33m)\u001b[0m\u001b[1;33m\u001b[0m\u001b[0m\n\u001b[0;32m      4\u001b[0m \u001b[0mprint\u001b[0m\u001b[1;33m(\u001b[0m\u001b[1;34mf\"ADMM Dmax: {Dmax_admm}\"\u001b[0m\u001b[1;33m)\u001b[0m\u001b[1;33m\u001b[0m\u001b[0m\n\u001b[1;32m----> 5\u001b[1;33m \u001b[0mr_admm\u001b[0m \u001b[1;33m=\u001b[0m \u001b[0mNBS\u001b[0m\u001b[1;33m.\u001b[0m\u001b[0mnegotiation\u001b[0m\u001b[1;33m(\u001b[0m\u001b[0mesp\u001b[0m\u001b[1;33m,\u001b[0m \u001b[0mMDs\u001b[0m\u001b[1;33m,\u001b[0m\u001b[0mlamb_admm\u001b[0m\u001b[1;33m,\u001b[0m \u001b[0mp_admm\u001b[0m\u001b[1;33m,\u001b[0m \u001b[0mDmax_admm\u001b[0m\u001b[1;33m)\u001b[0m\u001b[1;33m\u001b[0m\u001b[0m\n\u001b[0m\u001b[0;32m      6\u001b[0m \u001b[0mprint\u001b[0m\u001b[1;33m(\u001b[0m\u001b[1;34mf\"ADMM r: {r_admm}\"\u001b[0m\u001b[1;33m)\u001b[0m\u001b[1;33m\u001b[0m\u001b[0m\n",
      "\u001b[1;32mc:\\Users\\Barytes\\Desktop\\NBS_project\\src\\NBS.py\u001b[0m in \u001b[0;36mnegotiation\u001b[1;34m(ESP, MDs, lamb, p, Dmax)\u001b[0m\n\u001b[0;32m    209\u001b[0m     \u001b[0mQ_star\u001b[0m\u001b[1;33m,\u001b[0m\u001b[0mL_star\u001b[0m \u001b[1;33m=\u001b[0m \u001b[0mESP\u001b[0m\u001b[1;33m.\u001b[0m\u001b[0mQ\u001b[0m\u001b[1;33m(\u001b[0m\u001b[0mDm\u001b[0m\u001b[1;33m)\u001b[0m\u001b[1;33m,\u001b[0m \u001b[1;33m[\u001b[0m\u001b[0mmd\u001b[0m\u001b[1;33m.\u001b[0m\u001b[0mLn\u001b[0m\u001b[1;33m(\u001b[0m\u001b[0mp\u001b[0m\u001b[1;33m[\u001b[0m\u001b[0mi\u001b[0m\u001b[1;33m]\u001b[0m\u001b[1;33m)\u001b[0m \u001b[1;32mfor\u001b[0m \u001b[0mi\u001b[0m\u001b[1;33m,\u001b[0m\u001b[0mmd\u001b[0m \u001b[1;32min\u001b[0m \u001b[0menumerate\u001b[0m\u001b[1;33m(\u001b[0m\u001b[0mMDs\u001b[0m\u001b[1;33m)\u001b[0m\u001b[1;33m]\u001b[0m\u001b[1;33m\u001b[0m\u001b[0m\n\u001b[0;32m    210\u001b[0m     \u001b[1;31m# print(f\"Q_star={Q_star}, L_star={L_star}, Dm={Dm}\")\u001b[0m\u001b[1;33m\u001b[0m\u001b[1;33m\u001b[0m\u001b[0m\n\u001b[1;32m--> 211\u001b[1;33m     \u001b[0mM\u001b[0m\u001b[1;33m,\u001b[0m\u001b[0mS_star\u001b[0m \u001b[1;33m=\u001b[0m \u001b[1;36m1e5\u001b[0m\u001b[1;33m,\u001b[0m \u001b[0mQ_star\u001b[0m\u001b[1;33m-\u001b[0m\u001b[0mnp\u001b[0m\u001b[1;33m.\u001b[0m\u001b[0msum\u001b[0m\u001b[1;33m(\u001b[0m\u001b[0mL_star\u001b[0m\u001b[1;33m)\u001b[0m\u001b[1;33m\u001b[0m\u001b[0m\n\u001b[0m\u001b[0;32m    212\u001b[0m     \u001b[0mgamma_high\u001b[0m\u001b[1;33m,\u001b[0m \u001b[0mgamma_low\u001b[0m \u001b[1;33m=\u001b[0m \u001b[0mM\u001b[0m\u001b[1;33m,\u001b[0m \u001b[0mESP\u001b[0m\u001b[1;33m.\u001b[0m\u001b[0momega_0\u001b[0m\u001b[1;33m/\u001b[0m\u001b[0mS_star\u001b[0m\u001b[1;33m\u001b[0m\u001b[0m\n\u001b[0;32m    213\u001b[0m     \u001b[0mepsilon\u001b[0m \u001b[1;33m=\u001b[0m \u001b[1;36m1e-8\u001b[0m\u001b[1;33m\u001b[0m\u001b[0m\n",
      "\u001b[1;31mTypeError\u001b[0m: unsupported operand type(s) for -: 'NoneType' and 'float'"
     ]
    }
   ],
   "source": [
    "lamb_admm, p_admm, Dmax_admm = NBS.ADMM(esp, MDs)\n",
    "print(f\"ADMM λ: {lamb_admm}\")\n",
    "print(f\"ADMM p: {p_admm}\")  \n",
    "print(f\"ADMM Dmax: {Dmax_admm}\")\n",
    "r_admm = NBS.negotiation(esp, MDs,lamb_admm, p_admm, Dmax_admm)\n",
    "print(f\"ADMM r: {r_admm}\")"
   ]
  },
  {
   "cell_type": "code",
   "execution_count": 9,
   "metadata": {},
   "outputs": [
    {
     "ename": "TypeError",
     "evalue": "unsupported operand type(s) for -: 'NoneType' and 'float'",
     "output_type": "error",
     "traceback": [
      "\u001b[1;31m---------------------------------------------------------------------------\u001b[0m",
      "\u001b[1;31mTypeError\u001b[0m                                 Traceback (most recent call last)",
      "\u001b[1;32m<ipython-input-9-a4eb8a882b28>\u001b[0m in \u001b[0;36m<module>\u001b[1;34m()\u001b[0m\n\u001b[1;32m----> 1\u001b[1;33m \u001b[0mprint\u001b[0m\u001b[1;33m(\u001b[0m\u001b[0mmodel\u001b[0m\u001b[1;33m.\u001b[0m\u001b[0mnash_product_log\u001b[0m\u001b[1;33m(\u001b[0m\u001b[0mesp\u001b[0m\u001b[1;33m,\u001b[0m \u001b[0mMDs\u001b[0m\u001b[1;33m,\u001b[0m \u001b[0mlam_opt\u001b[0m\u001b[1;33m,\u001b[0m \u001b[0mp_opt\u001b[0m\u001b[1;33m,\u001b[0m \u001b[0mr_opt\u001b[0m\u001b[1;33m)\u001b[0m\u001b[1;33m)\u001b[0m\u001b[1;33m\u001b[0m\u001b[0m\n\u001b[0m\u001b[0;32m      2\u001b[0m \u001b[0mprint\u001b[0m\u001b[1;33m(\u001b[0m\u001b[0mmodel\u001b[0m\u001b[1;33m.\u001b[0m\u001b[0mnash_product_log\u001b[0m\u001b[1;33m(\u001b[0m\u001b[0mesp\u001b[0m\u001b[1;33m,\u001b[0m \u001b[0mMDs\u001b[0m\u001b[1;33m,\u001b[0m \u001b[0mlam_swm\u001b[0m\u001b[1;33m,\u001b[0m \u001b[0mp_swm\u001b[0m\u001b[1;33m,\u001b[0m \u001b[0mr_swm\u001b[0m\u001b[1;33m)\u001b[0m\u001b[1;33m)\u001b[0m\u001b[1;33m\u001b[0m\u001b[0m\n\u001b[0;32m      3\u001b[0m \u001b[0mprint\u001b[0m\u001b[1;33m(\u001b[0m\u001b[0mmodel\u001b[0m\u001b[1;33m.\u001b[0m\u001b[0mnash_product_log\u001b[0m\u001b[1;33m(\u001b[0m\u001b[0mesp\u001b[0m\u001b[1;33m,\u001b[0m \u001b[0mMDs\u001b[0m\u001b[1;33m,\u001b[0m \u001b[0mlamb_admm\u001b[0m\u001b[1;33m,\u001b[0m \u001b[0mp_admm\u001b[0m\u001b[1;33m,\u001b[0m \u001b[0mr_admm\u001b[0m\u001b[1;33m)\u001b[0m\u001b[1;33m)\u001b[0m\u001b[1;33m\u001b[0m\u001b[0m\n",
      "\u001b[1;32mc:\\Users\\Barytes\\Desktop\\NBS_project\\src\\model.py\u001b[0m in \u001b[0;36mnash_product_log\u001b[1;34m(ESP, MDs, lam, p, r)\u001b[0m\n\u001b[0;32m      9\u001b[0m \u001b[1;32mdef\u001b[0m \u001b[0mnash_product_log\u001b[0m\u001b[1;33m(\u001b[0m\u001b[0mESP\u001b[0m\u001b[1;33m,\u001b[0m\u001b[0mMDs\u001b[0m\u001b[1;33m,\u001b[0m\u001b[0mlam\u001b[0m\u001b[1;33m,\u001b[0m\u001b[0mp\u001b[0m\u001b[1;33m,\u001b[0m\u001b[0mr\u001b[0m\u001b[1;33m)\u001b[0m\u001b[1;33m:\u001b[0m\u001b[1;33m\u001b[0m\u001b[0m\n\u001b[0;32m     10\u001b[0m     \u001b[0mDmax\u001b[0m \u001b[1;33m=\u001b[0m \u001b[0mmax\u001b[0m\u001b[1;33m(\u001b[0m\u001b[1;33m[\u001b[0m\u001b[0mmd\u001b[0m\u001b[1;33m.\u001b[0m\u001b[0ms\u001b[0m\u001b[1;33m/\u001b[0m\u001b[0mmd\u001b[0m\u001b[1;33m.\u001b[0m\u001b[0mRn\u001b[0m \u001b[1;33m+\u001b[0m \u001b[1;36m1\u001b[0m\u001b[1;33m/\u001b[0m\u001b[1;33m(\u001b[0m\u001b[0mpn\u001b[0m\u001b[1;33m/\u001b[0m\u001b[1;33m(\u001b[0m\u001b[0mmd\u001b[0m\u001b[1;33m.\u001b[0m\u001b[0ms\u001b[0m\u001b[1;33m*\u001b[0m\u001b[0mmd\u001b[0m\u001b[1;33m.\u001b[0m\u001b[0ml\u001b[0m\u001b[1;33m)\u001b[0m\u001b[1;33m-\u001b[0m\u001b[0mlamn\u001b[0m\u001b[1;33m)\u001b[0m \u001b[1;32mfor\u001b[0m \u001b[1;33m(\u001b[0m\u001b[0mmd\u001b[0m\u001b[1;33m,\u001b[0m\u001b[0mpn\u001b[0m\u001b[1;33m,\u001b[0m\u001b[0mlamn\u001b[0m\u001b[1;33m)\u001b[0m \u001b[1;32min\u001b[0m \u001b[0mzip\u001b[0m\u001b[1;33m(\u001b[0m\u001b[0mMDs\u001b[0m\u001b[1;33m,\u001b[0m\u001b[0mp\u001b[0m\u001b[1;33m,\u001b[0m\u001b[0mlam\u001b[0m\u001b[1;33m)\u001b[0m\u001b[1;33m]\u001b[0m\u001b[1;33m)\u001b[0m\u001b[1;33m\u001b[0m\u001b[0m\n\u001b[1;32m---> 11\u001b[1;33m     \u001b[0mn0\u001b[0m \u001b[1;33m=\u001b[0m \u001b[0mESP\u001b[0m\u001b[1;33m.\u001b[0m\u001b[0momega_0\u001b[0m \u001b[1;33m*\u001b[0m \u001b[0mnp\u001b[0m\u001b[1;33m.\u001b[0m\u001b[0mlog\u001b[0m\u001b[1;33m(\u001b[0m\u001b[0mESP\u001b[0m\u001b[1;33m.\u001b[0m\u001b[0mQ\u001b[0m\u001b[1;33m(\u001b[0m\u001b[0mDmax\u001b[0m\u001b[1;33m)\u001b[0m\u001b[1;33m-\u001b[0m\u001b[0mnp\u001b[0m\u001b[1;33m.\u001b[0m\u001b[0msum\u001b[0m\u001b[1;33m(\u001b[0m\u001b[0mr\u001b[0m\u001b[1;33m)\u001b[0m\u001b[1;33m)\u001b[0m\u001b[1;33m\u001b[0m\u001b[0m\n\u001b[0m\u001b[0;32m     12\u001b[0m     \u001b[0mns\u001b[0m \u001b[1;33m=\u001b[0m \u001b[1;33m[\u001b[0m\u001b[0mmd\u001b[0m\u001b[1;33m.\u001b[0m\u001b[0momega_n\u001b[0m\u001b[1;33m*\u001b[0m\u001b[0mnp\u001b[0m\u001b[1;33m.\u001b[0m\u001b[0mlog\u001b[0m\u001b[1;33m(\u001b[0m\u001b[0mrn\u001b[0m\u001b[1;33m-\u001b[0m\u001b[0mmd\u001b[0m\u001b[1;33m.\u001b[0m\u001b[0mLn\u001b[0m\u001b[1;33m(\u001b[0m\u001b[0mpn\u001b[0m\u001b[1;33m)\u001b[0m\u001b[1;33m)\u001b[0m \u001b[1;32mfor\u001b[0m \u001b[1;33m(\u001b[0m\u001b[0mmd\u001b[0m\u001b[1;33m,\u001b[0m\u001b[0mrn\u001b[0m\u001b[1;33m,\u001b[0m\u001b[0mpn\u001b[0m\u001b[1;33m)\u001b[0m \u001b[1;32min\u001b[0m \u001b[0mzip\u001b[0m\u001b[1;33m(\u001b[0m\u001b[0mMDs\u001b[0m\u001b[1;33m,\u001b[0m\u001b[0mr\u001b[0m\u001b[1;33m,\u001b[0m\u001b[0mp\u001b[0m\u001b[1;33m)\u001b[0m\u001b[1;33m]\u001b[0m\u001b[1;33m\u001b[0m\u001b[0m\n\u001b[0;32m     13\u001b[0m     \u001b[1;32mreturn\u001b[0m \u001b[0mn0\u001b[0m\u001b[1;33m+\u001b[0m\u001b[0mnp\u001b[0m\u001b[1;33m.\u001b[0m\u001b[0msum\u001b[0m\u001b[1;33m(\u001b[0m\u001b[0mns\u001b[0m\u001b[1;33m)\u001b[0m\u001b[1;33m\u001b[0m\u001b[0m\n",
      "\u001b[1;31mTypeError\u001b[0m: unsupported operand type(s) for -: 'NoneType' and 'float'"
     ]
    }
   ],
   "source": [
    "print(model.nash_product_log(esp, MDs, lam_opt, p_opt, r_opt))\n",
    "print(model.nash_product_log(esp, MDs, lam_swm, p_swm, r_swm))\n",
    "print(model.nash_product_log(esp, MDs, lamb_admm, p_admm, r_admm))"
   ]
  }
 ],
 "metadata": {
  "colab": {
   "authorship_tag": "ABX9TyPdgnMAVga6FnqKiT4PPNVw",
   "mount_file_id": "1gBbxAffnNWxKVgA38_bI-qo56li6ucKz",
   "provenance": []
  },
  "kernelspec": {
   "display_name": "base",
   "language": "python",
   "name": "python3"
  },
  "language_info": {
   "codemirror_mode": {
    "name": "ipython",
    "version": 3
   },
   "file_extension": ".py",
   "mimetype": "text/x-python",
   "name": "python",
   "nbconvert_exporter": "python",
   "pygments_lexer": "ipython3",
   "version": "3.7.0"
  }
 },
 "nbformat": 4,
 "nbformat_minor": 0
}
