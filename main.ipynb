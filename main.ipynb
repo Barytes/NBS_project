{
 "cells": [
  {
   "cell_type": "code",
   "execution_count": 1,
   "metadata": {
    "colab": {
     "base_uri": "https://localhost:8080/"
    },
    "executionInfo": {
     "elapsed": 20091,
     "status": "ok",
     "timestamp": 1750816088466,
     "user": {
      "displayName": "Beiyan Liu",
      "userId": "04431032521835523381"
     },
     "user_tz": -480
    },
    "id": "GH444lHrKjIn",
    "outputId": "00152aeb-e0d4-49c7-eab5-7fce807f247e"
   },
   "outputs": [
    {
     "name": "stdout",
     "output_type": "stream",
     "text": [
      "项目路径设置为: c:\\Users\\Barytes\\Desktop\\NBS_project\n"
     ]
    }
   ],
   "source": [
    "import os\n",
    "import sys\n",
    "\n",
    "def is_colab():\n",
    "    return 'google.colab' in sys.modules\n",
    "\n",
    "if is_colab():\n",
    "    from google.colab import drive\n",
    "    drive.mount('/content/drive')\n",
    "    PROJECT_PATH = '/content/drive/MyDrive/NBS_Project'\n",
    "else:\n",
    "    # 自动根据当前脚本定位项目根路径\n",
    "    PROJECT_PATH = os.path.abspath(os.path.join(os.path.dirname(__file__), '..')) \\\n",
    "        if '__file__' in globals() else os.getcwd()\n",
    "\n",
    "if PROJECT_PATH not in sys.path:\n",
    "    sys.path.append(PROJECT_PATH)\n",
    "\n",
    "print(f\"项目路径设置为: {PROJECT_PATH}\")"
   ]
  },
  {
   "cell_type": "code",
   "execution_count": 2,
   "metadata": {},
   "outputs": [
    {
     "name": "stdout",
     "output_type": "stream",
     "text": [
      "{'s': 10, 'l': 800, 'cn': 0.48727005942368123, 'Fn': 2.4014286128198323, 'kn': 0.6659969709057025, 'omega_n': 1, 'Rn': 9.270270025833746}\n",
      "{'s': 10, 'l': 800, 'cn': 0.3779972601681013, 'Fn': 0.6161672243363989, 'kn': 0.7330880728874676, 'omega_n': 1, 'Rn': 7.653352487012544}\n",
      "{'s': 10, 'l': 800, 'cn': 0.3102922471479012, 'Fn': 2.4398197043239884, 'kn': 0.7162213204002108, 'omega_n': 1, 'Rn': 6.796707114575109}\n",
      "{'s': 10, 'l': 800, 'cn': 0.3917022549267169, 'Fn': 1.1084844859190754, 'kn': 0.5623782158161189, 'omega_n': 1, 'Rn': 7.979027325089509}\n",
      "{'s': 10, 'l': 800, 'cn': 0.6059264473611897, 'Fn': 0.7789877213040837, 'kn': 0.44607232426760907, 'omega_n': 1, 'Rn': 7.104438488824009}\n",
      "{'lambda0': 50, 'D0': 4, 'theta': 5, 'o': 10, 'omega_0': 2}\n"
     ]
    }
   ],
   "source": [
    "from src.config import Config\n",
    "from src.main import create_MDs,create_ESP\n",
    "import src.NBS as NBS\n",
    "import numpy as np\n",
    "CONFIG_PATH = os.path.join(PROJECT_PATH, \"configs\", \"test.json\")\n",
    "config = Config(CONFIG_PATH)\n",
    "\n",
    "# Create MDs with a specific seed for reproducibility\n",
    "seed = 42\n",
    "MDs = create_MDs(config, seed=seed)\n",
    "\n",
    "for md in MDs:\n",
    "    print(md.param)\n",
    "\n",
    "esp = create_ESP(config, seed=seed)\n",
    "print(esp.param)"
   ]
  },
  {
   "cell_type": "code",
   "execution_count": 3,
   "metadata": {},
   "outputs": [
    {
     "name": "stderr",
     "output_type": "stream",
     "text": [
      "c:\\Users\\Barytes\\Desktop\\NBS_project\\src\\NBS.py:69: RuntimeWarning: invalid value encountered in double_scalars\n",
      "  term_u = np.sum([md.cn*(pn**2)+(md.Fn)**md.kn-(md.Fn-pn)**md.kn for md, pn in zip(MDs, p_vec)])\n",
      "d:\\Program\\Anaconda\\lib\\site-packages\\numpy\\core\\fromnumeric.py:51: RuntimeWarning: invalid value encountered in minimum\n",
      "  return getattr(obj, method)(*args, **kwds)\n",
      "d:\\Program\\Anaconda\\lib\\site-packages\\numpy\\core\\fromnumeric.py:51: RuntimeWarning: invalid value encountered in maximum\n",
      "  return getattr(obj, method)(*args, **kwds)\n"
     ]
    },
    {
     "ename": "",
     "evalue": "",
     "output_type": "error",
     "traceback": [
      "\u001b[1;31m在当前单元格或上一个单元格中执行代码时 Kernel 崩溃。\n",
      "\u001b[1;31m请查看单元格中的代码，以确定故障的可能原因。\n",
      "\u001b[1;31m单击<a href='https://aka.ms/vscodeJupyterKernelCrash'>此处</a>了解详细信息。\n",
      "\u001b[1;31m有关更多详细信息，请查看 Jupyter <a href='command:jupyter.viewOutput'>log</a>。"
     ]
    }
   ],
   "source": [
    "lamb, p, Dmax = NBS.ADMM(esp, MDs)\n",
    "print(lamb)\n",
    "print(p)\n",
    "print(Dmax)\n",
    "r = NBS.negotiation(esp, MDs,lamb, p, Dmax)\n",
    "print(r)"
   ]
  }
 ],
 "metadata": {
  "colab": {
   "authorship_tag": "ABX9TyPdgnMAVga6FnqKiT4PPNVw",
   "mount_file_id": "1gBbxAffnNWxKVgA38_bI-qo56li6ucKz",
   "provenance": []
  },
  "kernelspec": {
   "display_name": "base",
   "language": "python",
   "name": "python3"
  },
  "language_info": {
   "codemirror_mode": {
    "name": "ipython",
    "version": 3
   },
   "file_extension": ".py",
   "mimetype": "text/x-python",
   "name": "python",
   "nbconvert_exporter": "python",
   "pygments_lexer": "ipython3",
   "version": "3.7.0"
  }
 },
 "nbformat": 4,
 "nbformat_minor": 0
}
