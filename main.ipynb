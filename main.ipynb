{
 "cells": [
  {
   "cell_type": "code",
   "execution_count": 5,
   "metadata": {
    "colab": {
     "base_uri": "https://localhost:8080/"
    },
    "executionInfo": {
     "elapsed": 20091,
     "status": "ok",
     "timestamp": 1750816088466,
     "user": {
      "displayName": "Beiyan Liu",
      "userId": "04431032521835523381"
     },
     "user_tz": -480
    },
    "id": "GH444lHrKjIn",
    "outputId": "00152aeb-e0d4-49c7-eab5-7fce807f247e"
   },
   "outputs": [
    {
     "name": "stdout",
     "output_type": "stream",
     "text": [
      "项目路径设置为: c:\\Users\\a1831\\Desktop\\NBS_Project\n"
     ]
    }
   ],
   "source": [
    "import os\n",
    "import sys\n",
    "\n",
    "def is_colab():\n",
    "    return 'google.colab' in sys.modules\n",
    "\n",
    "if is_colab():\n",
    "    from google.colab import drive\n",
    "    drive.mount('/content/drive')\n",
    "    PROJECT_PATH = '/content/drive/MyDrive/NBS_Project'\n",
    "else:\n",
    "    # 自动根据当前脚本定位项目根路径\n",
    "    PROJECT_PATH = os.path.abspath(os.path.join(os.path.dirname(__file__), '..')) \\\n",
    "        if '__file__' in globals() else os.getcwd()\n",
    "\n",
    "if PROJECT_PATH not in sys.path:\n",
    "    sys.path.append(PROJECT_PATH)\n",
    "\n",
    "print(f\"项目路径设置为: {PROJECT_PATH}\")"
   ]
  },
  {
   "cell_type": "code",
   "execution_count": 6,
   "metadata": {},
   "outputs": [
    {
     "name": "stdout",
     "output_type": "stream",
     "text": [
      "{'s': 10, 'l': 0.8, 'cn': 0.019204365311182317, 'Fn': 1.7181330785589628, 'kn': 0.36669548209299413, 'omega_n': 1, 'Rn': 6.593466928446109}\n",
      "{'s': 10, 'l': 0.8, 'cn': 0.07873099927588781, 'Fn': 1.8321804261960515, 'kn': 0.5705811061417019, 'omega_n': 1, 'Rn': 2.0511786712565887}\n",
      "{'s': 10, 'l': 0.8, 'cn': 0.04159600147448047, 'Fn': 2.104094237257333, 'kn': 0.42721056292993964, 'omega_n': 1, 'Rn': 2.7066179693116306}\n",
      "{'s': 10, 'l': 0.8, 'cn': 0.027682319670749703, 'Fn': 1.3099788960945193, 'kn': 0.45804823550910434, 'omega_n': 1, 'Rn': 3.202507720360912}\n",
      "{'s': 10, 'l': 0.8, 'cn': 0.07791513181958891, 'Fn': 2.442930182870776, 'kn': 0.49268845719756904, 'omega_n': 1, 'Rn': 10.55394502033278}\n",
      "{'lambda0': 50, 'D0': 4, 'theta': 5, 'o': 10, 'omega_0': 2}\n"
     ]
    }
   ],
   "source": [
    "from src.config import Config\n",
    "from src.main import create_MDs,create_ESP\n",
    "import src.baseline as baseline\n",
    "import src.NBS as NBS\n",
    "import numpy as np\n",
    "CONFIG_PATH = os.path.join(PROJECT_PATH, \"configs\", \"test.json\")\n",
    "config = Config(CONFIG_PATH)\n",
    "\n",
    "# Create MDs with a specific seed for reproducibility\n",
    "seed = 43\n",
    "MDs = create_MDs(config, seed=seed)\n",
    "\n",
    "for md in MDs:\n",
    "    print(md.param)\n",
    "\n",
    "esp = create_ESP(config, seed=seed)\n",
    "print(esp.param)"
   ]
  },
  {
   "cell_type": "code",
   "execution_count": 7,
   "metadata": {},
   "outputs": [
    {
     "name": "stdout",
     "output_type": "stream",
     "text": [
      "Optimal λ: [ 9.98967099  9.99688304 10.01407975  9.96385706 10.03550917]\n",
      "Optimal p: [1.71812995 1.8321804  2.10409316 1.30997834 2.44292994]\n",
      "Optimal r: [35.15252507 35.55724771 35.43470623 35.0601437  35.89979582]\n",
      "Optimal Dmax: 2.051244742892487\n"
     ]
    }
   ],
   "source": [
    "lam_opt, p_opt, r_opt, Dmax_opt = baseline.optimal_NBP(esp, MDs)\n",
    "print(f\"Optimal λ: {lam_opt}\")\n",
    "print(f\"Optimal p: {p_opt}\")  \n",
    "print(f\"Optimal r: {r_opt}\")\n",
    "print(f\"Optimal Dmax: {Dmax_opt}\")"
   ]
  },
  {
   "cell_type": "code",
   "execution_count": 8,
   "metadata": {},
   "outputs": [
    {
     "name": "stdout",
     "output_type": "stream",
     "text": [
      "lamb: [3.82535315e+262 2.75425377e+278 3.33728903e+019 8.79415321e+000\n",
      " 8.74568578e-001] [4.09664289e+05 1.19571890e+04 4.36667479e+08 9.34584884e+03\n",
      " 2.29778466e-09]\n",
      "Dmax: 3.3537343615989497 [3119.86424381 3126.73619149 3126.73619149 3133.60813916 3532.18110423]\n",
      "p: [5.17238563e-12 4.67852548e-07 3.92378225e-02 2.28049126e-02\n",
      " 2.44293018e+00]\n",
      "[33.10243639 33.10243659 33.11350656 33.11151751 35.12024022]\n"
     ]
    }
   ],
   "source": [
    "lamb, p, Dmax = NBS.ADMM(esp, MDs)\n",
    "# print(lamb)\n",
    "# print(p)\n",
    "# print(Dmax)\n",
    "r = NBS.negotiation(esp, MDs,lamb, p, Dmax)\n",
    "print(r)"
   ]
  }
 ],
 "metadata": {
  "colab": {
   "authorship_tag": "ABX9TyPdgnMAVga6FnqKiT4PPNVw",
   "mount_file_id": "1gBbxAffnNWxKVgA38_bI-qo56li6ucKz",
   "provenance": []
  },
  "kernelspec": {
   "display_name": "base",
   "language": "python",
   "name": "python3"
  },
  "language_info": {
   "codemirror_mode": {
    "name": "ipython",
    "version": 3
   },
   "file_extension": ".py",
   "mimetype": "text/x-python",
   "name": "python",
   "nbconvert_exporter": "python",
   "pygments_lexer": "ipython3",
   "version": "3.7.0"
  }
 },
 "nbformat": 4,
 "nbformat_minor": 0
}
