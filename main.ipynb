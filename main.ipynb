{
 "cells": [
  {
   "cell_type": "code",
   "execution_count": 1,
   "metadata": {
    "colab": {
     "base_uri": "https://localhost:8080/"
    },
    "executionInfo": {
     "elapsed": 20091,
     "status": "ok",
     "timestamp": 1750816088466,
     "user": {
      "displayName": "Beiyan Liu",
      "userId": "04431032521835523381"
     },
     "user_tz": -480
    },
    "id": "GH444lHrKjIn",
    "outputId": "00152aeb-e0d4-49c7-eab5-7fce807f247e"
   },
   "outputs": [
    {
     "name": "stdout",
     "output_type": "stream",
     "text": [
      "项目路径设置为: c:\\Users\\a1831\\Desktop\\NBS_Project\n"
     ]
    }
   ],
   "source": [
    "import os\n",
    "import sys\n",
    "\n",
    "def is_colab():\n",
    "    return 'google.colab' in sys.modules\n",
    "\n",
    "if is_colab():\n",
    "    from google.colab import drive\n",
    "    drive.mount('/content/drive')\n",
    "    PROJECT_PATH = '/content/drive/MyDrive/NBS_Project'\n",
    "else:\n",
    "    # 自动根据当前脚本定位项目根路径\n",
    "    PROJECT_PATH = os.path.abspath(os.path.join(os.path.dirname(__file__), '..')) \\\n",
    "        if '__file__' in globals() else os.getcwd()\n",
    "\n",
    "if PROJECT_PATH not in sys.path:\n",
    "    sys.path.append(PROJECT_PATH)\n",
    "\n",
    "print(f\"项目路径设置为: {PROJECT_PATH}\")"
   ]
  },
  {
   "cell_type": "code",
   "execution_count": 52,
   "metadata": {},
   "outputs": [
    {
     "name": "stdout",
     "output_type": "stream",
     "text": [
      "{'s': 0.1, 'l': 0.8, 'cn': 0.540195464528839, 'Fn': 1.9123324177973449, 'kn': 0.2603644452820671, 'omega_n': 1, 'Rn': 7.514263728549031}\n",
      "{'s': 0.1, 'l': 0.8, 'cn': 0.9869510648376378, 'Fn': 2.6327888013327883, 'kn': 0.7664561149429193, 'omega_n': 1, 'Rn': 9.579412974152985}\n",
      "{'s': 0.1, 'l': 0.8, 'cn': 0.4084216720608006, 'Fn': 2.4070592699862496, 'kn': 0.15255751936623188, 'omega_n': 1, 'Rn': 9.581415772875358}\n",
      "{'s': 0.1, 'l': 0.8, 'cn': 0.5983618223126913, 'Fn': 2.2543629859868184, 'kn': 0.8804360367734104, 'omega_n': 1, 'Rn': 8.899050644522536}\n",
      "{'s': 0.1, 'l': 0.8, 'cn': 0.5513938702825492, 'Fn': 3.096414010656456, 'kn': 0.9194409092602214, 'omega_n': 1, 'Rn': 7.613632009116485}\n",
      "{'s': 0.1, 'l': 0.8, 'cn': 0.14651023508479327, 'Fn': 2.3082292162520583, 'kn': 0.06527360638806357, 'omega_n': 1, 'Rn': 4.461658670934971}\n",
      "{'s': 0.1, 'l': 0.8, 'cn': 0.9348335484187288, 'Fn': 3.856370829736375, 'kn': 0.7280338567283863, 'omega_n': 1, 'Rn': 6.396976487364239}\n",
      "{'s': 0.1, 'l': 0.8, 'cn': 0.4617140165733187, 'Fn': 3.7328230821093804, 'kn': 0.646917550727281, 'omega_n': 1, 'Rn': 9.054571302579603}\n",
      "{'s': 0.1, 'l': 0.8, 'cn': 0.7072978805313771, 'Fn': 4.512225210409385, 'kn': 0.790782918015447, 'omega_n': 1, 'Rn': 6.2702298305538315}\n",
      "{'s': 0.1, 'l': 0.8, 'cn': 0.7958319731768128, 'Fn': 3.903001113397087, 'kn': 0.13235759961980093, 'omega_n': 1, 'Rn': 10.331886922775496}\n",
      "{'lambda0': 50, 'D0': 5, 'theta': 5, 'o': 5, 'omega_0': 2}\n"
     ]
    }
   ],
   "source": [
    "from src.config import Config\n",
    "from src.main import create_MDs,create_ESP\n",
    "import src.baseline as baseline\n",
    "import src.NBS as NBS\n",
    "import src.model as model\n",
    "import numpy as np\n",
    "\n",
    "CONFIG_PATH = os.path.join(PROJECT_PATH, \"configs\", \"test.json\")\n",
    "config = Config(CONFIG_PATH)\n",
    "\n",
    "# Create MDs with a specific seed for reproducibility\n",
    "seed = 50\n",
    "MDs = create_MDs(config, seed=seed)\n",
    "# np.random.shuffle(MDs)  # Shuffle the MDs\n",
    "\n",
    "for md in MDs:\n",
    "    print(md.param)\n",
    "\n",
    "esp = create_ESP(config, seed=seed)\n",
    "print(esp.param)"
   ]
  },
  {
   "cell_type": "code",
   "execution_count": 53,
   "metadata": {},
   "outputs": [
    {
     "name": "stdout",
     "output_type": "stream",
     "text": [
      "✅ 这个点严格满足所有约束（在容差范围内）。\n",
      "Optimization terminated successfully    (Exit mode 0)\n",
      "            Current function value: -318.6253630122395\n",
      "            Iterations: 6\n",
      "            Function evaluations: 44\n",
      "            Gradient evaluations: 2\n",
      "SWM λ: [4.97301816 4.99670967 4.99109246 4.98651688 5.00522755 4.98821114\n",
      " 5.01387379 5.01278046 5.01830876 5.01426113]\n",
      "SWM p: [1.91233242 2.6327888  2.40705927 2.25436299 3.09641401 1.69375934\n",
      " 3.85637083 3.73282308 4.51222521 3.90300111]\n",
      "SWM Dmax: 0.9904401514344436\n",
      "Optimization terminated successfully    (Exit mode 0)\n",
      "            Current function value: -32.697506999052706\n",
      "            Iterations: 12\n",
      "            Function evaluations: 132\n",
      "            Gradient evaluations: 12\n",
      "SWM r: [16.74849147 22.5302848  17.09887462 18.67564217 21.70268311 14.09682116\n",
      " 30.16308921 22.36716973 31.28197495 26.90984582]\n"
     ]
    }
   ],
   "source": [
    "lam_swm, p_swm, Dmax_swm = baseline.social_welfare_maximization(esp, MDs)\n",
    "print(f\"SWM λ: {lam_swm}\")\n",
    "print(f\"SWM p: {p_swm}\")  \n",
    "print(f\"SWM Dmax: {Dmax_swm}\")\n",
    "r_swm = baseline.solve_r_NBP(esp, MDs, Dmax_swm, lam_swm, p_swm)\n",
    "print(f\"SWM r: {r_swm}\")"
   ]
  },
  {
   "cell_type": "code",
   "execution_count": 54,
   "metadata": {},
   "outputs": [
    {
     "name": "stdout",
     "output_type": "stream",
     "text": [
      "social welfare: 163.29903469524575\n",
      "sum lambda: 50.000000000000014  lambda0: 50\n",
      "['MD 1 Dn: 0.06613105260920178', 'MD 2 Dn: 0.04626446103000549', 'MD 3 Dn: 0.050282035181861105', 'MD 4 Dn: 0.054353573260285074', 'MD 5 Dn: 0.04280797252840659', 'MD 6 Dn: 0.08420344834415701', 'MD 7 Dn: 0.038785484603551156', 'MD 8 Dn: 0.0350551856100143', 'MD 9 Dn: 0.03540949785306277', 'MD 10 Dn: 0.03252377505923121']\n",
      "Dmax: 0.9904401514344436  D0: 5\n",
      "max Dn: 0.08420344834415701\n",
      "Dmax == max Dn: False\n",
      "Dn<=Dmax: True\n",
      "Dmax<=D0: True\n",
      "pn<=Fn: True\n",
      "lambda_n<=pn/sl: True\n",
      "sum r: 221.57487704805874 Q_star: 248.98287084352265\n",
      "rn>=Ln: True\n"
     ]
    }
   ],
   "source": [
    "print(\"social welfare:\",model.social_welfare(esp, MDs, lam_swm, p_swm))\n",
    "print(\"sum lambda:\", np.sum(lam_swm), \" lambda0:\", esp.lambda0)\n",
    "print([f\"MD {i+1} Dn: {md.delay(p_swm[i],lam_swm[i])}\" for i, md in enumerate(MDs)])\n",
    "print(\"Dmax:\", Dmax_swm, \" D0:\", esp.D0)\n",
    "max_Dn = max(md.delay(p_swm[i], lam_swm[i]) for i, md in enumerate(MDs))\n",
    "print(\"max Dn:\", max_Dn)\n",
    "print(\"Dmax == max Dn:\", Dmax_swm == max_Dn)\n",
    "print(\"Dn<=Dmax:\", all(md.delay(p_swm[i], lam_swm[i]) <= Dmax_swm for i, md in enumerate(MDs)))\n",
    "print(\"Dmax<=D0:\", Dmax_swm <= esp.D0)\n",
    "print(\"pn<=Fn:\", all(p_swm[i] <= md.Fn for i, md in enumerate(MDs)))\n",
    "print(\"lambda_n<=pn/sl:\", all(lam_swm[i] <= p_swm[i] / (md.s*md.l) for i, md in enumerate(MDs)))\n",
    "print(\"sum r:\", np.sum(r_swm), \"Q_star:\", esp.Q(max_Dn))\n",
    "print(\"rn>=Ln:\", all(r_swm[i] >= md.Ln(p_swm[i]) for i, md in enumerate(MDs)))\n"
   ]
  },
  {
   "cell_type": "code",
   "execution_count": 55,
   "metadata": {},
   "outputs": [
    {
     "name": "stdout",
     "output_type": "stream",
     "text": [
      "✅ 这个点严格满足所有约束（在容差范围内）。\n",
      "Optimization terminated successfully    (Exit mode 0)\n",
      "            Current function value: -21.792878338775697\n",
      "            Iterations: 49\n",
      "            Function evaluations: 1569\n",
      "            Gradient evaluations: 49\n",
      "Optimal λ: [5.01781621 4.96572481 5.03209016 4.97622081 4.97702855 5.04999332\n",
      " 4.97580452 5.00820804 4.98430422 5.01280936]\n",
      "Optimal p: [0.45799    0.45370818 0.45901732 0.45457967 0.45472005 0.46093069\n",
      " 0.45472218 0.45713095 0.45541484 0.45744468]\n",
      "Optimal r: [20.64810569 20.9407837  20.57601373 20.94633369 20.95231794 20.50094532\n",
      " 20.88036982 20.74085126 20.86654182 20.63985185]\n",
      "Optimal Dmax: 1.4276174616152084\n"
     ]
    }
   ],
   "source": [
    "lam_opt, p_opt, r_opt, Dmax_opt = baseline.optimal_NBP(esp, MDs)\n",
    "print(f\"Optimal λ: {lam_opt}\")\n",
    "print(f\"Optimal p: {p_opt}\")  \n",
    "print(f\"Optimal r: {r_opt}\")\n",
    "print(f\"Optimal Dmax: {Dmax_opt}\")"
   ]
  },
  {
   "cell_type": "code",
   "execution_count": 56,
   "metadata": {},
   "outputs": [
    {
     "name": "stdout",
     "output_type": "stream",
     "text": [
      "social welfare: 245.44918037567504\n",
      "sum lambda: 50.0  lambda0: 50\n",
      "['MD 1 Dn: 1.4276174618236994', 'MD 2 Dn: 1.427617461887359', 'MD 3 Dn: 1.427617461852763', 'MD 4 Dn: 1.4276174618712285', 'MD 5 Dn: 1.427617461881067', 'MD 6 Dn: 1.4276174619015585', 'MD 7 Dn: 1.4276174619172062', 'MD 8 Dn: 1.4276174618879542', 'MD 9 Dn: 1.4276174618794648', 'MD 10 Dn: 1.4276174618802895']\n",
      "Dmax: 1.4276174616152084  D0: 5\n",
      "max Dn: 1.4276174619172062\n",
      "Dmax == max Dn: False\n",
      "Dn<=Dmax: False\n",
      "Dmax<=D0: True\n",
      "pn<=Fn: True\n",
      "lambda_n<=pn/sl: True\n",
      "sum r: 207.69211484050174 Q_star: 248.6003738551861\n",
      "rn>=Ln: True\n"
     ]
    }
   ],
   "source": [
    "print(\"social welfare:\",model.social_welfare(esp, MDs, lam_opt, p_opt))\n",
    "print(\"sum lambda:\", np.sum(lam_opt), \" lambda0:\", esp.lambda0)\n",
    "print([f\"MD {i+1} Dn: {md.delay(p_opt[i],lam_opt[i])}\" for i, md in enumerate(MDs)])\n",
    "print(\"Dmax:\", Dmax_opt, \" D0:\", esp.D0)\n",
    "print(\"max Dn:\", max(md.delay(p_opt[i], lam_opt[i]) for i, md in enumerate(MDs)))\n",
    "print(\"Dmax == max Dn:\", Dmax_opt == max(md.delay(p_opt[i], lam_opt[i]) for i, md in enumerate(MDs)))\n",
    "print(\"Dn<=Dmax:\", all(md.delay(p_opt[i], lam_opt[i]) <= Dmax_opt for i, md in enumerate(MDs)))\n",
    "print(\"Dmax<=D0:\", Dmax_opt <= esp.D0)\n",
    "print(\"pn<=Fn:\", all(p_opt[i] <= md.Fn for i, md in enumerate(MDs)))\n",
    "print(\"lambda_n<=pn/sl:\", all(lam_opt[i] <= p_opt[i] / (md.s*md.l) for i, md in enumerate(MDs)))\n",
    "print(\"sum r:\", np.sum(r_opt), \"Q_star:\", esp.Q(Dmax_opt))\n",
    "print(\"rn>=Ln:\", all(r_opt[i] >= md.Ln(p_opt[i]) for i, md in enumerate(MDs)))"
   ]
  },
  {
   "cell_type": "code",
   "execution_count": 22,
   "metadata": {},
   "outputs": [
    {
     "ename": "AssertionError",
     "evalue": "",
     "output_type": "error",
     "traceback": [
      "\u001b[1;31m---------------------------------------------------------------------------\u001b[0m",
      "\u001b[1;31mAssertionError\u001b[0m                            Traceback (most recent call last)",
      "Cell \u001b[1;32mIn[22], line 2\u001b[0m\n\u001b[0;32m      1\u001b[0m \u001b[38;5;66;03m# 核对 Proposition 1\u001b[39;00m\n\u001b[1;32m----> 2\u001b[0m \u001b[38;5;28;01massert\u001b[39;00m np\u001b[38;5;241m.\u001b[39mallclose(lam_swm, lam_opt, atol\u001b[38;5;241m=\u001b[39m\u001b[38;5;241m1e-4\u001b[39m)\n\u001b[0;32m      3\u001b[0m \u001b[38;5;28;01massert\u001b[39;00m np\u001b[38;5;241m.\u001b[39mallclose(p_swm,   p_opt,   atol\u001b[38;5;241m=\u001b[39m\u001b[38;5;241m1e-4\u001b[39m)\n\u001b[0;32m      4\u001b[0m \u001b[38;5;28;01massert\u001b[39;00m \u001b[38;5;28mabs\u001b[39m(Dmax_swm \u001b[38;5;241m-\u001b[39m Dmax_opt) \u001b[38;5;241m<\u001b[39m \u001b[38;5;241m1e-4\u001b[39m\n",
      "\u001b[1;31mAssertionError\u001b[0m: "
     ]
    }
   ],
   "source": [
    "# 核对 Proposition 1\n",
    "assert np.allclose(lam_swm, lam_opt, atol=1e-4)\n",
    "assert np.allclose(p_swm,   p_opt,   atol=1e-4)\n",
    "assert abs(Dmax_swm - Dmax_opt) < 1e-4\n",
    "print(\"OK – SWM and NBP coincide\")"
   ]
  },
  {
   "cell_type": "code",
   "execution_count": 7,
   "metadata": {},
   "outputs": [
    {
     "name": "stdout",
     "output_type": "stream",
     "text": [
      "ADMM λ: [5.00117455 5.00117455 5.00117455 5.00117455 5.00117455 5.00117455\n",
      " 5.00117455 5.00117455 5.00117455 4.98942907]\n",
      "ADMM p: [0.59219164 0.88186133 1.06606727 1.90996514 1.95691297 1.24604279\n",
      " 0.75244789 1.6644493  1.94300128 0.48245302]\n",
      "ADMM Dmax: 0.9860397272183473\n",
      "ADMM r: [20.24467713 20.74783153 20.3076497  20.60730078 22.62241895 21.04364342\n",
      " 20.04330502 21.95985595 21.61121012 20.14225114]\n"
     ]
    }
   ],
   "source": [
    "lamb_admm, p_admm, Dmax_admm = NBS.ADMM(esp, MDs)\n",
    "print(f\"ADMM λ: {lamb_admm}\")\n",
    "print(f\"ADMM p: {p_admm}\")  \n",
    "print(f\"ADMM Dmax: {Dmax_admm}\")\n",
    "r_admm = NBS.negotiation(esp, MDs,lamb_admm, p_admm, Dmax_admm)\n",
    "print(f\"ADMM r: {r_admm}\")"
   ]
  },
  {
   "cell_type": "code",
   "execution_count": 8,
   "metadata": {},
   "outputs": [
    {
     "name": "stdout",
     "output_type": "stream",
     "text": [
      "social welfare: 236.5604053699815\n",
      "sum lambda: 50.0  lambda0: 50\n",
      "['MD 1 Dn: 0.4406401804726354', 'MD 2 Dn: 0.17581244763693277', 'MD 3 Dn: 0.13501352355194807', 'MD 4 Dn: 0.06381728806602266', 'MD 5 Dn: 0.06396845431144856', 'MD 6 Dn: 0.12047909112770416', 'MD 7 Dn: 0.24106938540521278', 'MD 8 Dn: 0.07324820580289378', 'MD 9 Dn: 0.06392309481931077', 'MD 10 Dn: 0.9778687470051407']\n",
      "Dmax: 0.9860397272183473  D0: 5\n",
      "max Dn: 0.9778687470051407\n",
      "Dmax == max Dn: False\n",
      "Dn<=Dmax: True\n",
      "Dmax<=D0: True\n",
      "pn<=Fn: True\n",
      "lambda_n<=pn/sl: True\n",
      "sum r: 209.3301437290105 Q_star: 248.75434741247824\n",
      "rn>=Ln: True\n"
     ]
    }
   ],
   "source": [
    "print(\"social welfare:\",model.social_welfare(esp, MDs, lamb_admm, p_admm))\n",
    "print(\"sum lambda:\", np.sum(lamb_admm), \" lambda0:\", esp.lambda0)\n",
    "print([f\"MD {i+1} Dn: {md.delay(p_admm[i],lamb_admm[i])}\" for i, md in enumerate(MDs)])\n",
    "print(\"Dmax:\", Dmax_admm, \" D0:\", esp.D0)\n",
    "print(\"max Dn:\", max(md.delay(p_admm[i], lamb_admm[i]) for i, md in enumerate(MDs)))\n",
    "print(\"Dmax == max Dn:\", Dmax_admm == max(md.delay(p_admm[i], lamb_admm[i]) for i, md in enumerate(MDs)))\n",
    "print(\"Dn<=Dmax:\", all(md.delay(p_admm[i], lamb_admm[i]) <= Dmax_admm for i, md in enumerate(MDs)))\n",
    "print(\"Dmax<=D0:\", Dmax_admm <= esp.D0)\n",
    "print(\"pn<=Fn:\", all(p_admm[i] <= md.Fn for i, md in enumerate(MDs)))\n",
    "print(\"lambda_n<=pn/sl:\", all(lamb_admm[i] <= p_admm[i] / (md.s*md.l) for i, md in enumerate(MDs)))\n",
    "print(\"sum r:\", np.sum(r_admm), \"Q_star:\", esp.Q(Dmax_admm))\n",
    "print(\"rn>=Ln:\", all(r_admm[i] >= md.Ln(p_admm[i]) for i, md in enumerate(MDs)))"
   ]
  },
  {
   "cell_type": "code",
   "execution_count": 9,
   "metadata": {},
   "outputs": [
    {
     "name": "stdout",
     "output_type": "stream",
     "text": [
      "Nash Product Opt: 37.62905234462459\n",
      "Nash Product SWM: 34.947377431549235\n",
      "Nash Product ADMM: 37.161857633415764\n"
     ]
    }
   ],
   "source": [
    "print(\"Nash Product Opt:\",model.nash_product_log(esp, MDs, lam_opt, p_opt, r_opt))\n",
    "print(\"Nash Product SWM:\",model.nash_product_log(esp, MDs, lam_swm, p_swm, r_swm))\n",
    "print(\"Nash Product ADMM:\",model.nash_product_log(esp, MDs, lamb_admm, p_admm, r_admm))"
   ]
  },
  {
   "cell_type": "code",
   "execution_count": 10,
   "metadata": {},
   "outputs": [
    {
     "name": "stdout",
     "output_type": "stream",
     "text": [
      "SW Opt: 245.95202135803618\n",
      "SW SWM: 196.6975155148849\n",
      "SW ADMM: 236.5604053699815\n"
     ]
    }
   ],
   "source": [
    "print(\"SW Opt:\",model.social_welfare(esp, MDs, lam_opt, p_opt))\n",
    "print(\"SW SWM:\",model.social_welfare(esp, MDs, lam_swm, p_swm))\n",
    "print(\"SW ADMM:\",model.social_welfare(esp, MDs, lamb_admm, p_admm))"
   ]
  }
 ],
 "metadata": {
  "colab": {
   "authorship_tag": "ABX9TyPdgnMAVga6FnqKiT4PPNVw",
   "mount_file_id": "1gBbxAffnNWxKVgA38_bI-qo56li6ucKz",
   "provenance": []
  },
  "kernelspec": {
   "display_name": "base",
   "language": "python",
   "name": "python3"
  },
  "language_info": {
   "codemirror_mode": {
    "name": "ipython",
    "version": 3
   },
   "file_extension": ".py",
   "mimetype": "text/x-python",
   "name": "python",
   "nbconvert_exporter": "python",
   "pygments_lexer": "ipython3",
   "version": "3.11.4"
  }
 },
 "nbformat": 4,
 "nbformat_minor": 0
}
