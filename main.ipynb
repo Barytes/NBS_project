{
 "cells": [
  {
   "cell_type": "code",
   "execution_count": 1,
   "metadata": {
    "colab": {
     "base_uri": "https://localhost:8080/"
    },
    "executionInfo": {
     "elapsed": 20091,
     "status": "ok",
     "timestamp": 1750816088466,
     "user": {
      "displayName": "Beiyan Liu",
      "userId": "04431032521835523381"
     },
     "user_tz": -480
    },
    "id": "GH444lHrKjIn",
    "outputId": "00152aeb-e0d4-49c7-eab5-7fce807f247e"
   },
   "outputs": [
    {
     "name": "stdout",
     "output_type": "stream",
     "text": [
      "项目路径设置为: c:\\Users\\a1831\\Desktop\\NBS_Project\n"
     ]
    }
   ],
   "source": [
    "import os\n",
    "import sys\n",
    "\n",
    "def is_colab():\n",
    "    return 'google.colab' in sys.modules\n",
    "\n",
    "if is_colab():\n",
    "    from google.colab import drive\n",
    "    drive.mount('/content/drive')\n",
    "    PROJECT_PATH = '/content/drive/MyDrive/NBS_Project'\n",
    "else:\n",
    "    # 自动根据当前脚本定位项目根路径\n",
    "    PROJECT_PATH = os.path.abspath(os.path.join(os.path.dirname(__file__), '..')) \\\n",
    "        if '__file__' in globals() else os.getcwd()\n",
    "\n",
    "if PROJECT_PATH not in sys.path:\n",
    "    sys.path.append(PROJECT_PATH)\n",
    "\n",
    "print(f\"项目路径设置为: {PROJECT_PATH}\")"
   ]
  },
  {
   "cell_type": "code",
   "execution_count": 2,
   "metadata": {},
   "outputs": [
    {
     "name": "stdout",
     "output_type": "stream",
     "text": [
      "{'s': 0.1, 'l': 0.8, 'cn': 0.32332202513299674, 'Fn': 1.184383282690447, 'kn': 0.6732799162883472, 'omega_n': 1, 'Rn': 4.13472934445215}\n",
      "{'s': 0.1, 'l': 0.8, 'cn': 0.6374404631644437, 'Fn': 1.7637226511189565, 'kn': 0.6651454029151388, 'omega_n': 1, 'Rn': 10.248845012378245}\n",
      "{'s': 0.1, 'l': 0.8, 'cn': 0.395711266542491, 'Fn': 2.1321345406869066, 'kn': 0.19255662205025992, 'omega_n': 1, 'Rn': 6.716553285779903}\n",
      "{'s': 0.1, 'l': 0.8, 'cn': 0.16187321635232887, 'Fn': 3.8199302863134226, 'kn': 0.3183833952999494, 'omega_n': 1, 'Rn': 9.231363952354403}\n",
      "{'s': 0.1, 'l': 0.8, 'cn': 0.6413215489755134, 'Fn': 3.913825949541608, 'kn': 0.4233228768151258, 'omega_n': 1, 'Rn': 7.948101841125762}\n",
      "{'s': 0.1, 'l': 0.8, 'cn': 0.49308149762923636, 'Fn': 2.4920855793255217, 'kn': 0.5819339189335254, 'omega_n': 1, 'Rn': 3.859406010253179}\n",
      "{'s': 0.1, 'l': 0.8, 'cn': 0.17404615893711323, 'Fn': 1.5048957788256199, 'kn': 0.3264336993988291, 'omega_n': 1, 'Rn': 7.130152926250668}\n",
      "{'s': 0.1, 'l': 0.8, 'cn': 0.3500914696054681, 'Fn': 3.328898592922507, 'kn': 0.8651490391568305, 'omega_n': 1, 'Rn': 10.025209575464762}\n",
      "{'s': 0.1, 'l': 0.8, 'cn': 0.40849369667300983, 'Fn': 3.8860025666261127, 'kn': 0.35684000684129563, 'omega_n': 1, 'Rn': 8.282993965974107}\n",
      "{'s': 0.1, 'l': 0.8, 'cn': 0.3515702538177826, 'Fn': 4.305125863998515, 'kn': 0.8668843010518419, 'omega_n': 1, 'Rn': 5.7242544373473425}\n",
      "{'lambda0': 50, 'D0': 3, 'theta': 5, 'o': 5, 'omega_0': 2, 's': 0.1, 'l': 0.8}\n"
     ]
    }
   ],
   "source": [
    "from src.config import Config\n",
    "from src.main import create_MDs,create_ESP\n",
    "import src.baseline as baseline\n",
    "import src.NBS as NBS\n",
    "import src.model as model\n",
    "import numpy as np\n",
    "\n",
    "CONFIG_PATH = os.path.join(PROJECT_PATH, \"configs\", \"test.json\")\n",
    "config = Config(CONFIG_PATH)\n",
    "\n",
    "# Create MDs with a specific seed for reproducibility\n",
    "seed = 41\n",
    "MDs = create_MDs(config, seed=seed)\n",
    "# np.random.shuffle(MDs)  # Shuffle the MDs\n",
    "\n",
    "for md in MDs:\n",
    "    print(md.param)\n",
    "\n",
    "esp = create_ESP(config, seed=seed)\n",
    "print(esp.param)"
   ]
  },
  {
   "cell_type": "code",
   "execution_count": 3,
   "metadata": {},
   "outputs": [
    {
     "name": "stdout",
     "output_type": "stream",
     "text": [
      "Uniform λ: [5. 5. 5. 5. 5. 5. 5. 5. 5. 5.]\n",
      "Uniform p: [0.92100001 0.48527993 0.46095682 3.27435173 2.47417436 0.89095722\n",
      " 1.23730207 1.19202808 1.87957382 2.17605924]\n",
      "Uniform Dmax: 1.3272929506848081\n",
      "Uniform r: [23.04668976 23.04668976 23.04668976 23.04668976 23.04668976 23.04668976\n",
      " 23.04668976 23.04668976 23.04668976 23.04668976]\n",
      "==============================\n",
      "social welfare: 230.4668976068324\n",
      "sum lambda: 50.0  lambda0: 50\n",
      "['MD 1 Dn: 0.17773623972334668', 'MD 2 Dn: 0.9478442742383153', 'MD 3 Dn: 1.3272929506848183', 'MD 4 Dn: 0.03866499814551409', 'MD 5 Dn: 0.05115118397187841', 'MD 6 Dn: 0.18885771097720916', 'MD 7 Dn: 0.10956991337392175', 'MD 8 Dn: 0.11098137321648126', 'MD 9 Dn: 0.06614255302124675', 'MD 10 Dn: 0.06251306644019254']\n",
      "Dmax: 1.3272929506848081  D0: 3\n",
      "max Dn: 1.3272929506848183\n",
      "Dmax == max Dn: False\n",
      "Dn<=Dmax: False\n",
      "Dmax<=D0: True\n",
      "pn<=Fn: True\n",
      "lambda_n<=pn/sl: True\n",
      "sum r: 230.4668976068324 Q_star: 247.01083342594447\n",
      "rn>=Ln: True\n",
      "sum Ln: 16.543935819112093\n"
     ]
    }
   ],
   "source": [
    "T = 100\n",
    "N = len(MDs)\n",
    "lam_uni, p_uni, r_uni, Dmax_uni = np.zeros(N),np.zeros(N),np.zeros(N),0\n",
    "for _ in range(T):\n",
    "    l,p,r,d = baseline.uniform_baseline(esp, MDs,43)\n",
    "    lam_uni += l\n",
    "    p_uni += p \n",
    "    r_uni += r\n",
    "    Dmax_uni += d\n",
    "lam_uni, p_uni, r_uni, Dmax_uni = lam_uni/T, p_uni/T, r_uni/T, Dmax_uni/T\n",
    "\n",
    "print(f\"Uniform λ: {lam_uni}\")\n",
    "print(f\"Uniform p: {p_uni}\")  \n",
    "print(f\"Uniform Dmax: {Dmax_uni}\")\n",
    "print(f\"Uniform r: {r_uni}\")\n",
    "print(\"==============================\")\n",
    "print(\"social welfare:\",model.social_welfare(esp, MDs, lam_uni, p_uni))\n",
    "print(\"sum lambda:\", np.sum(lam_uni), \" lambda0:\", esp.lambda0)\n",
    "print([f\"MD {i+1} Dn: {md.delay(p_uni[i],lam_uni[i])}\" for i, md in enumerate(MDs)])\n",
    "print(\"Dmax:\", Dmax_uni, \" D0:\", esp.D0)\n",
    "max_Dn = max(md.delay(p_uni[i], lam_uni[i]) for i, md in enumerate(MDs))\n",
    "print(\"max Dn:\", max_Dn)\n",
    "print(\"Dmax == max Dn:\", Dmax_uni == max_Dn)\n",
    "print(\"Dn<=Dmax:\", all(md.delay(p_uni[i], lam_uni[i]) <= Dmax_uni for i, md in enumerate(MDs)))\n",
    "print(\"Dmax<=D0:\", Dmax_uni <= esp.D0)\n",
    "print(\"pn<=Fn:\", all(p_uni[i] <= md.Fn for i, md in enumerate(MDs)))\n",
    "print(\"lambda_n<=pn/sl:\", all(lam_uni[i] <= p_uni[i] / (md.s*md.l) for i, md in enumerate(MDs)))\n",
    "print(\"sum r:\", np.sum(r_uni), \"Q_star:\", esp.Q(max_Dn))\n",
    "print(\"rn>=Ln:\", all(r_uni[i] >= md.Ln(p_uni[i]) for i, md in enumerate(MDs)))\n",
    "print(\"sum Ln:\", np.sum([md.Ln(p_uni[i]) for i,md in enumerate(MDs)]))"
   ]
  },
  {
   "cell_type": "code",
   "execution_count": 4,
   "metadata": {},
   "outputs": [
    {
     "name": "stdout",
     "output_type": "stream",
     "text": [
      "Uniform λ: [2.09025991 3.11270752 3.76289958 6.74160743 6.90731927 4.39815949\n",
      " 2.65591668 5.8750097  6.85821515 7.59790528]\n",
      "Uniform p: [1.18438328 1.76372265 2.13213454 3.81993029 3.91382595 2.49208558\n",
      " 1.50489578 3.32889859 3.88600257 4.30512586]\n",
      "Uniform Dmax: 0.1028355471996345\n",
      "Uniform r: [ 8.10768535 12.07354791 14.59550826 26.14929921 26.79206114 17.05954993\n",
      " 10.30175083 22.78794606 26.60159642 29.47070127]\n",
      "==============================\n",
      "social welfare: 193.93964638257935\n",
      "sum lambda: 50.0  lambda0: 50\n",
      "['MD 1 Dn: 0.1028355471996345', 'MD 2 Dn: 0.0625727251662071', 'MD 3 Dn: 0.05857811286095347', 'MD 4 Dn: 0.03521840591599758', 'MD 5 Dn: 0.03638235768232111', 'MD 6 Dn: 0.06328983391342033', 'MD 7 Dn: 0.07592421010504175', 'MD 8 Dn: 0.03795766576644862', 'MD 9 Dn: 0.03604407740719918', 'MD 10 Dn: 0.03910697341732085']\n",
      "Dmax: 0.1028355471996345  D0: 3\n",
      "max Dn: 0.1028355471996345\n",
      "Dmax == max Dn: True\n",
      "Dn<=Dmax: True\n",
      "Dmax<=D0: True\n",
      "pn<=Fn: True\n",
      "lambda_n<=pn/sl: True\n",
      "sum r: 193.93964638257935 Q_star: 248.274174600214\n",
      "rn>=Ln: True\n",
      "sum Ln: 54.33452821763464\n"
     ]
    }
   ],
   "source": [
    "lam_pro, p_pro, r_pro, Dmax_pro = baseline.proportional_baseline(esp,MDs)\n",
    "print(f\"Uniform λ: {lam_pro}\")\n",
    "print(f\"Uniform p: {p_pro}\")  \n",
    "print(f\"Uniform Dmax: {Dmax_pro}\")\n",
    "print(f\"Uniform r: {r_pro}\")\n",
    "print(\"==============================\")\n",
    "print(\"social welfare:\",model.social_welfare(esp, MDs, lam_pro, p_pro))\n",
    "print(\"sum lambda:\", np.sum(lam_pro), \" lambda0:\", esp.lambda0)\n",
    "print([f\"MD {i+1} Dn: {md.delay(p_pro[i],lam_pro[i])}\" for i, md in enumerate(MDs)])\n",
    "print(\"Dmax:\", Dmax_pro, \" D0:\", esp.D0)\n",
    "max_Dn = max(md.delay(p_pro[i], lam_pro[i]) for i, md in enumerate(MDs))\n",
    "print(\"max Dn:\", max_Dn)\n",
    "print(\"Dmax == max Dn:\", Dmax_pro == max_Dn)\n",
    "print(\"Dn<=Dmax:\", all(md.delay(p_pro[i], lam_pro[i]) <= Dmax_pro for i, md in enumerate(MDs)))\n",
    "print(\"Dmax<=D0:\", Dmax_pro <= esp.D0)\n",
    "print(\"pn<=Fn:\", all(p_pro[i] <= md.Fn for i, md in enumerate(MDs)))\n",
    "print(\"lambda_n<=pn/sl:\", all(lam_pro[i] <= p_pro[i] / (md.s*md.l) for i, md in enumerate(MDs)))\n",
    "print(\"sum r:\", np.sum(r_pro), \"Q_star:\", esp.Q(max_Dn))\n",
    "print(\"rn>=Ln:\", all(r_pro[i] >= md.Ln(p_pro[i]) for i, md in enumerate(MDs)))\n",
    "print(\"sum Ln:\", np.sum([md.Ln(p_pro[i]) for i,md in enumerate(MDs)]))"
   ]
  },
  {
   "cell_type": "code",
   "execution_count": 5,
   "metadata": {},
   "outputs": [
    {
     "name": "stderr",
     "output_type": "stream",
     "text": [
      "c:\\Users\\a1831\\anaconda3\\Lib\\site-packages\\scipy\\optimize\\_hessian_update_strategy.py:182: UserWarning: delta_grad == 0.0. Check if the approximated function is linear. If the function is linear better results can be obtained by defining the Hessian as zero instead of using quasi-Newton approximations.\n",
      "  warn('delta_grad == 0.0. Check if the approximated '\n",
      "c:\\Users\\a1831\\anaconda3\\Lib\\site-packages\\scipy\\optimize\\_optimize.py:353: RuntimeWarning: Values in x were outside bounds during a minimize step, clipping to bounds\n",
      "  warnings.warn(\"Values in x were outside bounds during a \"\n"
     ]
    },
    {
     "name": "stdout",
     "output_type": "stream",
     "text": [
      "✅ 这个点严格满足所有约束（在容差范围内）。\n",
      "Positive directional derivative for linesearch    (Exit mode 8)\n",
      "            Current function value: -109.54479465295304\n",
      "            Iterations: 55\n",
      "            Function evaluations: 1196\n",
      "            Gradient evaluations: 51\n",
      "求解失败：8 : Positive directional derivative for linesearch\n",
      "Non-cooperative λ: [1.47260054e+00 1.58756242e-12 8.81833529e+00 1.23563341e+01\n",
      " 4.24129736e+00 3.53570074e+00 9.30581780e+00 9.96655932e-01\n",
      " 8.12533780e+00 1.14958874e+00]\n",
      "Non-cooperative p: [0.1450211695971126, 0, 0.7325941611477165, 1.015596807883097, 0.3664099230109353, 0.31008516690063026, 0.7715848201424343, 0.10681468820983485, 0.6771284868892068, 0.11911819899408618]\n",
      "Non-cooperative Dmax: 2.9639431280720743\n",
      "Non-cooperative r: [0.09147835 0.00771469 0.29379226 0.30508125 0.14949681 0.16460653\n",
      " 0.33477097 0.07276379 0.28576432 0.07991473]\n",
      "==============================\n",
      "social welfare: 109.47324532045435\n",
      "sum lambda: 50.001668296048436  lambda0: 50\n",
      "['MD 1 Dn: 2.9639431280720765', 'MD 2 Dn: 0', 'MD 3 Dn: 2.96394312807207', 'MD 4 Dn: 2.963943128072089', 'MD 5 Dn: 2.963943128072079', 'MD 6 Dn: 2.9639431280720787', 'MD 7 Dn: 2.963943128072072', 'MD 8 Dn: 2.9639431280720756', 'MD 9 Dn: 2.963943128072079', 'MD 10 Dn: 2.9639431280720743']\n",
      "Dmax: 2.9639431280720743  D0: 3\n",
      "max Dn: 2.963943128072089\n",
      "Dmax == max Dn: False\n",
      "Dn<=Dmax: False\n",
      "Dmax<=D0: True\n",
      "pn<=Fn: True\n",
      "lambda_n<=pn/sl: False\n",
      "sum r: 1.78538368324522 Q_star: 111.3301783361419\n",
      "rn>=Ln: False\n",
      "sum Ln: 1.8569330156875459\n"
     ]
    }
   ],
   "source": [
    "lam_non, p_non, r_non, Dmax_non = baseline.non_cooperative_baseline(esp,MDs)\n",
    "print(f\"Non-cooperative λ: {lam_non}\")\n",
    "print(f\"Non-cooperative p: {p_non}\")  \n",
    "print(f\"Non-cooperative Dmax: {Dmax_non}\")\n",
    "print(f\"Non-cooperative r: {r_non}\")\n",
    "print(\"==============================\")\n",
    "print(\"social welfare:\",model.social_welfare(esp, MDs, lam_non, p_non))\n",
    "print(\"sum lambda:\", np.sum(lam_non), \" lambda0:\", esp.lambda0)\n",
    "print([f\"MD {i+1} Dn: {md.delay(p_non[i],lam_non[i])}\" for i, md in enumerate(MDs)])\n",
    "print(\"Dmax:\", Dmax_non, \" D0:\", esp.D0)\n",
    "max_Dn = max(md.delay(p_non[i], lam_non[i]) for i, md in enumerate(MDs))\n",
    "print(\"max Dn:\", max_Dn)\n",
    "print(\"Dmax == max Dn:\", Dmax_non == max_Dn)\n",
    "print(\"Dn<=Dmax:\", all(md.delay(p_non[i], lam_non[i]) <= Dmax_non for i, md in enumerate(MDs)))\n",
    "print(\"Dmax<=D0:\", Dmax_non <= esp.D0)\n",
    "print(\"pn<=Fn:\", all(p_non[i] <= md.Fn for i, md in enumerate(MDs)))\n",
    "print(\"lambda_n<=pn/sl:\", all(lam_non[i] <= p_non[i] / (md.s*md.l) for i, md in enumerate(MDs)))\n",
    "print(\"sum r:\", np.sum(r_non), \"Q_star:\", esp.Q(max_Dn))\n",
    "print(\"rn>=Ln:\", all(r_non[i] >= md.Ln(p_non[i]) for i, md in enumerate(MDs)))\n",
    "print(\"sum Ln:\", np.sum([md.Ln(p_non[i]) for i,md in enumerate(MDs)]))"
   ]
  },
  {
   "cell_type": "code",
   "execution_count": 6,
   "metadata": {},
   "outputs": [
    {
     "name": "stdout",
     "output_type": "stream",
     "text": [
      "✅ 这个点严格满足所有约束（在容差范围内）。\n"
     ]
    },
    {
     "name": "stderr",
     "output_type": "stream",
     "text": [
      "c:\\Users\\a1831\\anaconda3\\Lib\\site-packages\\scipy\\optimize\\_optimize.py:353: RuntimeWarning: Values in x were outside bounds during a minimize step, clipping to bounds\n",
      "  warnings.warn(\"Values in x were outside bounds during a \"\n"
     ]
    },
    {
     "name": "stdout",
     "output_type": "stream",
     "text": [
      "Optimization terminated successfully    (Exit mode 0)\n",
      "            Current function value: -243.3480999047845\n",
      "            Iterations: 316\n",
      "            Function evaluations: 7249\n",
      "            Gradient evaluations: 316\n",
      "SWM λ: [3.07863735 2.9162451  6.54226158 8.40311345 5.48324198 3.02016642\n",
      " 9.41095494 1.75177419 7.60059485 1.79301014]\n",
      "SWM p: [0.34633578 0.33157126 0.62227595 0.77065072 0.53727315 0.34187444\n",
      " 0.85166595 0.23843987 0.70659958 0.24265237]\n",
      "SWM Dmax: 0.8238281718887738\n",
      "Optimization terminated successfully    (Exit mode 0)\n",
      "            Current function value: -37.589656695490305\n",
      "            Iterations: 12\n",
      "            Function evaluations: 133\n",
      "            Gradient evaluations: 12\n",
      "SWM r: [20.70045783 20.68758208 20.65645702 20.63105094 20.72193568 20.62645879\n",
      " 20.82758921 20.62501875 20.74497368 20.62340831]\n",
      "==============================\n",
      "social welfare: 245.14588308480256\n",
      "sum lambda: 49.99999999999999  lambda0: 50\n",
      "['MD 1 Dn: 0.8238271719158742', 'MD 2 Dn: 0.8238271719106848', 'MD 3 Dn: 0.8238271719160407', 'MD 4 Dn: 0.8238271719155932', 'MD 5 Dn: 0.8238271719229201', 'MD 6 Dn: 0.8238271719185213', 'MD 7 Dn: 0.8238271719159668', 'MD 8 Dn: 0.8238271718909722', 'MD 9 Dn: 0.8238271719202606', 'MD 10 Dn: 0.823827171923683']\n",
      "Dmax: 0.8238281718887738  D0: 3\n",
      "max Dn: 0.823827171923683\n",
      "Dmax == max Dn: False\n",
      "Dn<=Dmax: True\n",
      "Dmax<=D0: True\n",
      "pn<=Fn: True\n",
      "lambda_n<=pn/sl: True\n",
      "sum r: 206.84493228580476 Q_star: 247.70238836939257\n",
      "rn>=Ln: True\n",
      "sum Ln: 2.5565052845900045\n"
     ]
    }
   ],
   "source": [
    "lam_swm, p_swm, Dmax_swm = baseline.social_welfare_maximization(esp, MDs)\n",
    "print(f\"SWM λ: {lam_swm}\")\n",
    "print(f\"SWM p: {p_swm}\")  \n",
    "print(f\"SWM Dmax: {Dmax_swm}\")\n",
    "r_swm = baseline.solve_r_NBP(esp, MDs, Dmax_swm, lam_swm, p_swm)\n",
    "print(f\"SWM r: {r_swm}\")\n",
    "print(\"==============================\")\n",
    "print(\"social welfare:\",model.social_welfare(esp, MDs, lam_swm, p_swm))\n",
    "print(\"sum lambda:\", np.sum(lam_swm), \" lambda0:\", esp.lambda0)\n",
    "print([f\"MD {i+1} Dn: {md.delay(p_swm[i],lam_swm[i])}\" for i, md in enumerate(MDs)])\n",
    "print(\"Dmax:\", Dmax_swm, \" D0:\", esp.D0)\n",
    "max_Dn = max(md.delay(p_swm[i], lam_swm[i]) for i, md in enumerate(MDs))\n",
    "print(\"max Dn:\", max_Dn)\n",
    "print(\"Dmax == max Dn:\", Dmax_swm == max_Dn)\n",
    "print(\"Dn<=Dmax:\", all(md.delay(p_swm[i], lam_swm[i]) <= Dmax_swm for i, md in enumerate(MDs)))\n",
    "print(\"Dmax<=D0:\", Dmax_swm <= esp.D0)\n",
    "print(\"pn<=Fn:\", all(p_swm[i] <= md.Fn for i, md in enumerate(MDs)))\n",
    "print(\"lambda_n<=pn/sl:\", all(lam_swm[i] <= p_swm[i] / (md.s*md.l) for i, md in enumerate(MDs)))\n",
    "print(\"sum r:\", np.sum(r_swm), \"Q_star:\", esp.Q(max_Dn))\n",
    "print(\"rn>=Ln:\", all(r_swm[i] >= md.Ln(p_swm[i]) for i, md in enumerate(MDs)))\n",
    "print(\"sum Ln:\", np.sum([md.Ln(p_swm[i]) for i,md in enumerate(MDs)]))"
   ]
  },
  {
   "cell_type": "code",
   "execution_count": 7,
   "metadata": {},
   "outputs": [
    {
     "name": "stdout",
     "output_type": "stream",
     "text": [
      "✅ 这个点严格满足所有约束（在容差范围内）。\n",
      "Optimization terminated successfully    (Exit mode 0)\n",
      "            Current function value: -35.98812131829895\n",
      "            Iterations: 59\n",
      "            Function evaluations: 1889\n",
      "            Gradient evaluations: 59\n",
      "Optimal λ: [4.8404622  4.74770872 5.17328246 5.31423996 4.98064244 4.93263002\n",
      " 5.19162106 4.82944036 5.14614309 4.8438297 ]\n",
      "Optimal p: [0.48926574 0.48000194 0.5146958  0.52545955 0.49899226 0.49686417\n",
      " 0.51605325 0.48656778 0.51216807 0.48866867]\n",
      "Optimal r: [20.81112359 20.82058158 20.56062763 20.51114944 20.65560883 20.72438297\n",
      " 20.58857432 20.84049204 20.58283629 20.83146823]\n",
      "Optimal Dmax: 0.8082780146622826\n",
      "==============================\n",
      "social welfare: 244.7511248467392\n",
      "sum lambda: 50.0  lambda0: 50\n",
      "['MD 1 Dn: 0.8082780146962282', 'MD 2 Dn: 0.8082780146168773', 'MD 3 Dn: 0.8082780146737935', 'MD 4 Dn: 0.8082780146416569', 'MD 5 Dn: 0.8082780146600207', 'MD 6 Dn: 0.8082780146613974', 'MD 7 Dn: 0.8082780146635227', 'MD 8 Dn: 0.8082780146686164', 'MD 9 Dn: 0.8082780146749876', 'MD 10 Dn: 0.8082780146633629']\n",
      "Dmax: 0.8082780146622826  D0: 3\n",
      "max Dn: 0.8082780146962282\n",
      "Dmax == max Dn: False\n",
      "Dn<=Dmax: False\n",
      "Dmax<=D0: True\n",
      "pn<=Fn: True\n",
      "lambda_n<=pn/sl: True\n",
      "sum r: 206.92684491693078 Q_star: 247.7186887600484\n",
      "rn>=Ln: True\n",
      "sum Ln: 2.967563913273872\n"
     ]
    }
   ],
   "source": [
    "lam_opt, p_opt, r_opt, Dmax_opt = baseline.optimal_NBP(esp, MDs)\n",
    "print(f\"Optimal λ: {lam_opt}\")\n",
    "print(f\"Optimal p: {p_opt}\")  \n",
    "print(f\"Optimal r: {r_opt}\")\n",
    "print(f\"Optimal Dmax: {Dmax_opt}\")\n",
    "print(\"==============================\")\n",
    "print(\"social welfare:\",model.social_welfare(esp, MDs, lam_opt, p_opt))\n",
    "print(\"sum lambda:\", np.sum(lam_opt), \" lambda0:\", esp.lambda0)\n",
    "print([f\"MD {i+1} Dn: {md.delay(p_opt[i],lam_opt[i])}\" for i, md in enumerate(MDs)])\n",
    "print(\"Dmax:\", Dmax_opt, \" D0:\", esp.D0)\n",
    "print(\"max Dn:\", max(md.delay(p_opt[i], lam_opt[i]) for i, md in enumerate(MDs)))\n",
    "print(\"Dmax == max Dn:\", Dmax_opt == max(md.delay(p_opt[i], lam_opt[i]) for i, md in enumerate(MDs)))\n",
    "print(\"Dn<=Dmax:\", all(md.delay(p_opt[i], lam_opt[i]) <= Dmax_opt for i, md in enumerate(MDs)))\n",
    "print(\"Dmax<=D0:\", Dmax_opt <= esp.D0)\n",
    "print(\"pn<=Fn:\", all(p_opt[i] <= md.Fn for i, md in enumerate(MDs)))\n",
    "print(\"lambda_n<=pn/sl:\", all(lam_opt[i] <= p_opt[i] / (md.s*md.l) for i, md in enumerate(MDs)))\n",
    "print(\"sum r:\", np.sum(r_opt), \"Q_star:\", esp.Q(Dmax_opt))\n",
    "print(\"rn>=Ln:\", all(r_opt[i] >= md.Ln(p_opt[i]) for i, md in enumerate(MDs)))\n",
    "print(\"sum Ln:\", np.sum([md.Ln(p_opt[i]) for i,md in enumerate(MDs)]))"
   ]
  },
  {
   "cell_type": "code",
   "execution_count": 8,
   "metadata": {},
   "outputs": [
    {
     "name": "stdout",
     "output_type": "stream",
     "text": [
      "ADMM λ: [3.74277301 3.28907538 6.2326925  7.75001852 4.79436762 4.43723994\n",
      " 6.49827496 3.5573493  6.02975915 3.66844962]\n",
      "ADMM p: [0.40233396 0.3641628  0.60031111 0.72117507 0.48494786 0.45812017\n",
      " 0.62144609 0.38565264 0.58371375 0.39550668]\n",
      "ADMM Dmax: 0.8015507543823365\n",
      "ADMM r: [20.74323953 20.71016912 20.63165232 20.60061251 20.66553784 20.7108399\n",
      " 20.66727128 20.75576444 20.64845105 20.75677026]\n",
      "==============================\n",
      "social welfare: 245.01215503392157\n",
      "sum lambda: 50.00000000000001  lambda0: 50\n",
      "['MD 1 Dn: 0.8015476757616706', 'MD 2 Dn: 0.8015481566284446', 'MD 3 Dn: 0.8015491130088014', 'MD 4 Dn: 0.8015528323331875', 'MD 5 Dn: 0.8015482891428154', 'MD 6 Dn: 0.8015481423592132', 'MD 7 Dn: 0.801549806681369', 'MD 8 Dn: 0.8015470112829537', 'MD 9 Dn: 0.8015490423693208', 'MD 10 Dn: 0.8015471495305757']\n",
      "Dmax: 0.8015507543823365  D0: 3\n",
      "max Dn: 0.8015528323331875\n",
      "Dmax == max Dn: False\n",
      "Dn<=Dmax: False\n",
      "Dmax<=D0: True\n",
      "pn<=Fn: True\n",
      "lambda_n<=pn/sl: True\n",
      "sum r: 206.89030824956703 Q_star: 247.72566957824162\n",
      "rn>=Ln: True\n",
      "sum Ln: 2.713512394645077\n"
     ]
    }
   ],
   "source": [
    "lamb_admm, p_admm, Dmax_admm = NBS.ADMM(esp, MDs)\n",
    "print(f\"ADMM λ: {lamb_admm}\")\n",
    "print(f\"ADMM p: {p_admm}\")  \n",
    "print(f\"ADMM Dmax: {Dmax_admm}\")\n",
    "r_admm = NBS.negotiation(esp, MDs,lamb_admm, p_admm, Dmax_admm)\n",
    "print(f\"ADMM r: {r_admm}\")\n",
    "print(\"==============================\")\n",
    "print(\"social welfare:\",model.social_welfare(esp, MDs, lamb_admm, p_admm))\n",
    "print(\"sum lambda:\", np.sum(lamb_admm), \" lambda0:\", esp.lambda0)\n",
    "print([f\"MD {i+1} Dn: {md.delay(p_admm[i],lamb_admm[i])}\" for i, md in enumerate(MDs)])\n",
    "print(\"Dmax:\", Dmax_admm, \" D0:\", esp.D0)\n",
    "print(\"max Dn:\", max(md.delay(p_admm[i], lamb_admm[i]) for i, md in enumerate(MDs)))\n",
    "print(\"Dmax == max Dn:\", Dmax_admm == max(md.delay(p_admm[i], lamb_admm[i]) for i, md in enumerate(MDs)))\n",
    "print(\"Dn<=Dmax:\", all(md.delay(p_admm[i], lamb_admm[i]) <= Dmax_admm for i, md in enumerate(MDs)))\n",
    "print(\"Dmax<=D0:\", Dmax_admm <= esp.D0)\n",
    "print(\"pn<=Fn:\", all(p_admm[i] <= md.Fn for i, md in enumerate(MDs)))\n",
    "print(\"lambda_n<=pn/sl:\", all(lamb_admm[i] <= p_admm[i] / (md.s*md.l) for i, md in enumerate(MDs)))\n",
    "print(\"sum r:\", np.sum(r_admm), \"Q_star:\", esp.Q(Dmax_admm))\n",
    "print(\"rn>=Ln:\", all(r_admm[i] >= md.Ln(p_admm[i]) for i, md in enumerate(MDs)))\n",
    "print(\"sum Ln:\", np.sum([md.Ln(p_admm[i]) for i,md in enumerate(MDs)]))"
   ]
  },
  {
   "cell_type": "code",
   "execution_count": 9,
   "metadata": {},
   "outputs": [
    {
     "name": "stdout",
     "output_type": "stream",
     "text": [
      "Nash Product Opt: 37.570317091183014\n",
      "Nash Product SWM: 37.58965625766686\n",
      "Nash Product ADMM: 37.58310842403301\n",
      "Nash Product Proportional: 33.65776480543405\n",
      "Nash Product Uniform: 36.22236437448023\n",
      "Nash Product Non-cooperative: nan\n",
      "=============================\n",
      "SW Opt: 244.7511248467392\n",
      "SW SWM: 245.14588308480256\n",
      "SW ADMM: 245.01215503392157\n",
      "SW Proportional: 193.93964638257935\n",
      "SW Uniform: 230.4668976068324\n",
      "SW Non-cooperative: 245.6345981044234\n",
      "=============================\n",
      "Dmax Opt: 0.8082780146622826\n",
      "Dmax SWM: 0.8238281718887738\n",
      "Dmax ADMM: 0.8015507543823365\n",
      "Dmax Proportional: 0.1028355471996345\n",
      "Dmax Uniform: 1.3272929506848081\n",
      "Dmax Uniform: 0.7787181204944444\n"
     ]
    },
    {
     "name": "stderr",
     "output_type": "stream",
     "text": [
      "c:\\Users\\a1831\\Desktop\\NBS_Project\\src\\model.py:12: RuntimeWarning: invalid value encountered in log\n",
      "  ns = [md.omega_n*np.log(rn-md.Ln(pn)) for (md,rn,pn) in zip(MDs,r,p)]\n"
     ]
    }
   ],
   "source": [
    "print(\"Nash Product Opt:\",model.nash_product_log(esp, MDs, lam_opt, p_opt, r_opt))\n",
    "print(\"Nash Product SWM:\",model.nash_product_log(esp, MDs, lam_swm, p_swm, r_swm))\n",
    "print(\"Nash Product ADMM:\",model.nash_product_log(esp, MDs, lamb_admm, p_admm, r_admm))\n",
    "print(\"Nash Product Proportional:\",model.nash_product_log(esp, MDs, lam_pro, p_pro, r_pro))\n",
    "print(\"Nash Product Uniform:\",model.nash_product_log(esp, MDs, lam_uni, p_uni, r_uni))\n",
    "print(\"Nash Product Non-cooperative:\",model.nash_product_log(esp, MDs, lam_non, p_non, r_non))\n",
    "print(\"=============================\")\n",
    "print(\"SW Opt:\",model.social_welfare(esp, MDs, lam_opt, p_opt))\n",
    "print(\"SW SWM:\",model.social_welfare(esp, MDs, lam_swm, p_swm))\n",
    "print(\"SW ADMM:\",model.social_welfare(esp, MDs, lamb_admm, p_admm))\n",
    "print(\"SW Proportional:\",model.social_welfare(esp, MDs, lam_pro, p_pro))\n",
    "print(\"SW Uniform:\",model.social_welfare(esp, MDs, lam_uni, p_uni))\n",
    "print(\"SW Non-cooperative:\",model.social_welfare(esp, MDs, lam_non, p_non))\n",
    "print(\"=============================\")\n",
    "print(\"Dmax Opt:\", Dmax_opt)\n",
    "print(\"Dmax SWM:\", Dmax_swm)\n",
    "print(\"Dmax ADMM:\", Dmax_admm)\n",
    "print(\"Dmax Proportional:\", Dmax_pro)\n",
    "print(\"Dmax Uniform:\", Dmax_uni)\n",
    "print(\"Dmax Uniform:\", Dmax_non)"
   ]
  }
 ],
 "metadata": {
  "colab": {
   "authorship_tag": "ABX9TyPdgnMAVga6FnqKiT4PPNVw",
   "mount_file_id": "1gBbxAffnNWxKVgA38_bI-qo56li6ucKz",
   "provenance": []
  },
  "kernelspec": {
   "display_name": "base",
   "language": "python",
   "name": "python3"
  },
  "language_info": {
   "codemirror_mode": {
    "name": "ipython",
    "version": 3
   },
   "file_extension": ".py",
   "mimetype": "text/x-python",
   "name": "python",
   "nbconvert_exporter": "python",
   "pygments_lexer": "ipython3",
   "version": "3.11.4"
  }
 },
 "nbformat": 4,
 "nbformat_minor": 0
}
