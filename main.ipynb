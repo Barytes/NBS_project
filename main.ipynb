{
 "cells": [
  {
   "cell_type": "code",
   "execution_count": 1,
   "metadata": {
    "colab": {
     "base_uri": "https://localhost:8080/"
    },
    "executionInfo": {
     "elapsed": 20091,
     "status": "ok",
     "timestamp": 1750816088466,
     "user": {
      "displayName": "Beiyan Liu",
      "userId": "04431032521835523381"
     },
     "user_tz": -480
    },
    "id": "GH444lHrKjIn",
    "outputId": "00152aeb-e0d4-49c7-eab5-7fce807f247e"
   },
   "outputs": [
    {
     "name": "stdout",
     "output_type": "stream",
     "text": [
      "项目路径设置为: c:\\Users\\a1831\\Desktop\\NBS_Project\n"
     ]
    }
   ],
   "source": [
    "import os\n",
    "import sys\n",
    "\n",
    "def is_colab():\n",
    "    return 'google.colab' in sys.modules\n",
    "\n",
    "if is_colab():\n",
    "    from google.colab import drive\n",
    "    drive.mount('/content/drive')\n",
    "    PROJECT_PATH = '/content/drive/MyDrive/NBS_Project'\n",
    "else:\n",
    "    # 自动根据当前脚本定位项目根路径\n",
    "    PROJECT_PATH = os.path.abspath(os.path.join(os.path.dirname(__file__), '..')) \\\n",
    "        if '__file__' in globals() else os.getcwd()\n",
    "\n",
    "if PROJECT_PATH not in sys.path:\n",
    "    sys.path.append(PROJECT_PATH)\n",
    "\n",
    "print(f\"项目路径设置为: {PROJECT_PATH}\")"
   ]
  },
  {
   "cell_type": "code",
   "execution_count": 2,
   "metadata": {},
   "outputs": [
    {
     "name": "stdout",
     "output_type": "stream",
     "text": [
      "{'s': 10, 'l': 800, 'cn': 0.47638260017737943, 'Fn': 0.9873613214201129, 'kn': 0.6319346890278408, 'omega_n': 1, 'Rn': 7.619392371863616}\n",
      "{'s': 10, 'l': 800, 'cn': 0.7551081476187214, 'Fn': 2.0423192385183437, 'kn': 0.7312209536847725, 'omega_n': 1, 'Rn': 9.894796014032625}\n",
      "{'s': 10, 'l': 800, 'cn': 0.5778548554365581, 'Fn': 1.402883924713151, 'kn': 0.7221751519582421, 'omega_n': 1, 'Rn': 6.856661199720748}\n",
      "{'s': 10, 'l': 800, 'cn': 0.33464752394913394, 'Fn': 2.238169289304143, 'kn': 0.3068712201489634, 'omega_n': 1, 'Rn': 10.986159533150976}\n",
      "{'s': 10, 'l': 800, 'cn': 0.5097971490749651, 'Fn': 1.8109550850717386, 'kn': 0.500847325800817, 'omega_n': 1, 'Rn': 8.712120422850932}\n",
      "{'lambda0': 50, 'D0': 4, 'theta': 5, 'o': 10, 'omega_0': 2}\n"
     ]
    }
   ],
   "source": [
    "from src.config import Config\n",
    "from src.main import create_MDs,create_ESP\n",
    "import src.NBS as NBS\n",
    "import numpy as np\n",
    "CONFIG_PATH = os.path.join(PROJECT_PATH, \"configs\", \"test.json\")\n",
    "config = Config(CONFIG_PATH)\n",
    "\n",
    "# Create MDs with a specific seed for reproducibility\n",
    "seed = 2342\n",
    "MDs = create_MDs(config, seed=seed)\n",
    "\n",
    "for md in MDs:\n",
    "    print(md.param)\n",
    "\n",
    "esp = create_ESP(config, seed=seed)\n",
    "print(esp.param)"
   ]
  },
  {
   "cell_type": "code",
   "execution_count": 3,
   "metadata": {},
   "outputs": [
    {
     "name": "stderr",
     "output_type": "stream",
     "text": [
      "c:\\Users\\a1831\\anaconda3\\Lib\\site-packages\\scipy\\optimize\\_optimize.py:353: RuntimeWarning: Values in x were outside bounds during a minimize step, clipping to bounds\n",
      "  warnings.warn(\"Values in x were outside bounds during a \"\n"
     ]
    },
    {
     "ename": "KeyboardInterrupt",
     "evalue": "",
     "output_type": "error",
     "traceback": [
      "\u001b[1;31m---------------------------------------------------------------------------\u001b[0m",
      "\u001b[1;31mKeyboardInterrupt\u001b[0m                         Traceback (most recent call last)",
      "Cell \u001b[1;32mIn[3], line 1\u001b[0m\n\u001b[1;32m----> 1\u001b[0m lamb, p, Dmax \u001b[38;5;241m=\u001b[39m NBS\u001b[38;5;241m.\u001b[39mADMM(esp, MDs)\n\u001b[0;32m      2\u001b[0m \u001b[38;5;28mprint\u001b[39m(lamb)\n\u001b[0;32m      3\u001b[0m \u001b[38;5;28mprint\u001b[39m(p)\n",
      "File \u001b[1;32mc:\\Users\\a1831\\Desktop\\NBS_Project\\src\\NBS.py:142\u001b[0m, in \u001b[0;36mADMM\u001b[1;34m(ESP, MDs)\u001b[0m\n\u001b[0;32m    140\u001b[0m lamb,Dmax \u001b[38;5;241m=\u001b[39m solve_ESP_subproblem(ESP,N,rho,lamb_hat,Dmax_hat,alpha,beta)\n\u001b[0;32m    141\u001b[0m \u001b[38;5;66;03m# MDs' local subproblem\u001b[39;00m\n\u001b[1;32m--> 142\u001b[0m p, lamb_hat,Dmax_hat \u001b[38;5;241m=\u001b[39m solve_MD_subproblem(MDs,rho, lamb, Dmax, alpha, beta)\n\u001b[0;32m    143\u001b[0m \u001b[38;5;66;03m# dual variable update\u001b[39;00m\n\u001b[0;32m    144\u001b[0m alpha \u001b[38;5;241m+\u001b[39m\u001b[38;5;241m=\u001b[39m rho\u001b[38;5;241m*\u001b[39m(lamb\u001b[38;5;241m-\u001b[39mlamb_hat)\n",
      "File \u001b[1;32mc:\\Users\\a1831\\Desktop\\NBS_Project\\src\\NBS.py:107\u001b[0m, in \u001b[0;36msolve_MD_subproblem\u001b[1;34m(MDs, rho, lamb, Dmax, alpha, beta)\u001b[0m\n\u001b[0;32m    104\u001b[0m     ineq_cons\u001b[38;5;241m.\u001b[39mappend({\u001b[38;5;124m'\u001b[39m\u001b[38;5;124mtype\u001b[39m\u001b[38;5;124m'\u001b[39m: \u001b[38;5;124m'\u001b[39m\u001b[38;5;124mineq\u001b[39m\u001b[38;5;124m'\u001b[39m, \u001b[38;5;124m'\u001b[39m\u001b[38;5;124mfun\u001b[39m\u001b[38;5;124m'\u001b[39m: Dn_Dh})\n\u001b[0;32m    106\u001b[0m \u001b[38;5;66;03m# SLSQP 求解\u001b[39;00m\n\u001b[1;32m--> 107\u001b[0m sol \u001b[38;5;241m=\u001b[39m minimize(\n\u001b[0;32m    108\u001b[0m     obj_joint, x0,\n\u001b[0;32m    109\u001b[0m     method\u001b[38;5;241m=\u001b[39m\u001b[38;5;124m'\u001b[39m\u001b[38;5;124mSLSQP\u001b[39m\u001b[38;5;124m'\u001b[39m,\n\u001b[0;32m    110\u001b[0m     bounds\u001b[38;5;241m=\u001b[39mbounds,\n\u001b[0;32m    111\u001b[0m     constraints\u001b[38;5;241m=\u001b[39mineq_cons,\n\u001b[0;32m    112\u001b[0m     options\u001b[38;5;241m=\u001b[39m{\u001b[38;5;124m'\u001b[39m\u001b[38;5;124mftol\u001b[39m\u001b[38;5;124m'\u001b[39m: \u001b[38;5;241m1e-6\u001b[39m, \u001b[38;5;124m'\u001b[39m\u001b[38;5;124mdisp\u001b[39m\u001b[38;5;124m'\u001b[39m: \u001b[38;5;28;01mFalse\u001b[39;00m}\n\u001b[0;32m    113\u001b[0m )\n\u001b[0;32m    115\u001b[0m \u001b[38;5;66;03m# 拆分回三个 ndarray\u001b[39;00m\n\u001b[0;32m    116\u001b[0m x_opt \u001b[38;5;241m=\u001b[39m sol\u001b[38;5;241m.\u001b[39mx\n",
      "File \u001b[1;32mc:\\Users\\a1831\\anaconda3\\Lib\\site-packages\\scipy\\optimize\\_minimize.py:705\u001b[0m, in \u001b[0;36mminimize\u001b[1;34m(fun, x0, args, method, jac, hess, hessp, bounds, constraints, tol, callback, options)\u001b[0m\n\u001b[0;32m    702\u001b[0m     res \u001b[38;5;241m=\u001b[39m _minimize_cobyla(fun, x0, args, constraints, callback\u001b[38;5;241m=\u001b[39mcallback,\n\u001b[0;32m    703\u001b[0m                             \u001b[38;5;241m*\u001b[39m\u001b[38;5;241m*\u001b[39moptions)\n\u001b[0;32m    704\u001b[0m \u001b[38;5;28;01melif\u001b[39;00m meth \u001b[38;5;241m==\u001b[39m \u001b[38;5;124m'\u001b[39m\u001b[38;5;124mslsqp\u001b[39m\u001b[38;5;124m'\u001b[39m:\n\u001b[1;32m--> 705\u001b[0m     res \u001b[38;5;241m=\u001b[39m _minimize_slsqp(fun, x0, args, jac, bounds,\n\u001b[0;32m    706\u001b[0m                           constraints, callback\u001b[38;5;241m=\u001b[39mcallback, \u001b[38;5;241m*\u001b[39m\u001b[38;5;241m*\u001b[39moptions)\n\u001b[0;32m    707\u001b[0m \u001b[38;5;28;01melif\u001b[39;00m meth \u001b[38;5;241m==\u001b[39m \u001b[38;5;124m'\u001b[39m\u001b[38;5;124mtrust-constr\u001b[39m\u001b[38;5;124m'\u001b[39m:\n\u001b[0;32m    708\u001b[0m     res \u001b[38;5;241m=\u001b[39m _minimize_trustregion_constr(fun, x0, args, jac, hess, hessp,\n\u001b[0;32m    709\u001b[0m                                        bounds, constraints,\n\u001b[0;32m    710\u001b[0m                                        callback\u001b[38;5;241m=\u001b[39mcallback, \u001b[38;5;241m*\u001b[39m\u001b[38;5;241m*\u001b[39moptions)\n",
      "File \u001b[1;32mc:\\Users\\a1831\\anaconda3\\Lib\\site-packages\\scipy\\optimize\\_slsqp_py.py:429\u001b[0m, in \u001b[0;36m_minimize_slsqp\u001b[1;34m(func, x0, args, jac, bounds, constraints, maxiter, ftol, iprint, disp, eps, callback, finite_diff_rel_step, **unknown_options)\u001b[0m\n\u001b[0;32m    427\u001b[0m \u001b[38;5;28;01mif\u001b[39;00m mode \u001b[38;5;241m==\u001b[39m \u001b[38;5;241m1\u001b[39m:  \u001b[38;5;66;03m# objective and constraint evaluation required\u001b[39;00m\n\u001b[0;32m    428\u001b[0m     fx \u001b[38;5;241m=\u001b[39m wrapped_fun(x)\n\u001b[1;32m--> 429\u001b[0m     c \u001b[38;5;241m=\u001b[39m _eval_constraint(x, cons)\n\u001b[0;32m    431\u001b[0m \u001b[38;5;28;01mif\u001b[39;00m mode \u001b[38;5;241m==\u001b[39m \u001b[38;5;241m-\u001b[39m\u001b[38;5;241m1\u001b[39m:  \u001b[38;5;66;03m# gradient evaluation required\u001b[39;00m\n\u001b[0;32m    432\u001b[0m     g \u001b[38;5;241m=\u001b[39m append(wrapped_grad(x), \u001b[38;5;241m0.0\u001b[39m)\n",
      "File \u001b[1;32mc:\\Users\\a1831\\anaconda3\\Lib\\site-packages\\scipy\\optimize\\_slsqp_py.py:479\u001b[0m, in \u001b[0;36m_eval_constraint\u001b[1;34m(x, cons)\u001b[0m\n\u001b[0;32m    476\u001b[0m     c_ieq \u001b[38;5;241m=\u001b[39m zeros(\u001b[38;5;241m0\u001b[39m)\n\u001b[0;32m    478\u001b[0m \u001b[38;5;66;03m# Now combine c_eq and c_ieq into a single matrix\u001b[39;00m\n\u001b[1;32m--> 479\u001b[0m c \u001b[38;5;241m=\u001b[39m concatenate((c_eq, c_ieq))\n\u001b[0;32m    480\u001b[0m \u001b[38;5;28;01mreturn\u001b[39;00m c\n",
      "File \u001b[1;32m<__array_function__ internals>:200\u001b[0m, in \u001b[0;36mconcatenate\u001b[1;34m(*args, **kwargs)\u001b[0m\n",
      "\u001b[1;31mKeyboardInterrupt\u001b[0m: "
     ]
    }
   ],
   "source": [
    "lamb, p, Dmax = NBS.ADMM(esp, MDs)\n",
    "print(lamb)\n",
    "print(p)\n",
    "print(Dmax)\n",
    "r = NBS.negotiation(esp, MDs,lamb, p, Dmax)\n",
    "print(r)"
   ]
  }
 ],
 "metadata": {
  "colab": {
   "authorship_tag": "ABX9TyPdgnMAVga6FnqKiT4PPNVw",
   "mount_file_id": "1gBbxAffnNWxKVgA38_bI-qo56li6ucKz",
   "provenance": []
  },
  "kernelspec": {
   "display_name": "base",
   "language": "python",
   "name": "python3"
  },
  "language_info": {
   "codemirror_mode": {
    "name": "ipython",
    "version": 3
   },
   "file_extension": ".py",
   "mimetype": "text/x-python",
   "name": "python",
   "nbconvert_exporter": "python",
   "pygments_lexer": "ipython3",
   "version": "3.11.4"
  }
 },
 "nbformat": 4,
 "nbformat_minor": 0
}
