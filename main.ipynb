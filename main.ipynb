{
 "cells": [
  {
   "cell_type": "code",
   "execution_count": 1,
   "metadata": {
    "colab": {
     "base_uri": "https://localhost:8080/"
    },
    "executionInfo": {
     "elapsed": 20091,
     "status": "ok",
     "timestamp": 1750816088466,
     "user": {
      "displayName": "Beiyan Liu",
      "userId": "04431032521835523381"
     },
     "user_tz": -480
    },
    "id": "GH444lHrKjIn",
    "outputId": "00152aeb-e0d4-49c7-eab5-7fce807f247e"
   },
   "outputs": [
    {
     "name": "stdout",
     "output_type": "stream",
     "text": [
      "项目路径设置为: c:\\Users\\a1831\\Desktop\\NBS_Project\n"
     ]
    }
   ],
   "source": [
    "import os\n",
    "import sys\n",
    "\n",
    "def is_colab():\n",
    "    return 'google.colab' in sys.modules\n",
    "\n",
    "if is_colab():\n",
    "    from google.colab import drive\n",
    "    drive.mount('/content/drive')\n",
    "    PROJECT_PATH = '/content/drive/MyDrive/NBS_Project'\n",
    "else:\n",
    "    # 自动根据当前脚本定位项目根路径\n",
    "    PROJECT_PATH = os.path.abspath(os.path.join(os.path.dirname(__file__), '..')) \\\n",
    "        if '__file__' in globals() else os.getcwd()\n",
    "\n",
    "if PROJECT_PATH not in sys.path:\n",
    "    sys.path.append(PROJECT_PATH)\n",
    "\n",
    "print(f\"项目路径设置为: {PROJECT_PATH}\")"
   ]
  },
  {
   "cell_type": "code",
   "execution_count": 2,
   "metadata": {},
   "outputs": [
    {
     "name": "stdout",
     "output_type": "stream",
     "text": [
      "{'s': 10, 'l': 800, 'cn': 0.47638260017737943, 'Fn': 0.9873613214201129, 'kn': 0.6319346890278408, 'omega_n': 1, 'Rn': 7.619392371863616}\n",
      "{'s': 10, 'l': 800, 'cn': 0.7551081476187214, 'Fn': 2.0423192385183437, 'kn': 0.7312209536847725, 'omega_n': 1, 'Rn': 9.894796014032625}\n",
      "{'s': 10, 'l': 800, 'cn': 0.5778548554365581, 'Fn': 1.402883924713151, 'kn': 0.7221751519582421, 'omega_n': 1, 'Rn': 6.856661199720748}\n",
      "{'s': 10, 'l': 800, 'cn': 0.33464752394913394, 'Fn': 2.238169289304143, 'kn': 0.3068712201489634, 'omega_n': 1, 'Rn': 10.986159533150976}\n",
      "{'s': 10, 'l': 800, 'cn': 0.5097971490749651, 'Fn': 1.8109550850717386, 'kn': 0.500847325800817, 'omega_n': 1, 'Rn': 8.712120422850932}\n",
      "{'lambda0': 50, 'D0': 4, 'theta': 5, 'o': 10, 'omega_0': 2}\n"
     ]
    }
   ],
   "source": [
    "from src.config import Config\n",
    "from src.main import create_MDs,create_ESP\n",
    "import src.NBS as NBS\n",
    "import numpy as np\n",
    "CONFIG_PATH = os.path.join(PROJECT_PATH, \"configs\", \"test.json\")\n",
    "config = Config(CONFIG_PATH)\n",
    "\n",
    "# Create MDs with a specific seed for reproducibility\n",
    "seed = 2342\n",
    "MDs = create_MDs(config, seed=seed)\n",
    "\n",
    "for md in MDs:\n",
    "    print(md.param)\n",
    "\n",
    "esp = create_ESP(config, seed=seed)\n",
    "print(esp.param)"
   ]
  },
  {
   "cell_type": "code",
   "execution_count": 3,
   "metadata": {},
   "outputs": [
    {
     "name": "stdout",
     "output_type": "stream",
     "text": [
      "lamb: [1.25261233e+01 1.24956118e+01 1.24937771e+01 1.24844879e+01\n",
      " 6.38123593e-10] [1.25261233e+01 1.24956118e+01 1.24937771e+01 1.24844879e+01\n",
      " 9.50079548e-08]\n",
      "Dmax: 0.986675699758372 [0.98667686 0.98667686 0.98667686 0.98667686 0.98667686]\n",
      "p: [1.00098327e-10 5.64317377e-11 6.38398287e-11 1.73734863e-11\n",
      " 3.19887272e-11]\n",
      "[35.198311 35.198311 35.198311 35.198311 35.198311]\n"
     ]
    }
   ],
   "source": [
    "lamb, p, Dmax = NBS.ADMM(esp, MDs)\n",
    "# print(lamb)\n",
    "# print(p)\n",
    "# print(Dmax)\n",
    "r = NBS.negotiation(esp, MDs,lamb, p, Dmax)\n",
    "print(r)"
   ]
  }
 ],
 "metadata": {
  "colab": {
   "authorship_tag": "ABX9TyPdgnMAVga6FnqKiT4PPNVw",
   "mount_file_id": "1gBbxAffnNWxKVgA38_bI-qo56li6ucKz",
   "provenance": []
  },
  "kernelspec": {
   "display_name": "base",
   "language": "python",
   "name": "python3"
  },
  "language_info": {
   "codemirror_mode": {
    "name": "ipython",
    "version": 3
   },
   "file_extension": ".py",
   "mimetype": "text/x-python",
   "name": "python",
   "nbconvert_exporter": "python",
   "pygments_lexer": "ipython3",
   "version": "3.11.4"
  }
 },
 "nbformat": 4,
 "nbformat_minor": 0
}
