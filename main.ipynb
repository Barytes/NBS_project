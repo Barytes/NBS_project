{
 "cells": [
  {
   "cell_type": "code",
   "execution_count": 1,
   "metadata": {
    "colab": {
     "base_uri": "https://localhost:8080/"
    },
    "executionInfo": {
     "elapsed": 20091,
     "status": "ok",
     "timestamp": 1750816088466,
     "user": {
      "displayName": "Beiyan Liu",
      "userId": "04431032521835523381"
     },
     "user_tz": -480
    },
    "id": "GH444lHrKjIn",
    "outputId": "00152aeb-e0d4-49c7-eab5-7fce807f247e"
   },
   "outputs": [
    {
     "name": "stdout",
     "output_type": "stream",
     "text": [
      "项目路径设置为: c:\\Users\\a1831\\Desktop\\NBS_Project\n"
     ]
    }
   ],
   "source": [
    "import os\n",
    "import sys\n",
    "\n",
    "def is_colab():\n",
    "    return 'google.colab' in sys.modules\n",
    "\n",
    "if is_colab():\n",
    "    from google.colab import drive\n",
    "    drive.mount('/content/drive')\n",
    "    PROJECT_PATH = '/content/drive/MyDrive/NBS_Project'\n",
    "else:\n",
    "    # 自动根据当前脚本定位项目根路径\n",
    "    PROJECT_PATH = os.path.abspath(os.path.join(os.path.dirname(__file__), '..')) \\\n",
    "        if '__file__' in globals() else os.getcwd()\n",
    "\n",
    "if PROJECT_PATH not in sys.path:\n",
    "    sys.path.append(PROJECT_PATH)\n",
    "\n",
    "print(f\"项目路径设置为: {PROJECT_PATH}\")"
   ]
  },
  {
   "cell_type": "code",
   "execution_count": 2,
   "metadata": {},
   "outputs": [
    {
     "name": "stdout",
     "output_type": "stream",
     "text": [
      "{'s': 0.1, 'l': 0.8, 'cn': 0.32332202513299674, 'Fn': 1.184383282690447, 'kn': 0.6732799162883472, 'omega_n': 1, 'Rn': 4.13472934445215}\n",
      "{'s': 0.1, 'l': 0.8, 'cn': 0.6374404631644437, 'Fn': 1.7637226511189565, 'kn': 0.6651454029151388, 'omega_n': 1, 'Rn': 10.248845012378245}\n",
      "{'s': 0.1, 'l': 0.8, 'cn': 0.395711266542491, 'Fn': 2.1321345406869066, 'kn': 0.19255662205025992, 'omega_n': 1, 'Rn': 6.716553285779903}\n",
      "{'s': 0.1, 'l': 0.8, 'cn': 0.16187321635232887, 'Fn': 3.8199302863134226, 'kn': 0.3183833952999494, 'omega_n': 1, 'Rn': 9.231363952354403}\n",
      "{'s': 0.1, 'l': 0.8, 'cn': 0.6413215489755134, 'Fn': 3.913825949541608, 'kn': 0.4233228768151258, 'omega_n': 1, 'Rn': 7.948101841125762}\n",
      "{'s': 0.1, 'l': 0.8, 'cn': 0.49308149762923636, 'Fn': 2.4920855793255217, 'kn': 0.5819339189335254, 'omega_n': 1, 'Rn': 3.859406010253179}\n",
      "{'s': 0.1, 'l': 0.8, 'cn': 0.17404615893711323, 'Fn': 1.5048957788256199, 'kn': 0.3264336993988291, 'omega_n': 1, 'Rn': 7.130152926250668}\n",
      "{'s': 0.1, 'l': 0.8, 'cn': 0.3500914696054681, 'Fn': 3.328898592922507, 'kn': 0.8651490391568305, 'omega_n': 1, 'Rn': 10.025209575464762}\n",
      "{'s': 0.1, 'l': 0.8, 'cn': 0.40849369667300983, 'Fn': 3.8860025666261127, 'kn': 0.35684000684129563, 'omega_n': 1, 'Rn': 8.282993965974107}\n",
      "{'s': 0.1, 'l': 0.8, 'cn': 0.3515702538177826, 'Fn': 4.305125863998515, 'kn': 0.8668843010518419, 'omega_n': 1, 'Rn': 5.7242544373473425}\n",
      "{'lambda0': 50, 'D0': 3, 'theta': 5, 'o': 5, 'omega_0': 2, 's': 0.1, 'l': 0.8}\n"
     ]
    }
   ],
   "source": [
    "from src.config import Config\n",
    "from src.main import create_MDs,create_ESP\n",
    "import src.baseline as baseline\n",
    "import src.NBS as NBS\n",
    "import src.model as model\n",
    "import numpy as np\n",
    "\n",
    "CONFIG_PATH = os.path.join(PROJECT_PATH, \"configs\", \"test.json\")\n",
    "config = Config(CONFIG_PATH)\n",
    "\n",
    "# Create MDs with a specific seed for reproducibility\n",
    "seed = 41\n",
    "MDs = create_MDs(config, seed=seed)\n",
    "# np.random.shuffle(MDs)  # Shuffle the MDs\n",
    "\n",
    "for md in MDs:\n",
    "    print(md.param)\n",
    "\n",
    "esp = create_ESP(config, seed=seed)\n",
    "print(esp.param)"
   ]
  },
  {
   "cell_type": "code",
   "execution_count": null,
   "metadata": {},
   "outputs": [],
   "source": [
    "lam_uni, p_uni, r_uni, Dmax_uni = baseline.uniform_baseline(esp,MDs)\n",
    "print(f\"Uniform λ: {lam_uni}\")\n",
    "print(f\"Uniform p: {p_uni}\")  \n",
    "print(f\"Uniform Dmax: {Dmax_uni}\")\n",
    "print(f\"Uniform r: {r_uni}\")\n",
    "print(\"==============================\")\n",
    "print(\"social welfare:\",model.social_welfare(esp, MDs, lam_uni, p_uni))\n",
    "print(\"sum lambda:\", np.sum(lam_uni), \" lambda0:\", esp.lambda0)\n",
    "print([f\"MD {i+1} Dn: {md.delay(p_uni[i],lam_uni[i])}\" for i, md in enumerate(MDs)])\n",
    "print(\"Dmax:\", Dmax_uni, \" D0:\", esp.D0)\n",
    "max_Dn = max(md.delay(p_uni[i], lam_uni[i]) for i, md in enumerate(MDs))\n",
    "print(\"max Dn:\", max_Dn)\n",
    "print(\"Dmax == max Dn:\", Dmax_uni == max_Dn)\n",
    "print(\"Dn<=Dmax:\", all(md.delay(p_uni[i], lam_uni[i]) <= Dmax_uni for i, md in enumerate(MDs)))\n",
    "print(\"Dmax<=D0:\", Dmax_uni <= esp.D0)\n",
    "print(\"pn<=Fn:\", all(p_uni[i] <= md.Fn for i, md in enumerate(MDs)))\n",
    "print(\"lambda_n<=pn/sl:\", all(lam_uni[i] <= p_uni[i] / (md.s*md.l) for i, md in enumerate(MDs)))\n",
    "print(\"sum r:\", np.sum(r_uni), \"Q_star:\", esp.Q(max_Dn))\n",
    "print(\"rn>=Ln:\", all(r_uni[i] >= md.Ln(p_uni[i]) for i, md in enumerate(MDs)))"
   ]
  },
  {
   "cell_type": "code",
   "execution_count": null,
   "metadata": {},
   "outputs": [
    {
     "name": "stderr",
     "output_type": "stream",
     "text": [
      "c:\\Users\\a1831\\anaconda3\\Lib\\site-packages\\scipy\\optimize\\_hessian_update_strategy.py:182: UserWarning: delta_grad == 0.0. Check if the approximated function is linear. If the function is linear better results can be obtained by defining the Hessian as zero instead of using quasi-Newton approximations.\n",
      "  warn('delta_grad == 0.0. Check if the approximated '\n"
     ]
    },
    {
     "name": "stdout",
     "output_type": "stream",
     "text": [
      "✅ 这个点严格满足所有约束（在容差范围内）。\n"
     ]
    },
    {
     "name": "stderr",
     "output_type": "stream",
     "text": [
      "c:\\Users\\a1831\\anaconda3\\Lib\\site-packages\\scipy\\optimize\\_optimize.py:353: RuntimeWarning: Values in x were outside bounds during a minimize step, clipping to bounds\n",
      "  warnings.warn(\"Values in x were outside bounds during a \"\n"
     ]
    },
    {
     "name": "stdout",
     "output_type": "stream",
     "text": [
      "Optimization terminated successfully    (Exit mode 0)\n",
      "            Current function value: -243.3480999047845\n",
      "            Iterations: 316\n",
      "            Function evaluations: 7249\n",
      "            Gradient evaluations: 316\n",
      "SWM λ: [3.07863735 2.9162451  6.54226158 8.40311345 5.48324198 3.02016642\n",
      " 9.41095494 1.75177419 7.60059485 1.79301014]\n",
      "SWM p: [0.34633578 0.33157126 0.62227595 0.77065072 0.53727315 0.34187444\n",
      " 0.85166595 0.23843987 0.70659958 0.24265237]\n",
      "SWM Dmax: 0.8238281718887738\n",
      "Optimization terminated successfully    (Exit mode 0)\n",
      "            Current function value: -37.589656695490305\n",
      "            Iterations: 12\n",
      "            Function evaluations: 133\n",
      "            Gradient evaluations: 12\n",
      "SWM r: [20.70045783 20.68758208 20.65645702 20.63105094 20.72193568 20.62645879\n",
      " 20.82758921 20.62501875 20.74497368 20.62340831]\n"
     ]
    }
   ],
   "source": [
    "lam_swm, p_swm, Dmax_swm = baseline.social_welfare_maximization(esp, MDs)\n",
    "print(f\"SWM λ: {lam_swm}\")\n",
    "print(f\"SWM p: {p_swm}\")  \n",
    "print(f\"SWM Dmax: {Dmax_swm}\")\n",
    "r_swm = baseline.solve_r_NBP(esp, MDs, Dmax_swm, lam_swm, p_swm)\n",
    "print(f\"SWM r: {r_swm}\")\n",
    "\n",
    "print(\"social welfare:\",model.social_welfare(esp, MDs, lam_swm, p_swm))\n",
    "print(\"sum lambda:\", np.sum(lam_swm), \" lambda0:\", esp.lambda0)\n",
    "print([f\"MD {i+1} Dn: {md.delay(p_swm[i],lam_swm[i])}\" for i, md in enumerate(MDs)])\n",
    "print(\"Dmax:\", Dmax_swm, \" D0:\", esp.D0)\n",
    "max_Dn = max(md.delay(p_swm[i], lam_swm[i]) for i, md in enumerate(MDs))\n",
    "print(\"max Dn:\", max_Dn)\n",
    "print(\"Dmax == max Dn:\", Dmax_swm == max_Dn)\n",
    "print(\"Dn<=Dmax:\", all(md.delay(p_swm[i], lam_swm[i]) <= Dmax_swm for i, md in enumerate(MDs)))\n",
    "print(\"Dmax<=D0:\", Dmax_swm <= esp.D0)\n",
    "print(\"pn<=Fn:\", all(p_swm[i] <= md.Fn for i, md in enumerate(MDs)))\n",
    "print(\"lambda_n<=pn/sl:\", all(lam_swm[i] <= p_swm[i] / (md.s*md.l) for i, md in enumerate(MDs)))\n",
    "print(\"sum r:\", np.sum(r_swm), \"Q_star:\", esp.Q(max_Dn))\n",
    "print(\"rn>=Ln:\", all(r_swm[i] >= md.Ln(p_swm[i]) for i, md in enumerate(MDs)))"
   ]
  },
  {
   "cell_type": "code",
   "execution_count": null,
   "metadata": {},
   "outputs": [
    {
     "name": "stdout",
     "output_type": "stream",
     "text": [
      "✅ 这个点严格满足所有约束（在容差范围内）。\n",
      "Optimization terminated successfully    (Exit mode 0)\n",
      "            Current function value: -35.98812131829895\n",
      "            Iterations: 59\n",
      "            Function evaluations: 1889\n",
      "            Gradient evaluations: 59\n",
      "Optimal λ: [4.8404622  4.74770872 5.17328246 5.31423996 4.98064244 4.93263002\n",
      " 5.19162106 4.82944036 5.14614309 4.8438297 ]\n",
      "Optimal p: [0.48926574 0.48000194 0.5146958  0.52545955 0.49899226 0.49686417\n",
      " 0.51605325 0.48656778 0.51216807 0.48866867]\n",
      "Optimal r: [20.81112359 20.82058158 20.56062763 20.51114944 20.65560883 20.72438297\n",
      " 20.58857432 20.84049204 20.58283629 20.83146823]\n",
      "Optimal Dmax: 0.8082780146622826\n"
     ]
    }
   ],
   "source": [
    "lam_opt, p_opt, r_opt, Dmax_opt = baseline.optimal_NBP(esp, MDs)\n",
    "print(f\"Optimal λ: {lam_opt}\")\n",
    "print(f\"Optimal p: {p_opt}\")  \n",
    "print(f\"Optimal r: {r_opt}\")\n",
    "print(f\"Optimal Dmax: {Dmax_opt}\")\n",
    "\n",
    "print(\"social welfare:\",model.social_welfare(esp, MDs, lam_opt, p_opt))\n",
    "print(\"sum lambda:\", np.sum(lam_opt), \" lambda0:\", esp.lambda0)\n",
    "print([f\"MD {i+1} Dn: {md.delay(p_opt[i],lam_opt[i])}\" for i, md in enumerate(MDs)])\n",
    "print(\"Dmax:\", Dmax_opt, \" D0:\", esp.D0)\n",
    "print(\"max Dn:\", max(md.delay(p_opt[i], lam_opt[i]) for i, md in enumerate(MDs)))\n",
    "print(\"Dmax == max Dn:\", Dmax_opt == max(md.delay(p_opt[i], lam_opt[i]) for i, md in enumerate(MDs)))\n",
    "print(\"Dn<=Dmax:\", all(md.delay(p_opt[i], lam_opt[i]) <= Dmax_opt for i, md in enumerate(MDs)))\n",
    "print(\"Dmax<=D0:\", Dmax_opt <= esp.D0)\n",
    "print(\"pn<=Fn:\", all(p_opt[i] <= md.Fn for i, md in enumerate(MDs)))\n",
    "print(\"lambda_n<=pn/sl:\", all(lam_opt[i] <= p_opt[i] / (md.s*md.l) for i, md in enumerate(MDs)))\n",
    "print(\"sum r:\", np.sum(r_opt), \"Q_star:\", esp.Q(Dmax_opt))\n",
    "print(\"rn>=Ln:\", all(r_opt[i] >= md.Ln(p_opt[i]) for i, md in enumerate(MDs)))"
   ]
  },
  {
   "cell_type": "code",
   "execution_count": null,
   "metadata": {},
   "outputs": [
    {
     "name": "stdout",
     "output_type": "stream",
     "text": [
      "ADMM λ: [3.74277301 3.28907538 6.2326925  7.75001852 4.79436762 4.43723994\n",
      " 6.49827496 3.5573493  6.02975915 3.66844962]\n",
      "ADMM p: [0.40233396 0.3641628  0.60031111 0.72117507 0.48494786 0.45812017\n",
      " 0.62144609 0.38565264 0.58371375 0.39550668]\n",
      "ADMM Dmax: 0.8015507543823365\n",
      "ADMM r: [20.74323953 20.71016912 20.63165232 20.60061251 20.66553784 20.7108399\n",
      " 20.66727128 20.75576444 20.64845105 20.75677026]\n"
     ]
    }
   ],
   "source": [
    "lamb_admm, p_admm, Dmax_admm = NBS.ADMM(esp, MDs)\n",
    "print(f\"ADMM λ: {lamb_admm}\")\n",
    "print(f\"ADMM p: {p_admm}\")  \n",
    "print(f\"ADMM Dmax: {Dmax_admm}\")\n",
    "r_admm = NBS.negotiation(esp, MDs,lamb_admm, p_admm, Dmax_admm)\n",
    "print(f\"ADMM r: {r_admm}\")\n",
    "\n",
    "print(\"social welfare:\",model.social_welfare(esp, MDs, lamb_admm, p_admm))\n",
    "print(\"sum lambda:\", np.sum(lamb_admm), \" lambda0:\", esp.lambda0)\n",
    "print([f\"MD {i+1} Dn: {md.delay(p_admm[i],lamb_admm[i])}\" for i, md in enumerate(MDs)])\n",
    "print(\"Dmax:\", Dmax_admm, \" D0:\", esp.D0)\n",
    "print(\"max Dn:\", max(md.delay(p_admm[i], lamb_admm[i]) for i, md in enumerate(MDs)))\n",
    "print(\"Dmax == max Dn:\", Dmax_admm == max(md.delay(p_admm[i], lamb_admm[i]) for i, md in enumerate(MDs)))\n",
    "print(\"Dn<=Dmax:\", all(md.delay(p_admm[i], lamb_admm[i]) <= Dmax_admm for i, md in enumerate(MDs)))\n",
    "print(\"Dmax<=D0:\", Dmax_admm <= esp.D0)\n",
    "print(\"pn<=Fn:\", all(p_admm[i] <= md.Fn for i, md in enumerate(MDs)))\n",
    "print(\"lambda_n<=pn/sl:\", all(lamb_admm[i] <= p_admm[i] / (md.s*md.l) for i, md in enumerate(MDs)))\n",
    "print(\"sum r:\", np.sum(r_admm), \"Q_star:\", esp.Q(Dmax_admm))\n",
    "print(\"rn>=Ln:\", all(r_admm[i] >= md.Ln(p_admm[i]) for i, md in enumerate(MDs)))"
   ]
  },
  {
   "cell_type": "code",
   "execution_count": null,
   "metadata": {},
   "outputs": [
    {
     "name": "stdout",
     "output_type": "stream",
     "text": [
      "Nash Product Opt: 37.53696867213284\n",
      "Nash Product SWM: 37.56038199181347\n",
      "Nash Product ADMM: 37.55395239886722\n"
     ]
    }
   ],
   "source": [
    "print(\"Nash Product Opt:\",model.nash_product_log(esp, MDs, lam_opt, p_opt, r_opt))\n",
    "print(\"Nash Product SWM:\",model.nash_product_log(esp, MDs, lam_swm, p_swm, r_swm))\n",
    "print(\"Nash Product ADMM:\",model.nash_product_log(esp, MDs, lamb_admm, p_admm, r_admm))\n",
    "print(\"=============================\")\n",
    "print(\"SW Opt:\",model.social_welfare(esp, MDs, lam_opt, p_opt))\n",
    "print(\"SW SWM:\",model.social_welfare(esp, MDs, lam_swm, p_swm))\n",
    "print(\"SW ADMM:\",model.social_welfare(esp, MDs, lamb_admm, p_admm))"
   ]
  },
  {
   "cell_type": "code",
   "execution_count": null,
   "metadata": {},
   "outputs": [
    {
     "name": "stdout",
     "output_type": "stream",
     "text": [
      "SW Opt: 244.0718971889062\n",
      "SW SWM: 244.54857314313816\n",
      "SW ADMM: 244.4175792576722\n"
     ]
    }
   ],
   "source": []
  }
 ],
 "metadata": {
  "colab": {
   "authorship_tag": "ABX9TyPdgnMAVga6FnqKiT4PPNVw",
   "mount_file_id": "1gBbxAffnNWxKVgA38_bI-qo56li6ucKz",
   "provenance": []
  },
  "kernelspec": {
   "display_name": "base",
   "language": "python",
   "name": "python3"
  },
  "language_info": {
   "codemirror_mode": {
    "name": "ipython",
    "version": 3
   },
   "file_extension": ".py",
   "mimetype": "text/x-python",
   "name": "python",
   "nbconvert_exporter": "python",
   "pygments_lexer": "ipython3",
   "version": "3.11.4"
  }
 },
 "nbformat": 4,
 "nbformat_minor": 0
}
