{
 "cells": [
  {
   "cell_type": "code",
   "execution_count": 1,
   "metadata": {
    "colab": {
     "base_uri": "https://localhost:8080/"
    },
    "executionInfo": {
     "elapsed": 20091,
     "status": "ok",
     "timestamp": 1750816088466,
     "user": {
      "displayName": "Beiyan Liu",
      "userId": "04431032521835523381"
     },
     "user_tz": -480
    },
    "id": "GH444lHrKjIn",
    "outputId": "00152aeb-e0d4-49c7-eab5-7fce807f247e"
   },
   "outputs": [
    {
     "name": "stdout",
     "output_type": "stream",
     "text": [
      "项目路径设置为: c:\\Users\\Barytes\\Desktop\\NBS_project\n"
     ]
    }
   ],
   "source": [
    "import os\n",
    "import sys\n",
    "\n",
    "def is_colab():\n",
    "    return 'google.colab' in sys.modules\n",
    "\n",
    "if is_colab():\n",
    "    from google.colab import drive\n",
    "    drive.mount('/content/drive')\n",
    "    PROJECT_PATH = '/content/drive/MyDrive/NBS_Project'\n",
    "else:\n",
    "    # 自动根据当前脚本定位项目根路径\n",
    "    PROJECT_PATH = os.path.abspath(os.path.join(os.path.dirname(__file__), '..')) \\\n",
    "        if '__file__' in globals() else os.getcwd()\n",
    "\n",
    "if PROJECT_PATH not in sys.path:\n",
    "    sys.path.append(PROJECT_PATH)\n",
    "\n",
    "print(f\"项目路径设置为: {PROJECT_PATH}\")"
   ]
  },
  {
   "cell_type": "code",
   "execution_count": 2,
   "metadata": {},
   "outputs": [
    {
     "name": "stdout",
     "output_type": "stream",
     "text": [
      "{'s': 0.1, 'l': 0.8, 'cn': 0.900369449497976, 'Fn': 1.184383282690447, 'kn': 0.6414529928884467, 'omega_n': 1, 'Rn': 4.13472934445215}\n",
      "{'s': 0.1, 'l': 0.8, 'cn': 1.0415462755795253, 'Fn': 1.7637226511189565, 'kn': 0.6348125738082766, 'omega_n': 1, 'Rn': 10.248845012378245}\n",
      "{'s': 0.1, 'l': 0.8, 'cn': 0.932903940019097, 'Fn': 2.1321345406869066, 'kn': 0.24902581391857953, 'omega_n': 1, 'Rn': 6.716553285779903}\n",
      "{'s': 0.1, 'l': 0.8, 'cn': 0.8278081871246422, 'Fn': 3.8199302863134226, 'kn': 0.35174154718363215, 'omega_n': 1, 'Rn': 9.231363952354403}\n",
      "{'s': 0.1, 'l': 0.8, 'cn': 1.0432905838092195, 'Fn': 3.913825949541608, 'kn': 0.43740643005316393, 'omega_n': 1, 'Rn': 7.948101841125762}\n",
      "{'s': 0.1, 'l': 0.8, 'cn': 0.9766658416311175, 'Fn': 2.4920855793255217, 'kn': 0.5668848317824697, 'omega_n': 1, 'Rn': 3.859406010253179}\n",
      "{'s': 0.1, 'l': 0.8, 'cn': 0.833279172556006, 'Fn': 1.5048957788256199, 'kn': 0.3583132239990442, 'omega_n': 1, 'Rn': 7.130152926250668}\n",
      "{'s': 0.1, 'l': 0.8, 'cn': 0.9124006604968397, 'Fn': 3.328898592922507, 'kn': 0.7980808482912902, 'omega_n': 1, 'Rn': 10.025209575464762}\n",
      "{'s': 0.1, 'l': 0.8, 'cn': 0.9386488524373078, 'Fn': 3.8860025666261127, 'kn': 0.3831346994622822, 'omega_n': 1, 'Rn': 8.282993965974107}\n",
      "{'s': 0.1, 'l': 0.8, 'cn': 0.9130652826147337, 'Fn': 4.305125863998515, 'kn': 0.7994973886137485, 'omega_n': 1, 'Rn': 5.7242544373473425}\n",
      "{'s': 0.1, 'l': 0.8, 'cn': 1.0100676585446253, 'Fn': 4.603431857996259, 'kn': 0.5819655559732312, 'omega_n': 1, 'Rn': 9.316610851345203}\n",
      "{'s': 0.1, 'l': 0.8, 'cn': 0.910602991643083, 'Fn': 1.625148340036386, 'kn': 0.6310307274436725, 'omega_n': 1, 'Rn': 9.755020447792583}\n",
      "{'s': 0.1, 'l': 0.8, 'cn': 1.1451930947633295, 'Fn': 4.646026362268394, 'kn': 0.7522723858229987, 'omega_n': 1, 'Rn': 10.903153086191468}\n",
      "{'s': 0.1, 'l': 0.8, 'cn': 0.8963790997062079, 'Fn': 2.065307239822869, 'kn': 0.40416912779951575, 'omega_n': 1, 'Rn': 8.140641134548872}\n",
      "{'s': 0.1, 'l': 0.8, 'cn': 0.9748225215931657, 'Fn': 3.2330766955659263, 'kn': 0.41492039267894876, 'omega_n': 1, 'Rn': 8.468294924470234}\n",
      "{'s': 0.1, 'l': 0.8, 'cn': 0.8814786782223195, 'Fn': 2.4568846755904783, 'kn': 0.6624181910931403, 'omega_n': 1, 'Rn': 8.38819582409465}\n",
      "{'s': 0.1, 'l': 0.8, 'cn': 0.8400835913960875, 'Fn': 1.7537845300055999, 'kn': 0.512000595676183, 'omega_n': 1, 'Rn': 11.042329606255704}\n",
      "{'s': 0.1, 'l': 0.8, 'cn': 0.8768232254235334, 'Fn': 4.318279433844086, 'kn': 0.7133918052097501, 'omega_n': 1, 'Rn': 6.780566524127856}\n",
      "{'s': 0.1, 'l': 0.8, 'cn': 0.9739693288147458, 'Fn': 2.969710365230136, 'kn': 0.48694556406137524, 'omega_n': 1, 'Rn': 4.993374058339391}\n",
      "{'s': 0.1, 'l': 0.8, 'cn': 1.0124807103459192, 'Fn': 4.54047573924107, 'kn': 0.19925366182751852, 'omega_n': 1, 'Rn': 4.002666394058179}\n",
      "{'lambda0': 50, 'D0': 1, 'theta': 1, 'o': 5, 'omega_0': 2, 's': 0.1, 'l': 0.8}\n"
     ]
    }
   ],
   "source": [
    "from src.config import Config\n",
    "from src.main import create_MDs,create_ESP\n",
    "import src.baseline as baseline\n",
    "import src.NBS as NBS\n",
    "import src.model as model\n",
    "import numpy as np\n",
    "\n",
    "CONFIG_PATH = os.path.join(PROJECT_PATH, \"configs\", \"test.json\")\n",
    "config = Config(CONFIG_PATH)\n",
    "\n",
    "# Create MDs with a specific seed for reproducibility\n",
    "seed = 41\n",
    "MDs = create_MDs(config, seed=seed)\n",
    "# np.random.shuffle(MDs)  # Shuffle the MDs\n",
    "\n",
    "for md in MDs:\n",
    "    print(md.param)\n",
    "\n",
    "esp = create_ESP(config, seed=seed)\n",
    "print(esp.param)"
   ]
  },
  {
   "cell_type": "code",
   "execution_count": 3,
   "metadata": {},
   "outputs": [
    {
     "name": "stdout",
     "output_type": "stream",
     "text": [
      "Uniform λ: [2.5 2.5 2.5 2.5 2.5 2.5 2.5 2.5 2.5 2.5 2.5 2.5 2.5 2.5 2.5 2.5 2.5 2.5\n",
      " 2.5 2.5]\n",
      "Uniform p: [0.87061796 0.3457042  0.31828236 3.2508949  2.41399649 0.77871702\n",
      " 1.20114963 1.08456425 1.79500847 2.09623896 4.41027627 1.47982962\n",
      " 1.49705332 0.77798712 1.52674967 0.28983803 0.73579232 4.12350645\n",
      " 2.53479259 2.56085389]\n",
      "Uniform Dmax: 0.9024129987955131\n",
      "Uniform r: [0. 0. 0. 0. 0. 0. 0. 0. 0. 0. 0. 0. 0. 0. 0. 0. 0. 0. 0. 0.]\n",
      "==============================\n",
      "social welfare: -96.48253744367689\n",
      "sum lambda: 50.0  lambda0: 50\n",
      "['MD 1 Dn: 0.1434783369486628', 'MD 2 Dn: 0.5588148096297852', 'MD 3 Dn: 0.6912362657793774', 'MD 4 Dn: 0.03705444983432793', 'MD 5 Dn: 0.04871537232012768', 'MD 6 Dn: 0.16414754128416828', 'MD 7 Dn: 0.09393307987232885', 'MD 8 Dn: 0.10041486376099848', 'MD 9 Dn: 0.062229402648298876', 'MD 10 Dn: 0.05965829956568769', 'MD 11 Dn: 0.029734645282242546', 'MD 12 Dn: 0.07275945228980389', 'MD 13 Dn: 0.07084992481921967', 'MD 14 Dn: 0.1506954341845181', 'MD 15 Dn: 0.07210648752419745', 'MD 16 Dn: 0.9024129987955143', 'MD 17 Dn: 0.15836764415634852', 'MD 18 Dn: 0.03513795466839029', 'MD 19 Dn: 0.054290824433602294', 'MD 20 Dn: 0.058869390673782274']\n",
      "Dmax: 0.9024129987955131  D0: 1\n",
      "max Dn: 0.9024129987955143\n",
      "Dmax == max Dn: False\n",
      "Dn<=Dmax: False\n",
      "Dmax<=D0: True\n",
      "pn<=Fn: True\n",
      "lambda_n<=pn/sl: True\n",
      "sum r: 0.0 Q_star: -1.2363320758561116\n",
      "rn>=Ln: False\n",
      "sum Ln: 95.24620536782076\n"
     ]
    }
   ],
   "source": [
    "T = 100\n",
    "N = len(MDs)\n",
    "lam_uni, p_uni, r_uni, Dmax_uni = np.zeros(N),np.zeros(N),np.zeros(N),0\n",
    "for _ in range(T):\n",
    "    l,p,r,d = baseline.uniform_baseline(esp, MDs,43)\n",
    "    lam_uni += l\n",
    "    p_uni += p \n",
    "    r_uni += r\n",
    "    Dmax_uni += d\n",
    "lam_uni, p_uni, r_uni, Dmax_uni = lam_uni/T, p_uni/T, r_uni/T, Dmax_uni/T\n",
    "\n",
    "print(f\"Uniform λ: {lam_uni}\")\n",
    "print(f\"Uniform p: {p_uni}\")  \n",
    "print(f\"Uniform Dmax: {Dmax_uni}\")\n",
    "print(f\"Uniform r: {r_uni}\")\n",
    "print(\"==============================\")\n",
    "print(\"social welfare:\",model.social_welfare(esp, MDs, lam_uni, p_uni))\n",
    "print(\"sum lambda:\", np.sum(lam_uni), \" lambda0:\", esp.lambda0)\n",
    "print([f\"MD {i+1} Dn: {md.delay(p_uni[i],lam_uni[i])}\" for i, md in enumerate(MDs)])\n",
    "print(\"Dmax:\", Dmax_uni, \" D0:\", esp.D0)\n",
    "max_Dn = max(md.delay(p_uni[i], lam_uni[i]) for i, md in enumerate(MDs))\n",
    "print(\"max Dn:\", max_Dn)\n",
    "print(\"Dmax == max Dn:\", Dmax_uni == max_Dn)\n",
    "print(\"Dn<=Dmax:\", all(md.delay(p_uni[i], lam_uni[i]) <= Dmax_uni for i, md in enumerate(MDs)))\n",
    "print(\"Dmax<=D0:\", Dmax_uni <= esp.D0)\n",
    "print(\"pn<=Fn:\", all(p_uni[i] <= md.Fn for i, md in enumerate(MDs)))\n",
    "print(\"lambda_n<=pn/sl:\", all(lam_uni[i] <= p_uni[i] / (md.s*md.l) for i, md in enumerate(MDs)))\n",
    "print(\"sum r:\", np.sum(r_uni), \"Q_star:\", esp.Q(max_Dn))\n",
    "print(\"rn>=Ln:\", all(r_uni[i] >= md.Ln(p_uni[i]) for i, md in enumerate(MDs)))\n",
    "print(\"sum Ln:\", np.sum([md.Ln(p_uni[i]) for i,md in enumerate(MDs)]))"
   ]
  },
  {
   "cell_type": "code",
   "execution_count": 4,
   "metadata": {},
   "outputs": [
    {
     "name": "stdout",
     "output_type": "stream",
     "text": [
      "Proportional λ: [0.97813185 1.45658363 1.76083936 3.15471819 3.23226263 2.05810764\n",
      " 1.24282951 2.74919597 3.20928448 3.55542061 3.80177886 1.34214099\n",
      " 3.83695585 1.70564953 2.67006073 2.02903671 1.44837616 3.56628358\n",
      " 2.45255766 3.74978607]\n",
      "Proportional p: [0.82828559 0.26588496 0.26033392 3.25931654 2.43818207 0.75130928\n",
      " 1.17618648 1.09924305 1.82792052 2.14259038 4.41492992 1.46981661\n",
      " 1.57420819 0.73213939 1.53461329 0.2523146  0.67765214 4.12762196\n",
      " 2.53417852 2.60733311]\n",
      "Proportional Dmax: 0.9008927227311959\n",
      "Proportional r: [0. 0. 0. 0. 0. 0. 0. 0. 0. 0. 0. 0. 0. 0. 0. 0. 0. 0. 0. 0.]\n",
      "==============================\n",
      "social welfare: -96.30057860380447\n",
      "sum lambda: 49.99999999999999  lambda0: 50\n",
      "['MD 1 Dn: 0.13084706305953955', 'MD 2 Dn: 0.5453820377624786', 'MD 3 Dn: 0.6845308810663417', 'MD 4 Dn: 0.037437763663346335', 'MD 5 Dn: 0.04928558494405769', 'MD 6 Dn: 0.16227575430424243', 'MD 7 Dn: 0.08832190170799539', 'MD 8 Dn: 0.10095555354041635', 'MD 9 Dn: 0.06299014668659673', 'MD 10 Dn: 0.06052294270468994', 'MD 11 Dn: 0.03019450774454009', 'MD 12 Dn: 0.06896908418780091', 'MD 13 Dn: 0.0723003953507035', 'MD 14 Dn: 0.14658266612342222', 'MD 15 Dn: 0.07236854795427389', 'MD 16 Dn: 0.9008927227311999', 'MD 17 Dn: 0.15146004098694704', 'MD 18 Dn: 0.035568788297312935', 'MD 19 Dn: 0.05424420057530089', 'MD 20 Dn: 0.05965515247186155']\n",
      "Dmax: 0.9008927227311959  D0: 1\n",
      "max Dn: 0.9008927227311999\n",
      "Dmax == max Dn: False\n",
      "Dn<=Dmax: False\n",
      "Dmax<=D0: True\n",
      "pn<=Fn: True\n",
      "lambda_n<=pn/sl: True\n",
      "sum r: 0.0 Q_star: -0.45038202834422236\n",
      "rn>=Ln: False\n",
      "sum Ln: 95.85019657546025\n"
     ]
    }
   ],
   "source": [
    "T = 100\n",
    "N = len(MDs)\n",
    "lam_pro, p_pro, r_pro, Dmax_pro = np.zeros(N),np.zeros(N),np.zeros(N),0\n",
    "for _ in range(T):\n",
    "    l,p,r,d = baseline.proportional_baseline(esp,MDs,43)\n",
    "    lam_pro += l\n",
    "    p_pro += p \n",
    "    r_pro += r\n",
    "    Dmax_pro += d\n",
    "lam_pro, p_pro, r_pro, Dmax_pro = lam_pro/T, p_pro/T, r_pro/T, Dmax_pro/T\n",
    "print(f\"Proportional λ: {lam_pro}\")\n",
    "print(f\"Proportional p: {p_pro}\")  \n",
    "print(f\"Proportional Dmax: {Dmax_pro}\")\n",
    "print(f\"Proportional r: {r_pro}\")\n",
    "print(\"==============================\")\n",
    "print(\"social welfare:\",model.social_welfare(esp, MDs, lam_pro, p_pro))\n",
    "print(\"sum lambda:\", np.sum(lam_pro), \" lambda0:\", esp.lambda0)\n",
    "print([f\"MD {i+1} Dn: {md.delay(p_pro[i],lam_pro[i])}\" for i, md in enumerate(MDs)])\n",
    "print(\"Dmax:\", Dmax_pro, \" D0:\", esp.D0)\n",
    "max_Dn = max(md.delay(p_pro[i], lam_pro[i]) for i, md in enumerate(MDs))\n",
    "print(\"max Dn:\", max_Dn)\n",
    "print(\"Dmax == max Dn:\", Dmax_pro == max_Dn)\n",
    "print(\"Dn<=Dmax:\", all(md.delay(p_pro[i], lam_pro[i]) <= Dmax_pro for i, md in enumerate(MDs)))\n",
    "print(\"Dmax<=D0:\", Dmax_pro <= esp.D0)\n",
    "print(\"pn<=Fn:\", all(p_pro[i] <= md.Fn for i, md in enumerate(MDs)))\n",
    "print(\"lambda_n<=pn/sl:\", all(lam_pro[i] <= p_pro[i] / (md.s*md.l) for i, md in enumerate(MDs)))\n",
    "print(\"sum r:\", np.sum(r_pro), \"Q_star:\", esp.Q(max_Dn))\n",
    "print(\"rn>=Ln:\", all(r_pro[i] >= md.Ln(p_pro[i]) for i, md in enumerate(MDs)))\n",
    "print(\"sum Ln:\", np.sum([md.Ln(p_pro[i]) for i,md in enumerate(MDs)]))"
   ]
  },
  {
   "cell_type": "code",
   "execution_count": 5,
   "metadata": {},
   "outputs": [
    {
     "name": "stdout",
     "output_type": "stream",
     "text": [
      "Non-cooperative λ: [0.7726081  1.08482204 3.97698456 4.80775282 3.07090966 2.13084626\n",
      " 3.36065433 0.84728241 3.87612974 1.04394459 2.58084451 1.36089975\n",
      " 0.95548014 3.27859221 3.34645681 1.82610004 2.59226856 2.06310233\n",
      " 2.85357197 4.17074915]\n",
      "Non-cooperative p: [0.17909831 0.20168657 0.43389784 0.4996957  0.36103346 0.28804975\n",
      " 0.38444948 0.18271871 0.42536797 0.19968095 0.32152692 0.22385295\n",
      " 0.19124434 0.37759944 0.38295102 0.26134088 0.32216871 0.28076414\n",
      " 0.34487663 0.45108464]\n",
      "Non-cooperative Dmax: 0.7121227029129547\n",
      "Non-cooperative r: [0.164595   0.18535407 0.39876097 0.45923054 0.33179711 0.2647236\n",
      " 0.35331691 0.16792222 0.39092184 0.18351087 0.29548979 0.20572542\n",
      " 0.17575745 0.34702158 0.3519398  0.2401776  0.29607961 0.25802797\n",
      " 0.31694866 0.41455598]\n",
      "==============================\n",
      "social welfare: 28.94145461491831\n",
      "sum lambda: 50.00000000000001  lambda0: 50\n",
      "['MD 1 Dn: 0.70625742127276', 'MD 2 Dn: 0.7060099081112495', 'MD 3 Dn: 0.7060985168497894', 'MD 4 Dn: 0.7060285311532621', 'MD 5 Dn: 0.7060587588304957', 'MD 6 Dn: 0.706286679758323', 'MD 7 Dn: 0.7060836483496289', 'MD 8 Dn: 0.7060136792325032', 'MD 9 Dn: 0.706049975433349', 'MD 10 Dn: 0.7061428425467354', 'MD 11 Dn: 0.706026815879965', 'MD 12 Dn: 0.7060184644290333', 'MD 13 Dn: 0.7059997561780829', 'MD 14 Dn: 0.7060536216369643', 'MD 15 Dn: 0.706045410828995', 'MD 16 Dn: 0.7060473596179717', 'MD 17 Dn: 0.7059977504436061', 'MD 18 Dn: 0.706096098184343', 'MD 19 Dn: 0.7061865964392988', 'MD 20 Dn: 0.7062709623235908']\n",
      "Dmax: 0.7121227029129547  D0: 1\n",
      "max Dn: 0.706286679758323\n",
      "Dmax == max Dn: False\n",
      "Dn<=Dmax: True\n",
      "Dmax<=D0: True\n",
      "pn<=Fn: True\n",
      "lambda_n<=pn/sl: True\n",
      "sum r: 5.801856982508573 Q_star: 32.97659773861861\n",
      "rn>=Ln: True\n",
      "sum Ln: 4.035143123700299\n"
     ]
    }
   ],
   "source": [
    "lam_non, p_non, r_non, Dmax_non = baseline.non_cooperative_baseline(esp,MDs)\n",
    "print(f\"Non-cooperative λ: {lam_non}\")\n",
    "print(f\"Non-cooperative p: {p_non}\")  \n",
    "print(f\"Non-cooperative Dmax: {Dmax_non}\")\n",
    "print(f\"Non-cooperative r: {r_non}\")\n",
    "print(\"==============================\")\n",
    "print(\"social welfare:\",model.social_welfare(esp, MDs, lam_non, p_non))\n",
    "print(\"sum lambda:\", np.sum(lam_non), \" lambda0:\", esp.lambda0)\n",
    "print([f\"MD {i+1} Dn: {md.delay(p_non[i],lam_non[i])}\" for i, md in enumerate(MDs)])\n",
    "print(\"Dmax:\", Dmax_non, \" D0:\", esp.D0)\n",
    "max_Dn = max(md.delay(p_non[i], lam_non[i]) for i, md in enumerate(MDs))\n",
    "print(\"max Dn:\", max_Dn)\n",
    "print(\"Dmax == max Dn:\", Dmax_non == max_Dn)\n",
    "print(\"Dn<=Dmax:\", all(md.delay(p_non[i], lam_non[i]) <= Dmax_non for i, md in enumerate(MDs)))\n",
    "print(\"Dmax<=D0:\", Dmax_non <= esp.D0)\n",
    "print(\"pn<=Fn:\", all(p_non[i] <= md.Fn for i, md in enumerate(MDs)))\n",
    "print(\"lambda_n<=pn/sl:\", all(lam_non[i] <= p_non[i] / (md.s*md.l) for i, md in enumerate(MDs)))\n",
    "print(\"sum r:\", np.sum(r_non), \"Q_star:\", esp.Q(max_Dn))\n",
    "print(\"rn>=Ln:\", all(r_non[i] >= md.Ln(p_non[i]) for i, md in enumerate(MDs)))\n",
    "print(\"sum Ln:\", np.sum([md.Ln(p_non[i]) for i,md in enumerate(MDs)]))"
   ]
  },
  {
   "cell_type": "code",
   "execution_count": 6,
   "metadata": {},
   "outputs": [
    {
     "name": "stderr",
     "output_type": "stream",
     "text": [
      "d:\\Program\\Anaconda\\envs\\tensorflow\\lib\\site-packages\\scipy\\optimize\\_hessian_update_strategy.py:182: UserWarning: delta_grad == 0.0. Check if the approximated function is linear. If the function is linear better results can be obtained by defining the Hessian as zero instead of using quasi-Newton approximations.\n",
      "  warn('delta_grad == 0.0. Check if the approximated '\n"
     ]
    },
    {
     "name": "stdout",
     "output_type": "stream",
     "text": [
      "Contract λ: [2.15024064 2.15024108 2.47387319 4.93820328 2.47387319 2.47387319\n",
      " 2.47387319 2.15024108 2.47387319 2.15024108 2.47387319 2.15024108\n",
      " 2.15024064 2.47387319 2.47387319 2.47387285 2.47387319 2.47387319\n",
      " 2.47387319 2.47387319]\n",
      "Contract p: [0.30724826 0.30724832 0.35349217 0.70562073 0.35349217 0.35349217\n",
      " 0.35349217 0.30724832 0.35349217 0.30724832 0.35349217 0.30724832\n",
      " 0.30724826 0.35349217 0.35349217 0.35349212 0.35349217 0.35349217\n",
      " 0.35349217 0.35349217]\n",
      "Contract Dmax: 0.6157744229861072\n",
      "Contract r: [0.27085717 0.27085725 0.32153616 0.68752041 0.32153616 0.32153616\n",
      " 0.32153616 0.27085725 0.32153616 0.27085725 0.32153616 0.27085725\n",
      " 0.27085717 0.32153616 0.32153616 0.3215361  0.32153616 0.32153616\n",
      " 0.32153616 0.32153616]\n",
      "==============================\n",
      "social welfare: 31.993692518487958\n",
      "sum lambda: 49.99999999999999  lambda0: 50\n",
      "['MD 1 Dn: 0.6157744229861072', 'MD 2 Dn: 0.6013461204511663', 'MD 3 Dn: 0.5290858444194567', 'MD 4 Dn: 0.26842810733685807', 'MD 5 Dn: 0.5267788759898036', 'MD 6 Dn: 0.5401079786034731', 'MD 7 Dn: 0.5282222002540462', 'MD 8 Dn: 0.6015637772494511', 'MD 9 Dn: 0.5262701848575982', 'MD 10 Dn: 0.6090584473843544', 'MD 11 Dn: 0.5249307725206814', 'MD 12 Dn: 0.6018400551994457', 'MD 13 Dn: 0.6007607018856097', 'MD 14 Dn: 0.5264813003743868', 'MD 15 Dn: 0.5260060082578294', 'MD 16 Dn: 0.5261188404140112', 'MD 17 Dn: 0.5232533156726621', 'MD 18 Dn: 0.5289452858422513', 'MD 19 Dn: 0.5342237945589489', 'MD 20 Dn: 0.5391806017617942']\n",
      "Dmax: 0.6157744229861072  D0: 1\n",
      "max Dn: 0.6157744229861072\n",
      "Dmax == max Dn: True\n",
      "Dn<=Dmax: True\n",
      "Dmax<=D0: True\n",
      "pn<=Fn: True\n",
      "lambda_n<=pn/sl: True\n",
      "sum r: 6.492633716027582 Q_star: 36.98681113615919\n",
      "rn>=Ln: False\n",
      "sum Ln: 4.993118617671232\n"
     ]
    }
   ],
   "source": [
    "lam_con, p_con, r_con, Dmax_con = baseline.contract_type_based_baseline(esp,MDs,K=5)\n",
    "print(f\"Contract λ: {lam_con}\")\n",
    "print(f\"Contract p: {p_con}\")  \n",
    "print(f\"Contract Dmax: {Dmax_con}\")\n",
    "print(f\"Contract r: {r_con}\")\n",
    "print(\"==============================\")\n",
    "print(\"social welfare:\",model.social_welfare(esp, MDs, lam_con, p_con))\n",
    "print(\"sum lambda:\", np.sum(lam_con), \" lambda0:\", esp.lambda0)\n",
    "print([f\"MD {i+1} Dn: {md.delay(p_con[i],lam_con[i])}\" for i, md in enumerate(MDs)])\n",
    "print(\"Dmax:\", Dmax_con, \" D0:\", esp.D0)\n",
    "max_Dn = max(md.delay(p_con[i], lam_con[i]) for i, md in enumerate(MDs))\n",
    "print(\"max Dn:\", max_Dn)\n",
    "print(\"Dmax == max Dn:\", Dmax_con == max_Dn)\n",
    "print(\"Dn<=Dmax:\", all(md.delay(p_con[i], lam_con[i]) <= Dmax_con for i, md in enumerate(MDs)))\n",
    "print(\"Dmax<=D0:\", Dmax_con <= esp.D0)\n",
    "print(\"pn<=Fn:\", all(p_con[i] <= md.Fn for i, md in enumerate(MDs)))\n",
    "print(\"lambda_n<=pn/sl:\", all(lam_con[i] <= p_con[i] / (md.s*md.l) for i, md in enumerate(MDs)))\n",
    "print(\"sum r:\", np.sum(r_con), \"Q_star:\", esp.Q(max_Dn))\n",
    "print(\"rn>=Ln:\", all(r_con[i] >= md.Ln(p_con[i]) for i, md in enumerate(MDs)))\n",
    "print(\"sum Ln:\", np.sum([md.Ln(p_con[i]) for i,md in enumerate(MDs)]))"
   ]
  },
  {
   "cell_type": "code",
   "execution_count": 8,
   "metadata": {},
   "outputs": [
    {
     "name": "stdout",
     "output_type": "stream",
     "text": [
      "SWM λ: [1.42345901 1.58848294 3.35941511 3.8352023  2.81328704 2.23841129\n",
      " 3.0296706  1.60867226 3.31553924 1.70566602 2.54744574 1.85406426\n",
      " 1.46692064 2.98137636 3.00216948 2.17495141 2.6208072  2.32263976\n",
      " 2.68936375 3.42245555]\n",
      "SWM p: [0.33373295 0.3385497  0.48313217 0.51889013 0.43812476 0.39997657\n",
      " 0.45625761 0.34028659 0.47801667 0.35232526 0.4158139  0.36007268\n",
      " 0.32849791 0.45140318 0.4527977  0.38668399 0.42074443 0.40010942\n",
      " 0.43252091 0.49413587]\n",
      "SWM Dmax: 0.38805954128699\n",
      "SWM r: [1.9346393  1.9219414  1.91374347 1.92423121 1.91332152 1.93582625\n",
      " 1.93516346 1.94211313 1.91812711 1.9464748  1.92612957 1.93782039\n",
      " 1.91515598 1.93097981 1.91975591 1.94746291 1.94456006 1.95179012\n",
      " 1.92870668 1.89904321]\n",
      "==============================\n",
      "social welfare: 35.66515289704543\n",
      "sum lambda: 50.0  lambda0: 50\n",
      "['MD 1 Dn: 0.388059541279681', 'MD 2 Dn: 0.3880595412777716', 'MD 3 Dn: 0.3880595412794515', 'MD 4 Dn: 0.3880595412779402', 'MD 5 Dn: 0.3880595412771512', 'MD 6 Dn: 0.3880595412771468', 'MD 7 Dn: 0.38805954127972286', 'MD 8 Dn: 0.38805954127723935', 'MD 9 Dn: 0.38805954127739556', 'MD 10 Dn: 0.38805954127598963', 'MD 11 Dn: 0.3880595412769819', 'MD 12 Dn: 0.3880595412780199', 'MD 13 Dn: 0.3880595412778624', 'MD 14 Dn: 0.3880595412788526', 'MD 15 Dn: 0.3880595412782964', 'MD 16 Dn: 0.3880595412769409', 'MD 17 Dn: 0.3880595412784977', 'MD 18 Dn: 0.3880595412763695', 'MD 19 Dn: 0.388059541277061', 'MD 20 Dn: 0.38805954127511993']\n",
      "Dmax: 0.38805954128699  D0: 1\n",
      "max Dn: 0.38805954127972286\n",
      "Dmax == max Dn: False\n",
      "Dn<=Dmax: True\n",
      "Dmax<=D0: True\n",
      "pn<=Fn: True\n",
      "lambda_n<=pn/sl: True\n",
      "sum r: 38.58698628685827 Q_star: 41.829270431871315\n",
      "rn>=Ln: True\n",
      "sum Ln: 6.164117534825882\n"
     ]
    }
   ],
   "source": [
    "lam_swm, p_swm, Dmax_swm = baseline.social_welfare_maximization(esp, MDs)\n",
    "print(f\"SWM λ: {lam_swm}\")\n",
    "print(f\"SWM p: {p_swm}\")  \n",
    "print(f\"SWM Dmax: {Dmax_swm}\")\n",
    "r_swm = baseline.solve_r_NBP(esp, MDs, Dmax_swm, lam_swm, p_swm)\n",
    "print(f\"SWM r: {r_swm}\")\n",
    "print(\"==============================\")\n",
    "print(\"social welfare:\",model.social_welfare(esp, MDs, lam_swm, p_swm))\n",
    "print(\"sum lambda:\", np.sum(lam_swm), \" lambda0:\", esp.lambda0)\n",
    "print([f\"MD {i+1} Dn: {md.delay(p_swm[i],lam_swm[i])}\" for i, md in enumerate(MDs)])\n",
    "print(\"Dmax:\", Dmax_swm, \" D0:\", esp.D0)\n",
    "max_Dn = max(md.delay(p_swm[i], lam_swm[i]) for i, md in enumerate(MDs))\n",
    "print(\"max Dn:\", max_Dn)\n",
    "print(\"Dmax == max Dn:\", Dmax_swm == max_Dn)\n",
    "print(\"Dn<=Dmax:\", all(md.delay(p_swm[i], lam_swm[i]) <= Dmax_swm for i, md in enumerate(MDs)))\n",
    "print(\"Dmax<=D0:\", Dmax_swm <= esp.D0)\n",
    "print(\"pn<=Fn:\", all(p_swm[i] <= md.Fn for i, md in enumerate(MDs)))\n",
    "print(\"lambda_n<=pn/sl:\", all(lam_swm[i] <= p_swm[i] / (md.s*md.l) for i, md in enumerate(MDs)))\n",
    "print(\"sum r:\", np.sum(r_swm), \"Q_star:\", esp.Q(max_Dn))\n",
    "print(\"rn>=Ln:\", all(r_swm[i] >= md.Ln(p_swm[i]) for i, md in enumerate(MDs)))\n",
    "print(\"sum Ln:\", np.sum([md.Ln(p_swm[i]) for i,md in enumerate(MDs)]))"
   ]
  },
  {
   "cell_type": "code",
   "execution_count": null,
   "metadata": {},
   "outputs": [],
   "source": [
    "lam_opt, p_opt, r_opt, Dmax_opt = baseline.optimal_NBP(esp, MDs)\n",
    "print(f\"Optimal λ: {lam_opt}\")\n",
    "print(f\"Optimal p: {p_opt}\")  \n",
    "print(f\"Optimal r: {r_opt}\")\n",
    "print(f\"Optimal Dmax: {Dmax_opt}\")\n",
    "print(\"==============================\")\n",
    "print(\"social welfare:\",model.social_welfare(esp, MDs, lam_opt, p_opt))\n",
    "print(\"sum lambda:\", np.sum(lam_opt), \" lambda0:\", esp.lambda0)\n",
    "print([f\"MD {i+1} Dn: {md.delay(p_opt[i],lam_opt[i])}\" for i, md in enumerate(MDs)])\n",
    "print(\"Dmax:\", Dmax_opt, \" D0:\", esp.D0)\n",
    "print(\"max Dn:\", max(md.delay(p_opt[i], lam_opt[i]) for i, md in enumerate(MDs)))\n",
    "print(\"Dmax == max Dn:\", Dmax_opt == max(md.delay(p_opt[i], lam_opt[i]) for i, md in enumerate(MDs)))\n",
    "print(\"Dn<=Dmax:\", all(md.delay(p_opt[i], lam_opt[i]) <= Dmax_opt for i, md in enumerate(MDs)))\n",
    "print(\"Dmax<=D0:\", Dmax_opt <= esp.D0)\n",
    "print(\"pn<=Fn:\", all(p_opt[i] <= md.Fn for i, md in enumerate(MDs)))\n",
    "print(\"lambda_n<=pn/sl:\", all(lam_opt[i] <= p_opt[i] / (md.s*md.l) for i, md in enumerate(MDs)))\n",
    "print(\"sum r:\", np.sum(r_opt), \"Q_star:\", esp.Q(Dmax_opt))\n",
    "print(\"rn>=Ln:\", all(r_opt[i] >= md.Ln(p_opt[i]) for i, md in enumerate(MDs)))\n",
    "print(\"sum Ln:\", np.sum([md.Ln(p_opt[i]) for i,md in enumerate(MDs)]))"
   ]
  },
  {
   "cell_type": "code",
   "execution_count": 9,
   "metadata": {},
   "outputs": [
    {
     "name": "stdout",
     "output_type": "stream",
     "text": [
      "ADMM λ: [1.07010069 1.18525609 2.24524765 2.44689047 1.95044944 1.57944056\n",
      " 2.01637771 1.13693844 2.20613277 1.20139455 1.76317761 1.31185314\n",
      " 1.12170213 1.9959694  2.03596841 1.48329738 1.75254244 1.56283889\n",
      " 1.850347   2.32511683 1.84750031 1.53676591 1.92741677 2.43310705\n",
      " 1.31029405 1.2808585  1.01366635 1.01131876 1.67780695 1.72022373]\n",
      "ADMM p: [0.26240504 0.26615601 0.35285898 0.36748191 0.32841426 0.30383099\n",
      " 0.33422617 0.2623706  0.34867992 0.27032458 0.31274894 0.27646552\n",
      " 0.26085687 0.3319453  0.33496909 0.29079753 0.31128216 0.29821412\n",
      " 0.32321649 0.36312014 0.32032854 0.29446426 0.32616063 0.36775725\n",
      " 0.27838647 0.27452229 0.25537964 0.26024515 0.30649042 0.30965805]\n",
      "ADMM Dmax: 0.4766778672211501\n",
      "ADMM r: [2.98630727 2.9740687  2.92822852 2.92667225 2.93971808 2.96826971\n",
      " 2.95159493 2.98728536 2.93250817 2.98792591 2.95522643 2.97929304\n",
      " 2.97188981 2.94930451 2.9404558  2.97863427 2.96720946 2.97816867\n",
      " 2.95333314 2.914648   2.943481   2.9725772  2.93334735 2.92688582\n",
      " 2.95671769 2.97161329 2.99653015 2.97718095 2.95969185 2.94072795]\n",
      "==============================\n",
      "social welfare: 88.2841377290702\n",
      "sum lambda: 50.0  lambda0: 50\n",
      "['MD 1 Dn: 0.4766817804385812', 'MD 2 Dn: 0.4766772940556847', 'MD 3 Dn: 0.4766779137047992', 'MD 4 Dn: 0.476678363320732', 'MD 5 Dn: 0.4766771577762332', 'MD 6 Dn: 0.4766765519914195', 'MD 7 Dn: 0.4766774547530242', 'MD 8 Dn: 0.4766770499624472', 'MD 9 Dn: 0.4766778872149008', 'MD 10 Dn: 0.47667745000251927', 'MD 11 Dn: 0.47667676625298033', 'MD 12 Dn: 0.476676476107192', 'MD 13 Dn: 0.4766779314155157', 'MD 14 Dn: 0.4766774064172332', 'MD 15 Dn: 0.4766774084997119', 'MD 16 Dn: 0.47667642441733804', 'MD 17 Dn: 0.47667691783542593', 'MD 18 Dn: 0.4766764452202966', 'MD 19 Dn: 0.4766769087284006', 'MD 20 Dn: 0.4766780171519545', 'MD 21 Dn: 0.47667688934259467', 'MD 22 Dn: 0.4766764836900965', 'MD 23 Dn: 0.47667704615544954', 'MD 24 Dn: 0.4766783573598351', 'MD 25 Dn: 0.4766776126427092', 'MD 26 Dn: 0.47667696292823286', 'MD 27 Dn: 0.47667909416129406', 'MD 28 Dn: 0.4766905888653715', 'MD 29 Dn: 0.47667667089230153', 'MD 30 Dn: 0.476676608475216']\n",
      "Dmax: 0.4766778672211501  D0: 1\n",
      "max Dn: 0.4766905888653715\n",
      "Dmax == max Dn: False\n",
      "Dn<=Dmax: False\n",
      "Dmax<=D0: True\n",
      "pn<=Fn: True\n",
      "lambda_n<=pn/sl: True\n",
      "sum r: 88.74949526687445 Q_star: 94.26739323240554\n",
      "rn>=Ln: True\n",
      "sum Ln: 5.983116143747685\n"
     ]
    }
   ],
   "source": [
    "lamb_admm, p_admm, Dmax_admm = NBS.ADMM(esp, MDs)\n",
    "print(f\"ADMM λ: {lamb_admm}\")\n",
    "print(f\"ADMM p: {p_admm}\")  \n",
    "print(f\"ADMM Dmax: {Dmax_admm}\")\n",
    "r_admm = NBS.negotiation(esp, MDs,lamb_admm, p_admm, Dmax_admm)\n",
    "print(f\"ADMM r: {r_admm}\")\n",
    "print(\"==============================\")\n",
    "print(\"social welfare:\",model.social_welfare(esp, MDs, lamb_admm, p_admm))\n",
    "print(\"sum lambda:\", np.sum(lamb_admm), \" lambda0:\", esp.lambda0)\n",
    "print([f\"MD {i+1} Dn: {md.delay(p_admm[i],lamb_admm[i])}\" for i, md in enumerate(MDs)])\n",
    "print(\"Dmax:\", Dmax_admm, \" D0:\", esp.D0)\n",
    "print(\"max Dn:\", max(md.delay(p_admm[i], lamb_admm[i]) for i, md in enumerate(MDs)))\n",
    "print(\"Dmax == max Dn:\", Dmax_admm == max(md.delay(p_admm[i], lamb_admm[i]) for i, md in enumerate(MDs)))\n",
    "print(\"Dn<=Dmax:\", all(md.delay(p_admm[i], lamb_admm[i]) <= Dmax_admm for i, md in enumerate(MDs)))\n",
    "print(\"Dmax<=D0:\", Dmax_admm <= esp.D0)\n",
    "print(\"pn<=Fn:\", all(p_admm[i] <= md.Fn for i, md in enumerate(MDs)))\n",
    "print(\"lambda_n<=pn/sl:\", all(lamb_admm[i] <= p_admm[i] / (md.s*md.l) for i, md in enumerate(MDs)))\n",
    "print(\"sum r:\", np.sum(r_admm), \"Q_star:\", esp.Q(Dmax_admm))\n",
    "print(\"rn>=Ln:\", all(r_admm[i] >= md.Ln(p_admm[i]) for i, md in enumerate(MDs)))\n",
    "print(\"sum Ln:\", np.sum([md.Ln(p_admm[i]) for i,md in enumerate(MDs)]))"
   ]
  },
  {
   "cell_type": "code",
   "execution_count": 9,
   "metadata": {},
   "outputs": [
    {
     "name": "stdout",
     "output_type": "stream",
     "text": [
      "Nash Product SWM: 33.87869366086002\n",
      "Nash Product ADMM: 33.86067989729551\n",
      "Nash Product Proportional: nan\n",
      "Nash Product Uniform: nan\n",
      "Nash Product Non-cooperative: -86.52383586523801\n",
      "Nash Product Contract: -inf\n",
      "=============================\n",
      "SW SWM: 88.33384951949053\n",
      "SW ADMM: 88.2841377290702\n",
      "SW Proportional: -49.979860581700706\n",
      "SW Uniform: -50.85816304968958\n",
      "SW Non-cooperative: 84.1729598354875\n",
      "SW Contract: 97.0\n",
      "=============================\n",
      "Dmax SWM: 0.4765305235523106\n",
      "Dmax ADMM: 0.4766778672211501\n",
      "Dmax Proportional: 0.9779738123526548\n",
      "Dmax Uniform: 0.9781732634978643\n",
      "Dmax Non-cooperative: 0.749216419875129\n",
      "Dmax Contract: 0\n"
     ]
    },
    {
     "name": "stderr",
     "output_type": "stream",
     "text": [
      "c:\\Users\\a1831\\Desktop\\NBS_project\\src\\model.py:11: RuntimeWarning: invalid value encountered in log\n",
      "  n0 = ESP.omega_0 * np.log(ESP.Q(Dmax)-np.sum(r))\n",
      "c:\\Users\\a1831\\Desktop\\NBS_project\\src\\model.py:12: RuntimeWarning: invalid value encountered in log\n",
      "  ns = [md.omega_n*np.log(rn-md.Ln(pn)) for (md,rn,pn) in zip(MDs,r,p)]\n",
      "c:\\Users\\a1831\\Desktop\\NBS_project\\src\\model.py:12: RuntimeWarning: divide by zero encountered in log\n",
      "  ns = [md.omega_n*np.log(rn-md.Ln(pn)) for (md,rn,pn) in zip(MDs,r,p)]\n"
     ]
    }
   ],
   "source": [
    "# print(\"Nash Product Opt:\",model.nash_product_log(esp, MDs, lam_opt, p_opt, r_opt))\n",
    "print(\"Nash Product SWM:\",model.nash_product_log(esp, MDs, lam_swm, p_swm, r_swm))\n",
    "print(\"Nash Product ADMM:\",model.nash_product_log(esp, MDs, lamb_admm, p_admm, r_admm))\n",
    "print(\"Nash Product Proportional:\",model.nash_product_log(esp, MDs, lam_pro, p_pro, r_pro))\n",
    "print(\"Nash Product Uniform:\",model.nash_product_log(esp, MDs, lam_uni, p_uni, r_uni))\n",
    "print(\"Nash Product Non-cooperative:\",model.nash_product_log(esp, MDs, lam_non, p_non, r_non))\n",
    "print(\"Nash Product Contract:\",model.nash_product_log(esp, MDs, lam_con, p_con, r_con))\n",
    "print(\"=============================\")\n",
    "# print(\"SW Opt:\",model.social_welfare(esp, MDs, lam_opt, p_opt))\n",
    "print(\"SW SWM:\",model.social_welfare(esp, MDs, lam_swm, p_swm))\n",
    "print(\"SW ADMM:\",model.social_welfare(esp, MDs, lamb_admm, p_admm))\n",
    "print(\"SW Proportional:\",model.social_welfare(esp, MDs, lam_pro, p_pro))\n",
    "print(\"SW Uniform:\",model.social_welfare(esp, MDs, lam_uni, p_uni))\n",
    "print(\"SW Non-cooperative:\",model.social_welfare(esp, MDs, lam_non, p_non))\n",
    "print(\"SW Contract:\",model.social_welfare(esp, MDs, lam_con, p_con))\n",
    "print(\"=============================\")\n",
    "# print(\"Dmax Opt:\", Dmax_opt)\n",
    "print(\"Dmax SWM:\", Dmax_swm)\n",
    "print(\"Dmax ADMM:\", Dmax_admm)\n",
    "print(\"Dmax Proportional:\", Dmax_pro)\n",
    "print(\"Dmax Uniform:\", Dmax_uni)\n",
    "print(\"Dmax Non-cooperative:\", Dmax_non)\n",
    "print(\"Dmax Contract:\", Dmax_con)"
   ]
  }
 ],
 "metadata": {
  "colab": {
   "authorship_tag": "ABX9TyPdgnMAVga6FnqKiT4PPNVw",
   "mount_file_id": "1gBbxAffnNWxKVgA38_bI-qo56li6ucKz",
   "provenance": []
  },
  "kernelspec": {
   "display_name": "tensorflow",
   "language": "python",
   "name": "python3"
  },
  "language_info": {
   "codemirror_mode": {
    "name": "ipython",
    "version": 3
   },
   "file_extension": ".py",
   "mimetype": "text/x-python",
   "name": "python",
   "nbconvert_exporter": "python",
   "pygments_lexer": "ipython3",
   "version": "3.8.5"
  }
 },
 "nbformat": 4,
 "nbformat_minor": 0
}
